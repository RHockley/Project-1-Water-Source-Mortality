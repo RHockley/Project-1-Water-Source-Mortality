{
 "cells": [
  {
   "cell_type": "code",
   "execution_count": 3,
   "id": "0fdbb3af",
   "metadata": {},
   "outputs": [],
   "source": [
    "import pandas as pd\n",
    "import os\n",
    "import numpy as np\n",
    "import matplotlib.pyplot as plt\n",
    "import scipy.stats as st\n",
    "from scipy.stats import linregress"
   ]
  },
  {
   "cell_type": "code",
   "execution_count": 4,
   "id": "56b59359",
   "metadata": {},
   "outputs": [],
   "source": [
    "data_vis = \"../sources/gpd_dia_V1.csv\"\n",
    "\n",
    "gdpd = pd.read_csv(data_vis, encoding = \"utf-8\")\n",
    "data_df = pd.DataFrame(gdpd)\n",
    "\n"
   ]
  },
  {
   "cell_type": "code",
   "execution_count": 5,
   "id": "8ece9d9f",
   "metadata": {},
   "outputs": [
    {
     "data": {
      "text/html": [
       "<div>\n",
       "<style scoped>\n",
       "    .dataframe tbody tr th:only-of-type {\n",
       "        vertical-align: middle;\n",
       "    }\n",
       "\n",
       "    .dataframe tbody tr th {\n",
       "        vertical-align: top;\n",
       "    }\n",
       "\n",
       "    .dataframe thead th {\n",
       "        text-align: right;\n",
       "    }\n",
       "</style>\n",
       "<table border=\"1\" class=\"dataframe\">\n",
       "  <thead>\n",
       "    <tr style=\"text-align: right;\">\n",
       "      <th></th>\n",
       "      <th>Country Name</th>\n",
       "      <th>Code</th>\n",
       "      <th>Year</th>\n",
       "      <th>Deaths - Cause: Diarrheal diseases - Risk: Child growth failure - Sex: Both - Age: Under 5 (Number)</th>\n",
       "      <th>Deaths - Cause: Diarrheal diseases - Risk: No access to handwashing facility - Sex: Both - Age: Under 5 (Number)</th>\n",
       "      <th>Deaths - Cause: Diarrheal diseases - Risk: Suboptimal breastfeeding - Sex: Both - Age: Under 5 (Number)</th>\n",
       "      <th>Deaths - Cause: Diarrheal diseases - Risk: Unsafe water source - Sex: Both - Age: Under 5 (Number)</th>\n",
       "      <th>Deaths - Cause: Diarrheal diseases - Risk: Zinc deficiency - Sex: Both - Age: Under 5 (Number)</th>\n",
       "      <th>Deaths - Cause: Diarrheal diseases - Risk: Low birth weight - Sex: Both - Age: Under 5 (Number)</th>\n",
       "      <th>Deaths - Cause: Diarrheal diseases - Risk: Short gestation - Sex: Both - Age: Under 5 (Number)</th>\n",
       "      <th>Deaths - Cause: Diarrheal diseases - Risk: Unsafe sanitation - Sex: Both - Age: Under 5 (Number)</th>\n",
       "      <th>Deaths - Cause: Diarrheal diseases - Risk: Vitamin A deficiency - Sex: Both - Age: Under 5 (Number)</th>\n",
       "      <th>Total Deaths</th>\n",
       "      <th>GDP per capita (US$)</th>\n",
       "    </tr>\n",
       "  </thead>\n",
       "  <tbody>\n",
       "    <tr>\n",
       "      <th>0</th>\n",
       "      <td>Afghanistan</td>\n",
       "      <td>AFG</td>\n",
       "      <td>2015</td>\n",
       "      <td>4053</td>\n",
       "      <td>1265</td>\n",
       "      <td>1356</td>\n",
       "      <td>4598</td>\n",
       "      <td>69</td>\n",
       "      <td>480</td>\n",
       "      <td>338</td>\n",
       "      <td>3238</td>\n",
       "      <td>314</td>\n",
       "      <td>15711</td>\n",
       "      <td>556.007221</td>\n",
       "    </tr>\n",
       "    <tr>\n",
       "      <th>1</th>\n",
       "      <td>Afghanistan</td>\n",
       "      <td>AFG</td>\n",
       "      <td>2016</td>\n",
       "      <td>3952</td>\n",
       "      <td>1227</td>\n",
       "      <td>1316</td>\n",
       "      <td>4483</td>\n",
       "      <td>68</td>\n",
       "      <td>463</td>\n",
       "      <td>327</td>\n",
       "      <td>3142</td>\n",
       "      <td>297</td>\n",
       "      <td>15275</td>\n",
       "      <td>512.012778</td>\n",
       "    </tr>\n",
       "    <tr>\n",
       "      <th>2</th>\n",
       "      <td>Afghanistan</td>\n",
       "      <td>AFG</td>\n",
       "      <td>2017</td>\n",
       "      <td>3908</td>\n",
       "      <td>1209</td>\n",
       "      <td>1290</td>\n",
       "      <td>4437</td>\n",
       "      <td>67</td>\n",
       "      <td>461</td>\n",
       "      <td>325</td>\n",
       "      <td>3095</td>\n",
       "      <td>285</td>\n",
       "      <td>15077</td>\n",
       "      <td>516.679862</td>\n",
       "    </tr>\n",
       "    <tr>\n",
       "      <th>3</th>\n",
       "      <td>Afghanistan</td>\n",
       "      <td>AFG</td>\n",
       "      <td>2018</td>\n",
       "      <td>3345</td>\n",
       "      <td>1031</td>\n",
       "      <td>1099</td>\n",
       "      <td>3807</td>\n",
       "      <td>55</td>\n",
       "      <td>401</td>\n",
       "      <td>283</td>\n",
       "      <td>2641</td>\n",
       "      <td>238</td>\n",
       "      <td>12900</td>\n",
       "      <td>485.668419</td>\n",
       "    </tr>\n",
       "    <tr>\n",
       "      <th>4</th>\n",
       "      <td>Afghanistan</td>\n",
       "      <td>AFG</td>\n",
       "      <td>2019</td>\n",
       "      <td>3139</td>\n",
       "      <td>963</td>\n",
       "      <td>1004</td>\n",
       "      <td>3568</td>\n",
       "      <td>53</td>\n",
       "      <td>368</td>\n",
       "      <td>261</td>\n",
       "      <td>2466</td>\n",
       "      <td>220</td>\n",
       "      <td>12042</td>\n",
       "      <td>494.179350</td>\n",
       "    </tr>\n",
       "  </tbody>\n",
       "</table>\n",
       "</div>"
      ],
      "text/plain": [
       "  Country Name Code  Year  \\\n",
       "0  Afghanistan  AFG  2015   \n",
       "1  Afghanistan  AFG  2016   \n",
       "2  Afghanistan  AFG  2017   \n",
       "3  Afghanistan  AFG  2018   \n",
       "4  Afghanistan  AFG  2019   \n",
       "\n",
       "   Deaths - Cause: Diarrheal diseases - Risk: Child growth failure - Sex: Both - Age: Under 5 (Number)  \\\n",
       "0                                               4053                                                     \n",
       "1                                               3952                                                     \n",
       "2                                               3908                                                     \n",
       "3                                               3345                                                     \n",
       "4                                               3139                                                     \n",
       "\n",
       "   Deaths - Cause: Diarrheal diseases - Risk: No access to handwashing facility - Sex: Both - Age: Under 5 (Number)  \\\n",
       "0                                               1265                                                                  \n",
       "1                                               1227                                                                  \n",
       "2                                               1209                                                                  \n",
       "3                                               1031                                                                  \n",
       "4                                                963                                                                  \n",
       "\n",
       "   Deaths - Cause: Diarrheal diseases - Risk: Suboptimal breastfeeding - Sex: Both - Age: Under 5 (Number)  \\\n",
       "0                                               1356                                                         \n",
       "1                                               1316                                                         \n",
       "2                                               1290                                                         \n",
       "3                                               1099                                                         \n",
       "4                                               1004                                                         \n",
       "\n",
       "   Deaths - Cause: Diarrheal diseases - Risk: Unsafe water source - Sex: Both - Age: Under 5 (Number)  \\\n",
       "0                                               4598                                                    \n",
       "1                                               4483                                                    \n",
       "2                                               4437                                                    \n",
       "3                                               3807                                                    \n",
       "4                                               3568                                                    \n",
       "\n",
       "   Deaths - Cause: Diarrheal diseases - Risk: Zinc deficiency - Sex: Both - Age: Under 5 (Number)  \\\n",
       "0                                                 69                                                \n",
       "1                                                 68                                                \n",
       "2                                                 67                                                \n",
       "3                                                 55                                                \n",
       "4                                                 53                                                \n",
       "\n",
       "   Deaths - Cause: Diarrheal diseases - Risk: Low birth weight - Sex: Both - Age: Under 5 (Number)  \\\n",
       "0                                                480                                                 \n",
       "1                                                463                                                 \n",
       "2                                                461                                                 \n",
       "3                                                401                                                 \n",
       "4                                                368                                                 \n",
       "\n",
       "   Deaths - Cause: Diarrheal diseases - Risk: Short gestation - Sex: Both - Age: Under 5 (Number)  \\\n",
       "0                                                338                                                \n",
       "1                                                327                                                \n",
       "2                                                325                                                \n",
       "3                                                283                                                \n",
       "4                                                261                                                \n",
       "\n",
       "   Deaths - Cause: Diarrheal diseases - Risk: Unsafe sanitation - Sex: Both - Age: Under 5 (Number)  \\\n",
       "0                                               3238                                                  \n",
       "1                                               3142                                                  \n",
       "2                                               3095                                                  \n",
       "3                                               2641                                                  \n",
       "4                                               2466                                                  \n",
       "\n",
       "   Deaths - Cause: Diarrheal diseases - Risk: Vitamin A deficiency - Sex: Both - Age: Under 5 (Number)  \\\n",
       "0                                                314                                                     \n",
       "1                                                297                                                     \n",
       "2                                                285                                                     \n",
       "3                                                238                                                     \n",
       "4                                                220                                                     \n",
       "\n",
       "   Total Deaths  GDP per capita (US$)  \n",
       "0         15711            556.007221  \n",
       "1         15275            512.012778  \n",
       "2         15077            516.679862  \n",
       "3         12900            485.668419  \n",
       "4         12042            494.179350  "
      ]
     },
     "execution_count": 5,
     "metadata": {},
     "output_type": "execute_result"
    }
   ],
   "source": [
    "data_df.head()"
   ]
  },
  {
   "cell_type": "code",
   "execution_count": 6,
   "id": "89f4c1bb",
   "metadata": {},
   "outputs": [
    {
     "data": {
      "text/plain": [
       "Country Name                                                                                                         object\n",
       "Code                                                                                                                 object\n",
       "Year                                                                                                                  int64\n",
       "Deaths - Cause: Diarrheal diseases - Risk: Child growth failure - Sex: Both - Age: Under 5 (Number)                   int64\n",
       "Deaths - Cause: Diarrheal diseases - Risk: No access to handwashing facility - Sex: Both - Age: Under 5 (Number)      int64\n",
       "Deaths - Cause: Diarrheal diseases - Risk: Suboptimal breastfeeding - Sex: Both - Age: Under 5 (Number)               int64\n",
       "Deaths - Cause: Diarrheal diseases - Risk: Unsafe water source - Sex: Both - Age: Under 5 (Number)                    int64\n",
       "Deaths - Cause: Diarrheal diseases - Risk: Zinc deficiency - Sex: Both - Age: Under 5 (Number)                        int64\n",
       "Deaths - Cause: Diarrheal diseases - Risk: Low birth weight - Sex: Both - Age: Under 5 (Number)                       int64\n",
       "Deaths - Cause: Diarrheal diseases - Risk: Short gestation - Sex: Both - Age: Under 5 (Number)                        int64\n",
       "Deaths - Cause: Diarrheal diseases - Risk: Unsafe sanitation - Sex: Both - Age: Under 5 (Number)                      int64\n",
       "Deaths - Cause: Diarrheal diseases - Risk: Vitamin A deficiency - Sex: Both - Age: Under 5 (Number)                   int64\n",
       "Total Deaths                                                                                                          int64\n",
       "GDP per capita (US$)                                                                                                float64\n",
       "dtype: object"
      ]
     },
     "execution_count": 6,
     "metadata": {},
     "output_type": "execute_result"
    }
   ],
   "source": [
    "data_df.dtypes"
   ]
  },
  {
   "cell_type": "code",
   "execution_count": 7,
   "id": "0f4bfc4e",
   "metadata": {},
   "outputs": [],
   "source": [
    "overall_df = data_df.copy()"
   ]
  },
  {
   "cell_type": "code",
   "execution_count": 8,
   "id": "b7dd373e",
   "metadata": {},
   "outputs": [],
   "source": [
    "grouped_overall_df = overall_df.groupby([\"Country Name\"]).sum()"
   ]
  },
  {
   "cell_type": "code",
   "execution_count": 9,
   "id": "186e3208",
   "metadata": {},
   "outputs": [],
   "source": [
    "group_all = grouped_overall_df[grouped_overall_df.index != 'World']"
   ]
  },
  {
   "cell_type": "code",
   "execution_count": 10,
   "id": "376e5be5",
   "metadata": {},
   "outputs": [
    {
     "data": {
      "text/html": [
       "<div>\n",
       "<style scoped>\n",
       "    .dataframe tbody tr th:only-of-type {\n",
       "        vertical-align: middle;\n",
       "    }\n",
       "\n",
       "    .dataframe tbody tr th {\n",
       "        vertical-align: top;\n",
       "    }\n",
       "\n",
       "    .dataframe thead th {\n",
       "        text-align: right;\n",
       "    }\n",
       "</style>\n",
       "<table border=\"1\" class=\"dataframe\">\n",
       "  <thead>\n",
       "    <tr style=\"text-align: right;\">\n",
       "      <th></th>\n",
       "      <th>Year</th>\n",
       "      <th>Deaths - Cause: Diarrheal diseases - Risk: Child growth failure - Sex: Both - Age: Under 5 (Number)</th>\n",
       "      <th>Deaths - Cause: Diarrheal diseases - Risk: No access to handwashing facility - Sex: Both - Age: Under 5 (Number)</th>\n",
       "      <th>Deaths - Cause: Diarrheal diseases - Risk: Suboptimal breastfeeding - Sex: Both - Age: Under 5 (Number)</th>\n",
       "      <th>Deaths - Cause: Diarrheal diseases - Risk: Unsafe water source - Sex: Both - Age: Under 5 (Number)</th>\n",
       "      <th>Deaths - Cause: Diarrheal diseases - Risk: Zinc deficiency - Sex: Both - Age: Under 5 (Number)</th>\n",
       "      <th>Deaths - Cause: Diarrheal diseases - Risk: Low birth weight - Sex: Both - Age: Under 5 (Number)</th>\n",
       "      <th>Deaths - Cause: Diarrheal diseases - Risk: Short gestation - Sex: Both - Age: Under 5 (Number)</th>\n",
       "      <th>Deaths - Cause: Diarrheal diseases - Risk: Unsafe sanitation - Sex: Both - Age: Under 5 (Number)</th>\n",
       "      <th>Deaths - Cause: Diarrheal diseases - Risk: Vitamin A deficiency - Sex: Both - Age: Under 5 (Number)</th>\n",
       "      <th>Total Deaths</th>\n",
       "      <th>GDP per capita (US$)</th>\n",
       "    </tr>\n",
       "    <tr>\n",
       "      <th>Country Name</th>\n",
       "      <th></th>\n",
       "      <th></th>\n",
       "      <th></th>\n",
       "      <th></th>\n",
       "      <th></th>\n",
       "      <th></th>\n",
       "      <th></th>\n",
       "      <th></th>\n",
       "      <th></th>\n",
       "      <th></th>\n",
       "      <th></th>\n",
       "      <th></th>\n",
       "    </tr>\n",
       "  </thead>\n",
       "  <tbody>\n",
       "    <tr>\n",
       "      <th>Afghanistan</th>\n",
       "      <td>10085</td>\n",
       "      <td>18397</td>\n",
       "      <td>5695</td>\n",
       "      <td>6065</td>\n",
       "      <td>20893</td>\n",
       "      <td>312</td>\n",
       "      <td>2173</td>\n",
       "      <td>1534</td>\n",
       "      <td>14582</td>\n",
       "      <td>1354</td>\n",
       "      <td>71005</td>\n",
       "      <td>2564.547630</td>\n",
       "    </tr>\n",
       "    <tr>\n",
       "      <th>Albania</th>\n",
       "      <td>10085</td>\n",
       "      <td>5</td>\n",
       "      <td>0</td>\n",
       "      <td>0</td>\n",
       "      <td>5</td>\n",
       "      <td>0</td>\n",
       "      <td>0</td>\n",
       "      <td>0</td>\n",
       "      <td>0</td>\n",
       "      <td>0</td>\n",
       "      <td>10</td>\n",
       "      <td>23291.756860</td>\n",
       "    </tr>\n",
       "    <tr>\n",
       "      <th>Algeria</th>\n",
       "      <td>10085</td>\n",
       "      <td>1040</td>\n",
       "      <td>114</td>\n",
       "      <td>425</td>\n",
       "      <td>770</td>\n",
       "      <td>5</td>\n",
       "      <td>94</td>\n",
       "      <td>78</td>\n",
       "      <td>258</td>\n",
       "      <td>9</td>\n",
       "      <td>2793</td>\n",
       "      <td>20365.727040</td>\n",
       "    </tr>\n",
       "    <tr>\n",
       "      <th>American Samoa</th>\n",
       "      <td>10085</td>\n",
       "      <td>0</td>\n",
       "      <td>0</td>\n",
       "      <td>0</td>\n",
       "      <td>0</td>\n",
       "      <td>0</td>\n",
       "      <td>0</td>\n",
       "      <td>0</td>\n",
       "      <td>0</td>\n",
       "      <td>0</td>\n",
       "      <td>0</td>\n",
       "      <td>58338.684540</td>\n",
       "    </tr>\n",
       "    <tr>\n",
       "      <th>Andorra</th>\n",
       "      <td>10085</td>\n",
       "      <td>0</td>\n",
       "      <td>0</td>\n",
       "      <td>0</td>\n",
       "      <td>0</td>\n",
       "      <td>0</td>\n",
       "      <td>0</td>\n",
       "      <td>0</td>\n",
       "      <td>0</td>\n",
       "      <td>0</td>\n",
       "      <td>0</td>\n",
       "      <td>194902.063250</td>\n",
       "    </tr>\n",
       "    <tr>\n",
       "      <th>...</th>\n",
       "      <td>...</td>\n",
       "      <td>...</td>\n",
       "      <td>...</td>\n",
       "      <td>...</td>\n",
       "      <td>...</td>\n",
       "      <td>...</td>\n",
       "      <td>...</td>\n",
       "      <td>...</td>\n",
       "      <td>...</td>\n",
       "      <td>...</td>\n",
       "      <td>...</td>\n",
       "      <td>...</td>\n",
       "    </tr>\n",
       "    <tr>\n",
       "      <th>Uzbekistan</th>\n",
       "      <td>10085</td>\n",
       "      <td>469</td>\n",
       "      <td>49</td>\n",
       "      <td>191</td>\n",
       "      <td>360</td>\n",
       "      <td>0</td>\n",
       "      <td>48</td>\n",
       "      <td>36</td>\n",
       "      <td>371</td>\n",
       "      <td>5</td>\n",
       "      <td>1529</td>\n",
       "      <td>10756.491055</td>\n",
       "    </tr>\n",
       "    <tr>\n",
       "      <th>Vanuatu</th>\n",
       "      <td>10085</td>\n",
       "      <td>44</td>\n",
       "      <td>10</td>\n",
       "      <td>10</td>\n",
       "      <td>51</td>\n",
       "      <td>0</td>\n",
       "      <td>4</td>\n",
       "      <td>0</td>\n",
       "      <td>37</td>\n",
       "      <td>5</td>\n",
       "      <td>161</td>\n",
       "      <td>14832.290174</td>\n",
       "    </tr>\n",
       "    <tr>\n",
       "      <th>Vietnam</th>\n",
       "      <td>10085</td>\n",
       "      <td>559</td>\n",
       "      <td>103</td>\n",
       "      <td>182</td>\n",
       "      <td>556</td>\n",
       "      <td>0</td>\n",
       "      <td>43</td>\n",
       "      <td>31</td>\n",
       "      <td>282</td>\n",
       "      <td>7</td>\n",
       "      <td>1763</td>\n",
       "      <td>14957.322225</td>\n",
       "    </tr>\n",
       "    <tr>\n",
       "      <th>Zambia</th>\n",
       "      <td>10085</td>\n",
       "      <td>16498</td>\n",
       "      <td>6822</td>\n",
       "      <td>3234</td>\n",
       "      <td>18065</td>\n",
       "      <td>95</td>\n",
       "      <td>1065</td>\n",
       "      <td>893</td>\n",
       "      <td>12803</td>\n",
       "      <td>654</td>\n",
       "      <td>60129</td>\n",
       "      <td>6975.663446</td>\n",
       "    </tr>\n",
       "    <tr>\n",
       "      <th>Zimbabwe</th>\n",
       "      <td>10085</td>\n",
       "      <td>4266</td>\n",
       "      <td>1868</td>\n",
       "      <td>1450</td>\n",
       "      <td>5137</td>\n",
       "      <td>23</td>\n",
       "      <td>284</td>\n",
       "      <td>255</td>\n",
       "      <td>3376</td>\n",
       "      <td>262</td>\n",
       "      <td>16921</td>\n",
       "      <td>6716.230613</td>\n",
       "    </tr>\n",
       "  </tbody>\n",
       "</table>\n",
       "<p>173 rows × 12 columns</p>\n",
       "</div>"
      ],
      "text/plain": [
       "                 Year  \\\n",
       "Country Name            \n",
       "Afghanistan     10085   \n",
       "Albania         10085   \n",
       "Algeria         10085   \n",
       "American Samoa  10085   \n",
       "Andorra         10085   \n",
       "...               ...   \n",
       "Uzbekistan      10085   \n",
       "Vanuatu         10085   \n",
       "Vietnam         10085   \n",
       "Zambia          10085   \n",
       "Zimbabwe        10085   \n",
       "\n",
       "                Deaths - Cause: Diarrheal diseases - Risk: Child growth failure - Sex: Both - Age: Under 5 (Number)  \\\n",
       "Country Name                                                                                                          \n",
       "Afghanistan                                                 18397                                                     \n",
       "Albania                                                         5                                                     \n",
       "Algeria                                                      1040                                                     \n",
       "American Samoa                                                  0                                                     \n",
       "Andorra                                                         0                                                     \n",
       "...                                                           ...                                                     \n",
       "Uzbekistan                                                    469                                                     \n",
       "Vanuatu                                                        44                                                     \n",
       "Vietnam                                                       559                                                     \n",
       "Zambia                                                      16498                                                     \n",
       "Zimbabwe                                                     4266                                                     \n",
       "\n",
       "                Deaths - Cause: Diarrheal diseases - Risk: No access to handwashing facility - Sex: Both - Age: Under 5 (Number)  \\\n",
       "Country Name                                                                                                                       \n",
       "Afghanistan                                                  5695                                                                  \n",
       "Albania                                                         0                                                                  \n",
       "Algeria                                                       114                                                                  \n",
       "American Samoa                                                  0                                                                  \n",
       "Andorra                                                         0                                                                  \n",
       "...                                                           ...                                                                  \n",
       "Uzbekistan                                                     49                                                                  \n",
       "Vanuatu                                                        10                                                                  \n",
       "Vietnam                                                       103                                                                  \n",
       "Zambia                                                       6822                                                                  \n",
       "Zimbabwe                                                     1868                                                                  \n",
       "\n",
       "                Deaths - Cause: Diarrheal diseases - Risk: Suboptimal breastfeeding - Sex: Both - Age: Under 5 (Number)  \\\n",
       "Country Name                                                                                                              \n",
       "Afghanistan                                                  6065                                                         \n",
       "Albania                                                         0                                                         \n",
       "Algeria                                                       425                                                         \n",
       "American Samoa                                                  0                                                         \n",
       "Andorra                                                         0                                                         \n",
       "...                                                           ...                                                         \n",
       "Uzbekistan                                                    191                                                         \n",
       "Vanuatu                                                        10                                                         \n",
       "Vietnam                                                       182                                                         \n",
       "Zambia                                                       3234                                                         \n",
       "Zimbabwe                                                     1450                                                         \n",
       "\n",
       "                Deaths - Cause: Diarrheal diseases - Risk: Unsafe water source - Sex: Both - Age: Under 5 (Number)  \\\n",
       "Country Name                                                                                                         \n",
       "Afghanistan                                                 20893                                                    \n",
       "Albania                                                         5                                                    \n",
       "Algeria                                                       770                                                    \n",
       "American Samoa                                                  0                                                    \n",
       "Andorra                                                         0                                                    \n",
       "...                                                           ...                                                    \n",
       "Uzbekistan                                                    360                                                    \n",
       "Vanuatu                                                        51                                                    \n",
       "Vietnam                                                       556                                                    \n",
       "Zambia                                                      18065                                                    \n",
       "Zimbabwe                                                     5137                                                    \n",
       "\n",
       "                Deaths - Cause: Diarrheal diseases - Risk: Zinc deficiency - Sex: Both - Age: Under 5 (Number)  \\\n",
       "Country Name                                                                                                     \n",
       "Afghanistan                                                   312                                                \n",
       "Albania                                                         0                                                \n",
       "Algeria                                                         5                                                \n",
       "American Samoa                                                  0                                                \n",
       "Andorra                                                         0                                                \n",
       "...                                                           ...                                                \n",
       "Uzbekistan                                                      0                                                \n",
       "Vanuatu                                                         0                                                \n",
       "Vietnam                                                         0                                                \n",
       "Zambia                                                         95                                                \n",
       "Zimbabwe                                                       23                                                \n",
       "\n",
       "                Deaths - Cause: Diarrheal diseases - Risk: Low birth weight - Sex: Both - Age: Under 5 (Number)  \\\n",
       "Country Name                                                                                                      \n",
       "Afghanistan                                                  2173                                                 \n",
       "Albania                                                         0                                                 \n",
       "Algeria                                                        94                                                 \n",
       "American Samoa                                                  0                                                 \n",
       "Andorra                                                         0                                                 \n",
       "...                                                           ...                                                 \n",
       "Uzbekistan                                                     48                                                 \n",
       "Vanuatu                                                         4                                                 \n",
       "Vietnam                                                        43                                                 \n",
       "Zambia                                                       1065                                                 \n",
       "Zimbabwe                                                      284                                                 \n",
       "\n",
       "                Deaths - Cause: Diarrheal diseases - Risk: Short gestation - Sex: Both - Age: Under 5 (Number)  \\\n",
       "Country Name                                                                                                     \n",
       "Afghanistan                                                  1534                                                \n",
       "Albania                                                         0                                                \n",
       "Algeria                                                        78                                                \n",
       "American Samoa                                                  0                                                \n",
       "Andorra                                                         0                                                \n",
       "...                                                           ...                                                \n",
       "Uzbekistan                                                     36                                                \n",
       "Vanuatu                                                         0                                                \n",
       "Vietnam                                                        31                                                \n",
       "Zambia                                                        893                                                \n",
       "Zimbabwe                                                      255                                                \n",
       "\n",
       "                Deaths - Cause: Diarrheal diseases - Risk: Unsafe sanitation - Sex: Both - Age: Under 5 (Number)  \\\n",
       "Country Name                                                                                                       \n",
       "Afghanistan                                                 14582                                                  \n",
       "Albania                                                         0                                                  \n",
       "Algeria                                                       258                                                  \n",
       "American Samoa                                                  0                                                  \n",
       "Andorra                                                         0                                                  \n",
       "...                                                           ...                                                  \n",
       "Uzbekistan                                                    371                                                  \n",
       "Vanuatu                                                        37                                                  \n",
       "Vietnam                                                       282                                                  \n",
       "Zambia                                                      12803                                                  \n",
       "Zimbabwe                                                     3376                                                  \n",
       "\n",
       "                Deaths - Cause: Diarrheal diseases - Risk: Vitamin A deficiency - Sex: Both - Age: Under 5 (Number)  \\\n",
       "Country Name                                                                                                          \n",
       "Afghanistan                                                  1354                                                     \n",
       "Albania                                                         0                                                     \n",
       "Algeria                                                         9                                                     \n",
       "American Samoa                                                  0                                                     \n",
       "Andorra                                                         0                                                     \n",
       "...                                                           ...                                                     \n",
       "Uzbekistan                                                      5                                                     \n",
       "Vanuatu                                                         5                                                     \n",
       "Vietnam                                                         7                                                     \n",
       "Zambia                                                        654                                                     \n",
       "Zimbabwe                                                      262                                                     \n",
       "\n",
       "                Total Deaths  GDP per capita (US$)  \n",
       "Country Name                                        \n",
       "Afghanistan            71005           2564.547630  \n",
       "Albania                   10          23291.756860  \n",
       "Algeria                 2793          20365.727040  \n",
       "American Samoa             0          58338.684540  \n",
       "Andorra                    0         194902.063250  \n",
       "...                      ...                   ...  \n",
       "Uzbekistan              1529          10756.491055  \n",
       "Vanuatu                  161          14832.290174  \n",
       "Vietnam                 1763          14957.322225  \n",
       "Zambia                 60129           6975.663446  \n",
       "Zimbabwe               16921           6716.230613  \n",
       "\n",
       "[173 rows x 12 columns]"
      ]
     },
     "execution_count": 10,
     "metadata": {},
     "output_type": "execute_result"
    }
   ],
   "source": [
    "group_all"
   ]
  },
  {
   "cell_type": "code",
   "execution_count": null,
   "id": "8893321e",
   "metadata": {},
   "outputs": [],
   "source": []
  },
  {
   "cell_type": "code",
   "execution_count": 11,
   "id": "27eafbfb",
   "metadata": {},
   "outputs": [],
   "source": [
    "total_deaths = group_all[\"Total Deaths\"]\n"
   ]
  },
  {
   "cell_type": "code",
   "execution_count": null,
   "id": "647c68d1",
   "metadata": {},
   "outputs": [],
   "source": []
  },
  {
   "cell_type": "code",
   "execution_count": 12,
   "id": "87baa71f",
   "metadata": {},
   "outputs": [
    {
     "data": {
      "text/plain": [
       "Country Name\n",
       "Afghanistan       71005\n",
       "Albania              10\n",
       "Algeria            2793\n",
       "American Samoa        0\n",
       "Andorra               0\n",
       "                  ...  \n",
       "Uzbekistan         1529\n",
       "Vanuatu             161\n",
       "Vietnam            1763\n",
       "Zambia            60129\n",
       "Zimbabwe          16921\n",
       "Name: Total Deaths, Length: 173, dtype: int64"
      ]
     },
     "execution_count": 12,
     "metadata": {},
     "output_type": "execute_result"
    }
   ],
   "source": [
    "total_deaths"
   ]
  },
  {
   "cell_type": "code",
   "execution_count": 13,
   "id": "667bada0",
   "metadata": {},
   "outputs": [],
   "source": [
    "mean_df = data_df.copy()"
   ]
  },
  {
   "cell_type": "code",
   "execution_count": 14,
   "id": "0a60192a",
   "metadata": {},
   "outputs": [],
   "source": [
    "mean_df = mean_df.groupby([\"Country Name\"]).mean()"
   ]
  },
  {
   "cell_type": "code",
   "execution_count": 15,
   "id": "b00b2c4c",
   "metadata": {},
   "outputs": [],
   "source": [
    "mean_all = mean_df[mean_df.index != 'World']"
   ]
  },
  {
   "cell_type": "code",
   "execution_count": 16,
   "id": "203fe2e4",
   "metadata": {},
   "outputs": [
    {
     "data": {
      "text/html": [
       "<div>\n",
       "<style scoped>\n",
       "    .dataframe tbody tr th:only-of-type {\n",
       "        vertical-align: middle;\n",
       "    }\n",
       "\n",
       "    .dataframe tbody tr th {\n",
       "        vertical-align: top;\n",
       "    }\n",
       "\n",
       "    .dataframe thead th {\n",
       "        text-align: right;\n",
       "    }\n",
       "</style>\n",
       "<table border=\"1\" class=\"dataframe\">\n",
       "  <thead>\n",
       "    <tr style=\"text-align: right;\">\n",
       "      <th></th>\n",
       "      <th>Year</th>\n",
       "      <th>Deaths - Cause: Diarrheal diseases - Risk: Child growth failure - Sex: Both - Age: Under 5 (Number)</th>\n",
       "      <th>Deaths - Cause: Diarrheal diseases - Risk: No access to handwashing facility - Sex: Both - Age: Under 5 (Number)</th>\n",
       "      <th>Deaths - Cause: Diarrheal diseases - Risk: Suboptimal breastfeeding - Sex: Both - Age: Under 5 (Number)</th>\n",
       "      <th>Deaths - Cause: Diarrheal diseases - Risk: Unsafe water source - Sex: Both - Age: Under 5 (Number)</th>\n",
       "      <th>Deaths - Cause: Diarrheal diseases - Risk: Zinc deficiency - Sex: Both - Age: Under 5 (Number)</th>\n",
       "      <th>Deaths - Cause: Diarrheal diseases - Risk: Low birth weight - Sex: Both - Age: Under 5 (Number)</th>\n",
       "      <th>Deaths - Cause: Diarrheal diseases - Risk: Short gestation - Sex: Both - Age: Under 5 (Number)</th>\n",
       "      <th>Deaths - Cause: Diarrheal diseases - Risk: Unsafe sanitation - Sex: Both - Age: Under 5 (Number)</th>\n",
       "      <th>Deaths - Cause: Diarrheal diseases - Risk: Vitamin A deficiency - Sex: Both - Age: Under 5 (Number)</th>\n",
       "      <th>Total Deaths</th>\n",
       "      <th>GDP per capita (US$)</th>\n",
       "    </tr>\n",
       "    <tr>\n",
       "      <th>Country Name</th>\n",
       "      <th></th>\n",
       "      <th></th>\n",
       "      <th></th>\n",
       "      <th></th>\n",
       "      <th></th>\n",
       "      <th></th>\n",
       "      <th></th>\n",
       "      <th></th>\n",
       "      <th></th>\n",
       "      <th></th>\n",
       "      <th></th>\n",
       "      <th></th>\n",
       "    </tr>\n",
       "  </thead>\n",
       "  <tbody>\n",
       "    <tr>\n",
       "      <th>Afghanistan</th>\n",
       "      <td>2017.0</td>\n",
       "      <td>3679.4</td>\n",
       "      <td>1139.0</td>\n",
       "      <td>1213.0</td>\n",
       "      <td>4178.6</td>\n",
       "      <td>62.4</td>\n",
       "      <td>434.6</td>\n",
       "      <td>306.8</td>\n",
       "      <td>2916.4</td>\n",
       "      <td>270.8</td>\n",
       "      <td>14201.0</td>\n",
       "      <td>512.909526</td>\n",
       "    </tr>\n",
       "    <tr>\n",
       "      <th>Albania</th>\n",
       "      <td>2017.0</td>\n",
       "      <td>1.0</td>\n",
       "      <td>0.0</td>\n",
       "      <td>0.0</td>\n",
       "      <td>1.0</td>\n",
       "      <td>0.0</td>\n",
       "      <td>0.0</td>\n",
       "      <td>0.0</td>\n",
       "      <td>0.0</td>\n",
       "      <td>0.0</td>\n",
       "      <td>2.0</td>\n",
       "      <td>4658.351372</td>\n",
       "    </tr>\n",
       "    <tr>\n",
       "      <th>Algeria</th>\n",
       "      <td>2017.0</td>\n",
       "      <td>208.0</td>\n",
       "      <td>22.8</td>\n",
       "      <td>85.0</td>\n",
       "      <td>154.0</td>\n",
       "      <td>1.0</td>\n",
       "      <td>18.8</td>\n",
       "      <td>15.6</td>\n",
       "      <td>51.6</td>\n",
       "      <td>1.8</td>\n",
       "      <td>558.6</td>\n",
       "      <td>4073.145408</td>\n",
       "    </tr>\n",
       "    <tr>\n",
       "      <th>American Samoa</th>\n",
       "      <td>2017.0</td>\n",
       "      <td>0.0</td>\n",
       "      <td>0.0</td>\n",
       "      <td>0.0</td>\n",
       "      <td>0.0</td>\n",
       "      <td>0.0</td>\n",
       "      <td>0.0</td>\n",
       "      <td>0.0</td>\n",
       "      <td>0.0</td>\n",
       "      <td>0.0</td>\n",
       "      <td>0.0</td>\n",
       "      <td>11667.736908</td>\n",
       "    </tr>\n",
       "    <tr>\n",
       "      <th>Andorra</th>\n",
       "      <td>2017.0</td>\n",
       "      <td>0.0</td>\n",
       "      <td>0.0</td>\n",
       "      <td>0.0</td>\n",
       "      <td>0.0</td>\n",
       "      <td>0.0</td>\n",
       "      <td>0.0</td>\n",
       "      <td>0.0</td>\n",
       "      <td>0.0</td>\n",
       "      <td>0.0</td>\n",
       "      <td>0.0</td>\n",
       "      <td>38980.412650</td>\n",
       "    </tr>\n",
       "    <tr>\n",
       "      <th>...</th>\n",
       "      <td>...</td>\n",
       "      <td>...</td>\n",
       "      <td>...</td>\n",
       "      <td>...</td>\n",
       "      <td>...</td>\n",
       "      <td>...</td>\n",
       "      <td>...</td>\n",
       "      <td>...</td>\n",
       "      <td>...</td>\n",
       "      <td>...</td>\n",
       "      <td>...</td>\n",
       "      <td>...</td>\n",
       "    </tr>\n",
       "    <tr>\n",
       "      <th>Uzbekistan</th>\n",
       "      <td>2017.0</td>\n",
       "      <td>93.8</td>\n",
       "      <td>9.8</td>\n",
       "      <td>38.2</td>\n",
       "      <td>72.0</td>\n",
       "      <td>0.0</td>\n",
       "      <td>9.6</td>\n",
       "      <td>7.2</td>\n",
       "      <td>74.2</td>\n",
       "      <td>1.0</td>\n",
       "      <td>305.8</td>\n",
       "      <td>2151.298211</td>\n",
       "    </tr>\n",
       "    <tr>\n",
       "      <th>Vanuatu</th>\n",
       "      <td>2017.0</td>\n",
       "      <td>8.8</td>\n",
       "      <td>2.0</td>\n",
       "      <td>2.0</td>\n",
       "      <td>10.2</td>\n",
       "      <td>0.0</td>\n",
       "      <td>0.8</td>\n",
       "      <td>0.0</td>\n",
       "      <td>7.4</td>\n",
       "      <td>1.0</td>\n",
       "      <td>32.2</td>\n",
       "      <td>2966.458035</td>\n",
       "    </tr>\n",
       "    <tr>\n",
       "      <th>Vietnam</th>\n",
       "      <td>2017.0</td>\n",
       "      <td>111.8</td>\n",
       "      <td>20.6</td>\n",
       "      <td>36.4</td>\n",
       "      <td>111.2</td>\n",
       "      <td>0.0</td>\n",
       "      <td>8.6</td>\n",
       "      <td>6.2</td>\n",
       "      <td>56.4</td>\n",
       "      <td>1.4</td>\n",
       "      <td>352.6</td>\n",
       "      <td>2991.464445</td>\n",
       "    </tr>\n",
       "    <tr>\n",
       "      <th>Zambia</th>\n",
       "      <td>2017.0</td>\n",
       "      <td>3299.6</td>\n",
       "      <td>1364.4</td>\n",
       "      <td>646.8</td>\n",
       "      <td>3613.0</td>\n",
       "      <td>19.0</td>\n",
       "      <td>213.0</td>\n",
       "      <td>178.6</td>\n",
       "      <td>2560.6</td>\n",
       "      <td>130.8</td>\n",
       "      <td>12025.8</td>\n",
       "      <td>1395.132689</td>\n",
       "    </tr>\n",
       "    <tr>\n",
       "      <th>Zimbabwe</th>\n",
       "      <td>2017.0</td>\n",
       "      <td>853.2</td>\n",
       "      <td>373.6</td>\n",
       "      <td>290.0</td>\n",
       "      <td>1027.4</td>\n",
       "      <td>4.6</td>\n",
       "      <td>56.8</td>\n",
       "      <td>51.0</td>\n",
       "      <td>675.2</td>\n",
       "      <td>52.4</td>\n",
       "      <td>3384.2</td>\n",
       "      <td>1343.246123</td>\n",
       "    </tr>\n",
       "  </tbody>\n",
       "</table>\n",
       "<p>173 rows × 12 columns</p>\n",
       "</div>"
      ],
      "text/plain": [
       "                  Year  \\\n",
       "Country Name             \n",
       "Afghanistan     2017.0   \n",
       "Albania         2017.0   \n",
       "Algeria         2017.0   \n",
       "American Samoa  2017.0   \n",
       "Andorra         2017.0   \n",
       "...                ...   \n",
       "Uzbekistan      2017.0   \n",
       "Vanuatu         2017.0   \n",
       "Vietnam         2017.0   \n",
       "Zambia          2017.0   \n",
       "Zimbabwe        2017.0   \n",
       "\n",
       "                Deaths - Cause: Diarrheal diseases - Risk: Child growth failure - Sex: Both - Age: Under 5 (Number)  \\\n",
       "Country Name                                                                                                          \n",
       "Afghanistan                                                3679.4                                                     \n",
       "Albania                                                       1.0                                                     \n",
       "Algeria                                                     208.0                                                     \n",
       "American Samoa                                                0.0                                                     \n",
       "Andorra                                                       0.0                                                     \n",
       "...                                                           ...                                                     \n",
       "Uzbekistan                                                   93.8                                                     \n",
       "Vanuatu                                                       8.8                                                     \n",
       "Vietnam                                                     111.8                                                     \n",
       "Zambia                                                     3299.6                                                     \n",
       "Zimbabwe                                                    853.2                                                     \n",
       "\n",
       "                Deaths - Cause: Diarrheal diseases - Risk: No access to handwashing facility - Sex: Both - Age: Under 5 (Number)  \\\n",
       "Country Name                                                                                                                       \n",
       "Afghanistan                                                1139.0                                                                  \n",
       "Albania                                                       0.0                                                                  \n",
       "Algeria                                                      22.8                                                                  \n",
       "American Samoa                                                0.0                                                                  \n",
       "Andorra                                                       0.0                                                                  \n",
       "...                                                           ...                                                                  \n",
       "Uzbekistan                                                    9.8                                                                  \n",
       "Vanuatu                                                       2.0                                                                  \n",
       "Vietnam                                                      20.6                                                                  \n",
       "Zambia                                                     1364.4                                                                  \n",
       "Zimbabwe                                                    373.6                                                                  \n",
       "\n",
       "                Deaths - Cause: Diarrheal diseases - Risk: Suboptimal breastfeeding - Sex: Both - Age: Under 5 (Number)  \\\n",
       "Country Name                                                                                                              \n",
       "Afghanistan                                                1213.0                                                         \n",
       "Albania                                                       0.0                                                         \n",
       "Algeria                                                      85.0                                                         \n",
       "American Samoa                                                0.0                                                         \n",
       "Andorra                                                       0.0                                                         \n",
       "...                                                           ...                                                         \n",
       "Uzbekistan                                                   38.2                                                         \n",
       "Vanuatu                                                       2.0                                                         \n",
       "Vietnam                                                      36.4                                                         \n",
       "Zambia                                                      646.8                                                         \n",
       "Zimbabwe                                                    290.0                                                         \n",
       "\n",
       "                Deaths - Cause: Diarrheal diseases - Risk: Unsafe water source - Sex: Both - Age: Under 5 (Number)  \\\n",
       "Country Name                                                                                                         \n",
       "Afghanistan                                                4178.6                                                    \n",
       "Albania                                                       1.0                                                    \n",
       "Algeria                                                     154.0                                                    \n",
       "American Samoa                                                0.0                                                    \n",
       "Andorra                                                       0.0                                                    \n",
       "...                                                           ...                                                    \n",
       "Uzbekistan                                                   72.0                                                    \n",
       "Vanuatu                                                      10.2                                                    \n",
       "Vietnam                                                     111.2                                                    \n",
       "Zambia                                                     3613.0                                                    \n",
       "Zimbabwe                                                   1027.4                                                    \n",
       "\n",
       "                Deaths - Cause: Diarrheal diseases - Risk: Zinc deficiency - Sex: Both - Age: Under 5 (Number)  \\\n",
       "Country Name                                                                                                     \n",
       "Afghanistan                                                  62.4                                                \n",
       "Albania                                                       0.0                                                \n",
       "Algeria                                                       1.0                                                \n",
       "American Samoa                                                0.0                                                \n",
       "Andorra                                                       0.0                                                \n",
       "...                                                           ...                                                \n",
       "Uzbekistan                                                    0.0                                                \n",
       "Vanuatu                                                       0.0                                                \n",
       "Vietnam                                                       0.0                                                \n",
       "Zambia                                                       19.0                                                \n",
       "Zimbabwe                                                      4.6                                                \n",
       "\n",
       "                Deaths - Cause: Diarrheal diseases - Risk: Low birth weight - Sex: Both - Age: Under 5 (Number)  \\\n",
       "Country Name                                                                                                      \n",
       "Afghanistan                                                 434.6                                                 \n",
       "Albania                                                       0.0                                                 \n",
       "Algeria                                                      18.8                                                 \n",
       "American Samoa                                                0.0                                                 \n",
       "Andorra                                                       0.0                                                 \n",
       "...                                                           ...                                                 \n",
       "Uzbekistan                                                    9.6                                                 \n",
       "Vanuatu                                                       0.8                                                 \n",
       "Vietnam                                                       8.6                                                 \n",
       "Zambia                                                      213.0                                                 \n",
       "Zimbabwe                                                     56.8                                                 \n",
       "\n",
       "                Deaths - Cause: Diarrheal diseases - Risk: Short gestation - Sex: Both - Age: Under 5 (Number)  \\\n",
       "Country Name                                                                                                     \n",
       "Afghanistan                                                 306.8                                                \n",
       "Albania                                                       0.0                                                \n",
       "Algeria                                                      15.6                                                \n",
       "American Samoa                                                0.0                                                \n",
       "Andorra                                                       0.0                                                \n",
       "...                                                           ...                                                \n",
       "Uzbekistan                                                    7.2                                                \n",
       "Vanuatu                                                       0.0                                                \n",
       "Vietnam                                                       6.2                                                \n",
       "Zambia                                                      178.6                                                \n",
       "Zimbabwe                                                     51.0                                                \n",
       "\n",
       "                Deaths - Cause: Diarrheal diseases - Risk: Unsafe sanitation - Sex: Both - Age: Under 5 (Number)  \\\n",
       "Country Name                                                                                                       \n",
       "Afghanistan                                                2916.4                                                  \n",
       "Albania                                                       0.0                                                  \n",
       "Algeria                                                      51.6                                                  \n",
       "American Samoa                                                0.0                                                  \n",
       "Andorra                                                       0.0                                                  \n",
       "...                                                           ...                                                  \n",
       "Uzbekistan                                                   74.2                                                  \n",
       "Vanuatu                                                       7.4                                                  \n",
       "Vietnam                                                      56.4                                                  \n",
       "Zambia                                                     2560.6                                                  \n",
       "Zimbabwe                                                    675.2                                                  \n",
       "\n",
       "                Deaths - Cause: Diarrheal diseases - Risk: Vitamin A deficiency - Sex: Both - Age: Under 5 (Number)  \\\n",
       "Country Name                                                                                                          \n",
       "Afghanistan                                                 270.8                                                     \n",
       "Albania                                                       0.0                                                     \n",
       "Algeria                                                       1.8                                                     \n",
       "American Samoa                                                0.0                                                     \n",
       "Andorra                                                       0.0                                                     \n",
       "...                                                           ...                                                     \n",
       "Uzbekistan                                                    1.0                                                     \n",
       "Vanuatu                                                       1.0                                                     \n",
       "Vietnam                                                       1.4                                                     \n",
       "Zambia                                                      130.8                                                     \n",
       "Zimbabwe                                                     52.4                                                     \n",
       "\n",
       "                Total Deaths  GDP per capita (US$)  \n",
       "Country Name                                        \n",
       "Afghanistan          14201.0            512.909526  \n",
       "Albania                  2.0           4658.351372  \n",
       "Algeria                558.6           4073.145408  \n",
       "American Samoa           0.0          11667.736908  \n",
       "Andorra                  0.0          38980.412650  \n",
       "...                      ...                   ...  \n",
       "Uzbekistan             305.8           2151.298211  \n",
       "Vanuatu                 32.2           2966.458035  \n",
       "Vietnam                352.6           2991.464445  \n",
       "Zambia               12025.8           1395.132689  \n",
       "Zimbabwe              3384.2           1343.246123  \n",
       "\n",
       "[173 rows x 12 columns]"
      ]
     },
     "execution_count": 16,
     "metadata": {},
     "output_type": "execute_result"
    }
   ],
   "source": [
    "mean_all"
   ]
  },
  {
   "cell_type": "code",
   "execution_count": 17,
   "id": "10765a8f",
   "metadata": {},
   "outputs": [],
   "source": [
    "mean_gdp = mean_all[\"GDP per capita (US$)\"]"
   ]
  },
  {
   "cell_type": "code",
   "execution_count": 18,
   "id": "03e2845c",
   "metadata": {},
   "outputs": [
    {
     "data": {
      "text/plain": [
       "175800.19538000002"
      ]
     },
     "execution_count": 18,
     "metadata": {},
     "output_type": "execute_result"
    }
   ],
   "source": [
    "mean_gdp.max()"
   ]
  },
  {
   "cell_type": "code",
   "execution_count": 19,
   "id": "1865d2a2",
   "metadata": {},
   "outputs": [
    {
     "data": {
      "text/plain": [
       "Country Name\n",
       "Afghanistan         512.909526\n",
       "Albania            4658.351372\n",
       "Algeria            4073.145408\n",
       "American Samoa    11667.736908\n",
       "Andorra           38980.412650\n",
       "                      ...     \n",
       "Uzbekistan         2151.298211\n",
       "Vanuatu            2966.458035\n",
       "Vietnam            2991.464445\n",
       "Zambia             1395.132689\n",
       "Zimbabwe           1343.246123\n",
       "Name: GDP per capita (US$), Length: 173, dtype: float64"
      ]
     },
     "execution_count": 19,
     "metadata": {},
     "output_type": "execute_result"
    }
   ],
   "source": [
    "mean_gdp"
   ]
  },
  {
   "cell_type": "code",
   "execution_count": 20,
   "id": "5cca238a",
   "metadata": {},
   "outputs": [
    {
     "data": {
      "text/plain": [
       "<Figure size 432x288 with 0 Axes>"
      ]
     },
     "metadata": {},
     "output_type": "display_data"
    },
    {
     "data": {
      "image/png": "[encoded data removed]",
      "text/plain": [
       "<Figure size 432x288 with 1 Axes>"
      ]
     },
     "metadata": {
      "needs_background": "light"
     },
     "output_type": "display_data"
    }
   ],
   "source": [
    "plt.figure()\n",
    "fig1, ax1 = plt.subplots()\n",
    "ax1.set_title('Average GDP per capita (US$)')\n",
    "ax1.set_ylabel('GDP ($US)')\n",
    "ax1.boxplot(mean_gdp)\n",
    "plt.show()\n"
   ]
  },
  {
   "cell_type": "code",
   "execution_count": 21,
   "id": "23ee72ba",
   "metadata": {},
   "outputs": [
    {
     "data": {
      "text/plain": [
       "2116085"
      ]
     },
     "execution_count": 21,
     "metadata": {},
     "output_type": "execute_result"
    }
   ],
   "source": [
    "total_deaths.max()"
   ]
  },
  {
   "cell_type": "code",
   "execution_count": 22,
   "id": "f3c115ff",
   "metadata": {},
   "outputs": [
    {
     "data": {
      "text/plain": [
       "Text(0.5, 1.0, 'GDP (US$)')"
      ]
     },
     "execution_count": 22,
     "metadata": {},
     "output_type": "execute_result"
    },
    {
     "data": {
      "image/png": "[encoded data removed]",
      "text/plain": [
       "<Figure size 432x288 with 1 Axes>"
      ]
     },
     "metadata": {
      "needs_background": "light"
     },
     "output_type": "display_data"
    }
   ],
   "source": [
    "plt.figure()\n",
    "\n",
    "plt.hist(mean_gdp)\n",
    "plt.xlabel(\"Average GDP per capita (US$)\")\n",
    "plt.ylabel(\"Frequency\")\n",
    "plt.title(\"GDP (US$)\")\n",
    "#plt.savefig(\"../Visuals/Histograms/gdp.png\")"
   ]
  },
  {
   "cell_type": "code",
   "execution_count": 23,
   "id": "e9606b73",
   "metadata": {},
   "outputs": [
    {
     "data": {
      "text/plain": [
       "<Figure size 432x288 with 0 Axes>"
      ]
     },
     "metadata": {},
     "output_type": "display_data"
    },
    {
     "data": {
      "image/png": "[encoded data removed]",
      "text/plain": [
       "<Figure size 432x288 with 1 Axes>"
      ]
     },
     "metadata": {
      "needs_background": "light"
     },
     "output_type": "display_data"
    }
   ],
   "source": [
    "plt.figure()\n",
    "fig1, ax1 = plt.subplots()\n",
    "ax1.set_title('Total Deaths from Diarrhea 2015-2019')\n",
    "ax1.set_ylabel(\"Number of Deaths (000,000's)\")\n",
    "ax1.boxplot(total_deaths)\n",
    "plt.savefig(\"../Visuals/Boxplots/total_deaths_bplot.png\")\n",
    "plt.show()\n"
   ]
  },
  {
   "cell_type": "code",
   "execution_count": 24,
   "id": "1d69a787",
   "metadata": {},
   "outputs": [
    {
     "data": {
      "image/png": "[encoded data removed]",
      "text/plain": [
       "<Figure size 432x288 with 1 Axes>"
      ]
     },
     "metadata": {
      "needs_background": "light"
     },
     "output_type": "display_data"
    }
   ],
   "source": [
    "plt.figure()\n",
    "\n",
    "plt.hist(total_deaths)\n",
    "plt.xlabel(\"Total Number of Deaths (000,000's)\")\n",
    "plt.ylabel(\"Frequency\")\n",
    "plt.title(\"Total Deaths from Diarrhea (2015-19)\")\n",
    "plt.savefig(\"../Visuals/Histograms/totaldeaths.png\")"
   ]
  },
  {
   "cell_type": "code",
   "execution_count": 25,
   "id": "9ec72b37",
   "metadata": {},
   "outputs": [
    {
     "data": {
      "image/png": "[encoded data removed]",
      "text/plain": [
       "<Figure size 432x288 with 1 Axes>"
      ]
     },
     "metadata": {
      "needs_background": "light"
     },
     "output_type": "display_data"
    }
   ],
   "source": [
    "plt.figure()\n",
    "plt.scatter(mean_gdp,total_deaths, marker=\"o\", facecolors=\"brown\")\n",
    "plt.ylim(-0.75, max(total_deaths) + 10)\n",
    "plt.title(\"GDP per Capita vs Total Diarrhea Deaths 2015 - 2019\")\n",
    "plt.xlabel(\"Average GDP per Capita ($USD)\")\n",
    "plt.ylabel(\"Total Diarhea Deaths\")\n",
    "plt.tight_layout()\n",
    "plt.savefig(\"../Visuals/totalvGDP.png\")"
   ]
  },
  {
   "cell_type": "code",
   "execution_count": 26,
   "id": "f80bc7be",
   "metadata": {},
   "outputs": [
    {
     "name": "stdout",
     "output_type": "stream",
     "text": [
      "The r-squared is: 0.018826992440484698\n"
     ]
    },
    {
     "data": {
      "image/png": "[encoded data removed]",
      "text/plain": [
       "<Figure size 432x288 with 1 Axes>"
      ]
     },
     "metadata": {
      "needs_background": "light"
     },
     "output_type": "display_data"
    }
   ],
   "source": [
    "plt.figure()\n",
    "x_values = mean_gdp\n",
    "y_values = total_deaths\n",
    "plt.title(\"GDP per Capita vs Total Diarhea Deaths 2015 - 2019\")\n",
    "plt.xlabel(\"Average GDP per Capita ($USD)\")\n",
    "plt.ylabel(\"Total Diarrhea Deaths (000,000's)\")\n",
    "(slope, intercept, rvalue, pvalue, stderr) = linregress(x_values, y_values)\n",
    "regress_values = x_values * slope + intercept\n",
    "line_eq = \"y = \" + str(round(slope,2)) + \"x + \" + str(round(intercept,2))\n",
    "plt.scatter(x_values,y_values)\n",
    "plt.plot(x_values, regress_values,\"r-\")\n",
    "plt.annotate(line_eq,(25000,1000000),fontsize=15,color=\"red\")\n",
    "\n",
    "print(f\"The r-squared is: {rvalue**2}\")\n",
    "\n",
    "\n",
    "\n",
    "\n",
    "plt.savefig(\"../Visuals/total_deathsvGDPreg.png\")\n",
    "\n",
    "\n"
   ]
  },
  {
   "cell_type": "code",
   "execution_count": 27,
   "id": "5ad2e692",
   "metadata": {},
   "outputs": [
    {
     "data": {
      "text/plain": [
       "{'Mean': 42819.39306358381,\n",
       " 'Median': 185.0,\n",
       " 'Variance': 34981317448.920654,\n",
       " 'Std Dev': 187032.9314557216}"
      ]
     },
     "execution_count": 27,
     "metadata": {},
     "output_type": "execute_result"
    }
   ],
   "source": [
    "Total_mean = np.mean(total_deaths)\n",
    "Total_median = np.median(total_deaths)\n",
    "Total_var = np.var(total_deaths,ddof = 0)\n",
    "Total_std = np.std(total_deaths,ddof = 0)\n",
    "ss_Total_df = ({\n",
    "    \"Mean\": Total_mean, \n",
    "    \"Median\": Total_median, \n",
    "    \"Variance\": Total_var, \n",
    "    \"Std Dev\": Total_std\n",
    "})\n",
    "ss_Total_df"
   ]
  },
  {
   "cell_type": "code",
   "execution_count": 28,
   "id": "310fecc0",
   "metadata": {},
   "outputs": [],
   "source": [
    "yearly_df = data_df.copy()"
   ]
  },
  {
   "cell_type": "code",
   "execution_count": 29,
   "id": "0c199917",
   "metadata": {},
   "outputs": [
    {
     "data": {
      "text/html": [
       "<div>\n",
       "<style scoped>\n",
       "    .dataframe tbody tr th:only-of-type {\n",
       "        vertical-align: middle;\n",
       "    }\n",
       "\n",
       "    .dataframe tbody tr th {\n",
       "        vertical-align: top;\n",
       "    }\n",
       "\n",
       "    .dataframe thead th {\n",
       "        text-align: right;\n",
       "    }\n",
       "</style>\n",
       "<table border=\"1\" class=\"dataframe\">\n",
       "  <thead>\n",
       "    <tr style=\"text-align: right;\">\n",
       "      <th></th>\n",
       "      <th>Country Name</th>\n",
       "      <th>Code</th>\n",
       "      <th>Year</th>\n",
       "      <th>Deaths - Cause: Diarrheal diseases - Risk: Child growth failure - Sex: Both - Age: Under 5 (Number)</th>\n",
       "      <th>Deaths - Cause: Diarrheal diseases - Risk: No access to handwashing facility - Sex: Both - Age: Under 5 (Number)</th>\n",
       "      <th>Deaths - Cause: Diarrheal diseases - Risk: Suboptimal breastfeeding - Sex: Both - Age: Under 5 (Number)</th>\n",
       "      <th>Deaths - Cause: Diarrheal diseases - Risk: Unsafe water source - Sex: Both - Age: Under 5 (Number)</th>\n",
       "      <th>Deaths - Cause: Diarrheal diseases - Risk: Zinc deficiency - Sex: Both - Age: Under 5 (Number)</th>\n",
       "      <th>Deaths - Cause: Diarrheal diseases - Risk: Low birth weight - Sex: Both - Age: Under 5 (Number)</th>\n",
       "      <th>Deaths - Cause: Diarrheal diseases - Risk: Short gestation - Sex: Both - Age: Under 5 (Number)</th>\n",
       "      <th>Deaths - Cause: Diarrheal diseases - Risk: Unsafe sanitation - Sex: Both - Age: Under 5 (Number)</th>\n",
       "      <th>Deaths - Cause: Diarrheal diseases - Risk: Vitamin A deficiency - Sex: Both - Age: Under 5 (Number)</th>\n",
       "      <th>Total Deaths</th>\n",
       "      <th>GDP per capita (US$)</th>\n",
       "    </tr>\n",
       "  </thead>\n",
       "  <tbody>\n",
       "    <tr>\n",
       "      <th>0</th>\n",
       "      <td>Afghanistan</td>\n",
       "      <td>AFG</td>\n",
       "      <td>2015</td>\n",
       "      <td>4053</td>\n",
       "      <td>1265</td>\n",
       "      <td>1356</td>\n",
       "      <td>4598</td>\n",
       "      <td>69</td>\n",
       "      <td>480</td>\n",
       "      <td>338</td>\n",
       "      <td>3238</td>\n",
       "      <td>314</td>\n",
       "      <td>15711</td>\n",
       "      <td>556.007221</td>\n",
       "    </tr>\n",
       "    <tr>\n",
       "      <th>1</th>\n",
       "      <td>Afghanistan</td>\n",
       "      <td>AFG</td>\n",
       "      <td>2016</td>\n",
       "      <td>3952</td>\n",
       "      <td>1227</td>\n",
       "      <td>1316</td>\n",
       "      <td>4483</td>\n",
       "      <td>68</td>\n",
       "      <td>463</td>\n",
       "      <td>327</td>\n",
       "      <td>3142</td>\n",
       "      <td>297</td>\n",
       "      <td>15275</td>\n",
       "      <td>512.012778</td>\n",
       "    </tr>\n",
       "    <tr>\n",
       "      <th>2</th>\n",
       "      <td>Afghanistan</td>\n",
       "      <td>AFG</td>\n",
       "      <td>2017</td>\n",
       "      <td>3908</td>\n",
       "      <td>1209</td>\n",
       "      <td>1290</td>\n",
       "      <td>4437</td>\n",
       "      <td>67</td>\n",
       "      <td>461</td>\n",
       "      <td>325</td>\n",
       "      <td>3095</td>\n",
       "      <td>285</td>\n",
       "      <td>15077</td>\n",
       "      <td>516.679862</td>\n",
       "    </tr>\n",
       "    <tr>\n",
       "      <th>3</th>\n",
       "      <td>Afghanistan</td>\n",
       "      <td>AFG</td>\n",
       "      <td>2018</td>\n",
       "      <td>3345</td>\n",
       "      <td>1031</td>\n",
       "      <td>1099</td>\n",
       "      <td>3807</td>\n",
       "      <td>55</td>\n",
       "      <td>401</td>\n",
       "      <td>283</td>\n",
       "      <td>2641</td>\n",
       "      <td>238</td>\n",
       "      <td>12900</td>\n",
       "      <td>485.668419</td>\n",
       "    </tr>\n",
       "    <tr>\n",
       "      <th>4</th>\n",
       "      <td>Afghanistan</td>\n",
       "      <td>AFG</td>\n",
       "      <td>2019</td>\n",
       "      <td>3139</td>\n",
       "      <td>963</td>\n",
       "      <td>1004</td>\n",
       "      <td>3568</td>\n",
       "      <td>53</td>\n",
       "      <td>368</td>\n",
       "      <td>261</td>\n",
       "      <td>2466</td>\n",
       "      <td>220</td>\n",
       "      <td>12042</td>\n",
       "      <td>494.179350</td>\n",
       "    </tr>\n",
       "    <tr>\n",
       "      <th>...</th>\n",
       "      <td>...</td>\n",
       "      <td>...</td>\n",
       "      <td>...</td>\n",
       "      <td>...</td>\n",
       "      <td>...</td>\n",
       "      <td>...</td>\n",
       "      <td>...</td>\n",
       "      <td>...</td>\n",
       "      <td>...</td>\n",
       "      <td>...</td>\n",
       "      <td>...</td>\n",
       "      <td>...</td>\n",
       "      <td>...</td>\n",
       "      <td>...</td>\n",
       "    </tr>\n",
       "    <tr>\n",
       "      <th>861</th>\n",
       "      <td>Zimbabwe</td>\n",
       "      <td>ZWE</td>\n",
       "      <td>2015</td>\n",
       "      <td>949</td>\n",
       "      <td>415</td>\n",
       "      <td>326</td>\n",
       "      <td>1140</td>\n",
       "      <td>5</td>\n",
       "      <td>64</td>\n",
       "      <td>57</td>\n",
       "      <td>759</td>\n",
       "      <td>62</td>\n",
       "      <td>3777</td>\n",
       "      <td>1445.069702</td>\n",
       "    </tr>\n",
       "    <tr>\n",
       "      <th>862</th>\n",
       "      <td>Zimbabwe</td>\n",
       "      <td>ZWE</td>\n",
       "      <td>2016</td>\n",
       "      <td>904</td>\n",
       "      <td>396</td>\n",
       "      <td>305</td>\n",
       "      <td>1088</td>\n",
       "      <td>5</td>\n",
       "      <td>59</td>\n",
       "      <td>53</td>\n",
       "      <td>719</td>\n",
       "      <td>57</td>\n",
       "      <td>3586</td>\n",
       "      <td>1464.588957</td>\n",
       "    </tr>\n",
       "    <tr>\n",
       "      <th>863</th>\n",
       "      <td>Zimbabwe</td>\n",
       "      <td>ZWE</td>\n",
       "      <td>2017</td>\n",
       "      <td>875</td>\n",
       "      <td>383</td>\n",
       "      <td>295</td>\n",
       "      <td>1054</td>\n",
       "      <td>5</td>\n",
       "      <td>58</td>\n",
       "      <td>52</td>\n",
       "      <td>692</td>\n",
       "      <td>53</td>\n",
       "      <td>3467</td>\n",
       "      <td>1235.189032</td>\n",
       "    </tr>\n",
       "    <tr>\n",
       "      <th>864</th>\n",
       "      <td>Zimbabwe</td>\n",
       "      <td>ZWE</td>\n",
       "      <td>2018</td>\n",
       "      <td>794</td>\n",
       "      <td>348</td>\n",
       "      <td>269</td>\n",
       "      <td>957</td>\n",
       "      <td>4</td>\n",
       "      <td>53</td>\n",
       "      <td>48</td>\n",
       "      <td>624</td>\n",
       "      <td>47</td>\n",
       "      <td>3144</td>\n",
       "      <td>1254.642265</td>\n",
       "    </tr>\n",
       "    <tr>\n",
       "      <th>865</th>\n",
       "      <td>Zimbabwe</td>\n",
       "      <td>ZWE</td>\n",
       "      <td>2019</td>\n",
       "      <td>744</td>\n",
       "      <td>326</td>\n",
       "      <td>255</td>\n",
       "      <td>898</td>\n",
       "      <td>4</td>\n",
       "      <td>50</td>\n",
       "      <td>45</td>\n",
       "      <td>582</td>\n",
       "      <td>43</td>\n",
       "      <td>2947</td>\n",
       "      <td>1316.740657</td>\n",
       "    </tr>\n",
       "  </tbody>\n",
       "</table>\n",
       "<p>866 rows × 14 columns</p>\n",
       "</div>"
      ],
      "text/plain": [
       "    Country Name Code  Year  \\\n",
       "0    Afghanistan  AFG  2015   \n",
       "1    Afghanistan  AFG  2016   \n",
       "2    Afghanistan  AFG  2017   \n",
       "3    Afghanistan  AFG  2018   \n",
       "4    Afghanistan  AFG  2019   \n",
       "..           ...  ...   ...   \n",
       "861     Zimbabwe  ZWE  2015   \n",
       "862     Zimbabwe  ZWE  2016   \n",
       "863     Zimbabwe  ZWE  2017   \n",
       "864     Zimbabwe  ZWE  2018   \n",
       "865     Zimbabwe  ZWE  2019   \n",
       "\n",
       "     Deaths - Cause: Diarrheal diseases - Risk: Child growth failure - Sex: Both - Age: Under 5 (Number)  \\\n",
       "0                                                 4053                                                     \n",
       "1                                                 3952                                                     \n",
       "2                                                 3908                                                     \n",
       "3                                                 3345                                                     \n",
       "4                                                 3139                                                     \n",
       "..                                                 ...                                                     \n",
       "861                                                949                                                     \n",
       "862                                                904                                                     \n",
       "863                                                875                                                     \n",
       "864                                                794                                                     \n",
       "865                                                744                                                     \n",
       "\n",
       "     Deaths - Cause: Diarrheal diseases - Risk: No access to handwashing facility - Sex: Both - Age: Under 5 (Number)  \\\n",
       "0                                                 1265                                                                  \n",
       "1                                                 1227                                                                  \n",
       "2                                                 1209                                                                  \n",
       "3                                                 1031                                                                  \n",
       "4                                                  963                                                                  \n",
       "..                                                 ...                                                                  \n",
       "861                                                415                                                                  \n",
       "862                                                396                                                                  \n",
       "863                                                383                                                                  \n",
       "864                                                348                                                                  \n",
       "865                                                326                                                                  \n",
       "\n",
       "     Deaths - Cause: Diarrheal diseases - Risk: Suboptimal breastfeeding - Sex: Both - Age: Under 5 (Number)  \\\n",
       "0                                                 1356                                                         \n",
       "1                                                 1316                                                         \n",
       "2                                                 1290                                                         \n",
       "3                                                 1099                                                         \n",
       "4                                                 1004                                                         \n",
       "..                                                 ...                                                         \n",
       "861                                                326                                                         \n",
       "862                                                305                                                         \n",
       "863                                                295                                                         \n",
       "864                                                269                                                         \n",
       "865                                                255                                                         \n",
       "\n",
       "     Deaths - Cause: Diarrheal diseases - Risk: Unsafe water source - Sex: Both - Age: Under 5 (Number)  \\\n",
       "0                                                 4598                                                    \n",
       "1                                                 4483                                                    \n",
       "2                                                 4437                                                    \n",
       "3                                                 3807                                                    \n",
       "4                                                 3568                                                    \n",
       "..                                                 ...                                                    \n",
       "861                                               1140                                                    \n",
       "862                                               1088                                                    \n",
       "863                                               1054                                                    \n",
       "864                                                957                                                    \n",
       "865                                                898                                                    \n",
       "\n",
       "     Deaths - Cause: Diarrheal diseases - Risk: Zinc deficiency - Sex: Both - Age: Under 5 (Number)  \\\n",
       "0                                                   69                                                \n",
       "1                                                   68                                                \n",
       "2                                                   67                                                \n",
       "3                                                   55                                                \n",
       "4                                                   53                                                \n",
       "..                                                 ...                                                \n",
       "861                                                  5                                                \n",
       "862                                                  5                                                \n",
       "863                                                  5                                                \n",
       "864                                                  4                                                \n",
       "865                                                  4                                                \n",
       "\n",
       "     Deaths - Cause: Diarrheal diseases - Risk: Low birth weight - Sex: Both - Age: Under 5 (Number)  \\\n",
       "0                                                  480                                                 \n",
       "1                                                  463                                                 \n",
       "2                                                  461                                                 \n",
       "3                                                  401                                                 \n",
       "4                                                  368                                                 \n",
       "..                                                 ...                                                 \n",
       "861                                                 64                                                 \n",
       "862                                                 59                                                 \n",
       "863                                                 58                                                 \n",
       "864                                                 53                                                 \n",
       "865                                                 50                                                 \n",
       "\n",
       "     Deaths - Cause: Diarrheal diseases - Risk: Short gestation - Sex: Both - Age: Under 5 (Number)  \\\n",
       "0                                                  338                                                \n",
       "1                                                  327                                                \n",
       "2                                                  325                                                \n",
       "3                                                  283                                                \n",
       "4                                                  261                                                \n",
       "..                                                 ...                                                \n",
       "861                                                 57                                                \n",
       "862                                                 53                                                \n",
       "863                                                 52                                                \n",
       "864                                                 48                                                \n",
       "865                                                 45                                                \n",
       "\n",
       "     Deaths - Cause: Diarrheal diseases - Risk: Unsafe sanitation - Sex: Both - Age: Under 5 (Number)  \\\n",
       "0                                                 3238                                                  \n",
       "1                                                 3142                                                  \n",
       "2                                                 3095                                                  \n",
       "3                                                 2641                                                  \n",
       "4                                                 2466                                                  \n",
       "..                                                 ...                                                  \n",
       "861                                                759                                                  \n",
       "862                                                719                                                  \n",
       "863                                                692                                                  \n",
       "864                                                624                                                  \n",
       "865                                                582                                                  \n",
       "\n",
       "     Deaths - Cause: Diarrheal diseases - Risk: Vitamin A deficiency - Sex: Both - Age: Under 5 (Number)  \\\n",
       "0                                                  314                                                     \n",
       "1                                                  297                                                     \n",
       "2                                                  285                                                     \n",
       "3                                                  238                                                     \n",
       "4                                                  220                                                     \n",
       "..                                                 ...                                                     \n",
       "861                                                 62                                                     \n",
       "862                                                 57                                                     \n",
       "863                                                 53                                                     \n",
       "864                                                 47                                                     \n",
       "865                                                 43                                                     \n",
       "\n",
       "     Total Deaths  GDP per capita (US$)  \n",
       "0           15711            556.007221  \n",
       "1           15275            512.012778  \n",
       "2           15077            516.679862  \n",
       "3           12900            485.668419  \n",
       "4           12042            494.179350  \n",
       "..            ...                   ...  \n",
       "861          3777           1445.069702  \n",
       "862          3586           1464.588957  \n",
       "863          3467           1235.189032  \n",
       "864          3144           1254.642265  \n",
       "865          2947           1316.740657  \n",
       "\n",
       "[866 rows x 14 columns]"
      ]
     },
     "execution_count": 29,
     "metadata": {},
     "output_type": "execute_result"
    }
   ],
   "source": [
    "yearly_df"
   ]
  },
  {
   "cell_type": "code",
   "execution_count": 30,
   "id": "d7e004eb",
   "metadata": {},
   "outputs": [],
   "source": [
    "year = yearly_df.loc[yearly_df[\"Country Name\"] == 'World']"
   ]
  },
  {
   "cell_type": "code",
   "execution_count": 31,
   "id": "e64d0907",
   "metadata": {},
   "outputs": [
    {
     "data": {
      "text/plain": [
       "851    2015\n",
       "852    2016\n",
       "853    2017\n",
       "854    2018\n",
       "855    2019\n",
       "Name: Year, dtype: int64"
      ]
     },
     "execution_count": 31,
     "metadata": {},
     "output_type": "execute_result"
    }
   ],
   "source": [
    "yr = year[\"Year\"]\n",
    "yr"
   ]
  },
  {
   "cell_type": "code",
   "execution_count": null,
   "id": "0843d32f",
   "metadata": {},
   "outputs": [],
   "source": []
  },
  {
   "cell_type": "code",
   "execution_count": null,
   "id": "5c11d314",
   "metadata": {},
   "outputs": [],
   "source": [
    "\n"
   ]
  },
  {
   "cell_type": "code",
   "execution_count": null,
   "id": "77dfecfb",
   "metadata": {},
   "outputs": [],
   "source": []
  },
  {
   "cell_type": "code",
   "execution_count": null,
   "id": "671cefe3",
   "metadata": {},
   "outputs": [],
   "source": []
  },
  {
   "cell_type": "code",
   "execution_count": null,
   "id": "08f4f60f",
   "metadata": {},
   "outputs": [],
   "source": []
  },
  {
   "cell_type": "code",
   "execution_count": null,
   "id": "a5e6d91f",
   "metadata": {},
   "outputs": [],
   "source": []
  },
  {
   "cell_type": "code",
   "execution_count": null,
   "id": "f9b99fe7",
   "metadata": {},
   "outputs": [],
   "source": []
  },
  {
   "cell_type": "code",
   "execution_count": null,
   "id": "d4a17fe7",
   "metadata": {},
   "outputs": [],
   "source": []
  },
  {
   "cell_type": "code",
   "execution_count": null,
   "id": "c38afa8b",
   "metadata": {},
   "outputs": [],
   "source": []
  },
  {
   "cell_type": "code",
   "execution_count": null,
   "id": "9e4530c9",
   "metadata": {},
   "outputs": [],
   "source": []
  },
  {
   "cell_type": "code",
   "execution_count": null,
   "id": "e26d0ff7",
   "metadata": {},
   "outputs": [],
   "source": []
  },
  {
   "cell_type": "code",
   "execution_count": null,
   "id": "aa5dab6e",
   "metadata": {},
   "outputs": [],
   "source": []
  },
  {
   "cell_type": "code",
   "execution_count": null,
   "id": "fc845cd8",
   "metadata": {},
   "outputs": [],
   "source": []
  },
  {
   "cell_type": "code",
   "execution_count": null,
   "id": "a8258250",
   "metadata": {},
   "outputs": [],
   "source": []
  },
  {
   "cell_type": "code",
   "execution_count": null,
   "id": "a7e8939e",
   "metadata": {},
   "outputs": [],
   "source": []
  },
  {
   "cell_type": "code",
   "execution_count": 32,
   "id": "42b7d609",
   "metadata": {},
   "outputs": [],
   "source": [
    "mean_df = data_df.copy()"
   ]
  },
  {
   "cell_type": "code",
   "execution_count": 33,
   "id": "63afc6d6",
   "metadata": {},
   "outputs": [],
   "source": [
    "mean_df = mean_df.groupby([\"Country Name\"]).mean()"
   ]
  },
  {
   "cell_type": "code",
   "execution_count": 34,
   "id": "3be8d043",
   "metadata": {},
   "outputs": [],
   "source": [
    "mean_all = mean_df[mean_df.index != 'World']"
   ]
  },
  {
   "cell_type": "code",
   "execution_count": 35,
   "id": "7555c289",
   "metadata": {},
   "outputs": [
    {
     "data": {
      "text/html": [
       "<div>\n",
       "<style scoped>\n",
       "    .dataframe tbody tr th:only-of-type {\n",
       "        vertical-align: middle;\n",
       "    }\n",
       "\n",
       "    .dataframe tbody tr th {\n",
       "        vertical-align: top;\n",
       "    }\n",
       "\n",
       "    .dataframe thead th {\n",
       "        text-align: right;\n",
       "    }\n",
       "</style>\n",
       "<table border=\"1\" class=\"dataframe\">\n",
       "  <thead>\n",
       "    <tr style=\"text-align: right;\">\n",
       "      <th></th>\n",
       "      <th>Year</th>\n",
       "      <th>Deaths - Cause: Diarrheal diseases - Risk: Child growth failure - Sex: Both - Age: Under 5 (Number)</th>\n",
       "      <th>Deaths - Cause: Diarrheal diseases - Risk: No access to handwashing facility - Sex: Both - Age: Under 5 (Number)</th>\n",
       "      <th>Deaths - Cause: Diarrheal diseases - Risk: Suboptimal breastfeeding - Sex: Both - Age: Under 5 (Number)</th>\n",
       "      <th>Deaths - Cause: Diarrheal diseases - Risk: Unsafe water source - Sex: Both - Age: Under 5 (Number)</th>\n",
       "      <th>Deaths - Cause: Diarrheal diseases - Risk: Zinc deficiency - Sex: Both - Age: Under 5 (Number)</th>\n",
       "      <th>Deaths - Cause: Diarrheal diseases - Risk: Low birth weight - Sex: Both - Age: Under 5 (Number)</th>\n",
       "      <th>Deaths - Cause: Diarrheal diseases - Risk: Short gestation - Sex: Both - Age: Under 5 (Number)</th>\n",
       "      <th>Deaths - Cause: Diarrheal diseases - Risk: Unsafe sanitation - Sex: Both - Age: Under 5 (Number)</th>\n",
       "      <th>Deaths - Cause: Diarrheal diseases - Risk: Vitamin A deficiency - Sex: Both - Age: Under 5 (Number)</th>\n",
       "      <th>Total Deaths</th>\n",
       "      <th>GDP per capita (US$)</th>\n",
       "    </tr>\n",
       "    <tr>\n",
       "      <th>Country Name</th>\n",
       "      <th></th>\n",
       "      <th></th>\n",
       "      <th></th>\n",
       "      <th></th>\n",
       "      <th></th>\n",
       "      <th></th>\n",
       "      <th></th>\n",
       "      <th></th>\n",
       "      <th></th>\n",
       "      <th></th>\n",
       "      <th></th>\n",
       "      <th></th>\n",
       "    </tr>\n",
       "  </thead>\n",
       "  <tbody>\n",
       "    <tr>\n",
       "      <th>Afghanistan</th>\n",
       "      <td>2017.0</td>\n",
       "      <td>3679.4</td>\n",
       "      <td>1139.0</td>\n",
       "      <td>1213.0</td>\n",
       "      <td>4178.6</td>\n",
       "      <td>62.4</td>\n",
       "      <td>434.6</td>\n",
       "      <td>306.8</td>\n",
       "      <td>2916.4</td>\n",
       "      <td>270.8</td>\n",
       "      <td>14201.0</td>\n",
       "      <td>512.909526</td>\n",
       "    </tr>\n",
       "    <tr>\n",
       "      <th>Albania</th>\n",
       "      <td>2017.0</td>\n",
       "      <td>1.0</td>\n",
       "      <td>0.0</td>\n",
       "      <td>0.0</td>\n",
       "      <td>1.0</td>\n",
       "      <td>0.0</td>\n",
       "      <td>0.0</td>\n",
       "      <td>0.0</td>\n",
       "      <td>0.0</td>\n",
       "      <td>0.0</td>\n",
       "      <td>2.0</td>\n",
       "      <td>4658.351372</td>\n",
       "    </tr>\n",
       "    <tr>\n",
       "      <th>Algeria</th>\n",
       "      <td>2017.0</td>\n",
       "      <td>208.0</td>\n",
       "      <td>22.8</td>\n",
       "      <td>85.0</td>\n",
       "      <td>154.0</td>\n",
       "      <td>1.0</td>\n",
       "      <td>18.8</td>\n",
       "      <td>15.6</td>\n",
       "      <td>51.6</td>\n",
       "      <td>1.8</td>\n",
       "      <td>558.6</td>\n",
       "      <td>4073.145408</td>\n",
       "    </tr>\n",
       "    <tr>\n",
       "      <th>American Samoa</th>\n",
       "      <td>2017.0</td>\n",
       "      <td>0.0</td>\n",
       "      <td>0.0</td>\n",
       "      <td>0.0</td>\n",
       "      <td>0.0</td>\n",
       "      <td>0.0</td>\n",
       "      <td>0.0</td>\n",
       "      <td>0.0</td>\n",
       "      <td>0.0</td>\n",
       "      <td>0.0</td>\n",
       "      <td>0.0</td>\n",
       "      <td>11667.736908</td>\n",
       "    </tr>\n",
       "    <tr>\n",
       "      <th>Andorra</th>\n",
       "      <td>2017.0</td>\n",
       "      <td>0.0</td>\n",
       "      <td>0.0</td>\n",
       "      <td>0.0</td>\n",
       "      <td>0.0</td>\n",
       "      <td>0.0</td>\n",
       "      <td>0.0</td>\n",
       "      <td>0.0</td>\n",
       "      <td>0.0</td>\n",
       "      <td>0.0</td>\n",
       "      <td>0.0</td>\n",
       "      <td>38980.412650</td>\n",
       "    </tr>\n",
       "    <tr>\n",
       "      <th>...</th>\n",
       "      <td>...</td>\n",
       "      <td>...</td>\n",
       "      <td>...</td>\n",
       "      <td>...</td>\n",
       "      <td>...</td>\n",
       "      <td>...</td>\n",
       "      <td>...</td>\n",
       "      <td>...</td>\n",
       "      <td>...</td>\n",
       "      <td>...</td>\n",
       "      <td>...</td>\n",
       "      <td>...</td>\n",
       "    </tr>\n",
       "    <tr>\n",
       "      <th>Uzbekistan</th>\n",
       "      <td>2017.0</td>\n",
       "      <td>93.8</td>\n",
       "      <td>9.8</td>\n",
       "      <td>38.2</td>\n",
       "      <td>72.0</td>\n",
       "      <td>0.0</td>\n",
       "      <td>9.6</td>\n",
       "      <td>7.2</td>\n",
       "      <td>74.2</td>\n",
       "      <td>1.0</td>\n",
       "      <td>305.8</td>\n",
       "      <td>2151.298211</td>\n",
       "    </tr>\n",
       "    <tr>\n",
       "      <th>Vanuatu</th>\n",
       "      <td>2017.0</td>\n",
       "      <td>8.8</td>\n",
       "      <td>2.0</td>\n",
       "      <td>2.0</td>\n",
       "      <td>10.2</td>\n",
       "      <td>0.0</td>\n",
       "      <td>0.8</td>\n",
       "      <td>0.0</td>\n",
       "      <td>7.4</td>\n",
       "      <td>1.0</td>\n",
       "      <td>32.2</td>\n",
       "      <td>2966.458035</td>\n",
       "    </tr>\n",
       "    <tr>\n",
       "      <th>Vietnam</th>\n",
       "      <td>2017.0</td>\n",
       "      <td>111.8</td>\n",
       "      <td>20.6</td>\n",
       "      <td>36.4</td>\n",
       "      <td>111.2</td>\n",
       "      <td>0.0</td>\n",
       "      <td>8.6</td>\n",
       "      <td>6.2</td>\n",
       "      <td>56.4</td>\n",
       "      <td>1.4</td>\n",
       "      <td>352.6</td>\n",
       "      <td>2991.464445</td>\n",
       "    </tr>\n",
       "    <tr>\n",
       "      <th>Zambia</th>\n",
       "      <td>2017.0</td>\n",
       "      <td>3299.6</td>\n",
       "      <td>1364.4</td>\n",
       "      <td>646.8</td>\n",
       "      <td>3613.0</td>\n",
       "      <td>19.0</td>\n",
       "      <td>213.0</td>\n",
       "      <td>178.6</td>\n",
       "      <td>2560.6</td>\n",
       "      <td>130.8</td>\n",
       "      <td>12025.8</td>\n",
       "      <td>1395.132689</td>\n",
       "    </tr>\n",
       "    <tr>\n",
       "      <th>Zimbabwe</th>\n",
       "      <td>2017.0</td>\n",
       "      <td>853.2</td>\n",
       "      <td>373.6</td>\n",
       "      <td>290.0</td>\n",
       "      <td>1027.4</td>\n",
       "      <td>4.6</td>\n",
       "      <td>56.8</td>\n",
       "      <td>51.0</td>\n",
       "      <td>675.2</td>\n",
       "      <td>52.4</td>\n",
       "      <td>3384.2</td>\n",
       "      <td>1343.246123</td>\n",
       "    </tr>\n",
       "  </tbody>\n",
       "</table>\n",
       "<p>173 rows × 12 columns</p>\n",
       "</div>"
      ],
      "text/plain": [
       "                  Year  \\\n",
       "Country Name             \n",
       "Afghanistan     2017.0   \n",
       "Albania         2017.0   \n",
       "Algeria         2017.0   \n",
       "American Samoa  2017.0   \n",
       "Andorra         2017.0   \n",
       "...                ...   \n",
       "Uzbekistan      2017.0   \n",
       "Vanuatu         2017.0   \n",
       "Vietnam         2017.0   \n",
       "Zambia          2017.0   \n",
       "Zimbabwe        2017.0   \n",
       "\n",
       "                Deaths - Cause: Diarrheal diseases - Risk: Child growth failure - Sex: Both - Age: Under 5 (Number)  \\\n",
       "Country Name                                                                                                          \n",
       "Afghanistan                                                3679.4                                                     \n",
       "Albania                                                       1.0                                                     \n",
       "Algeria                                                     208.0                                                     \n",
       "American Samoa                                                0.0                                                     \n",
       "Andorra                                                       0.0                                                     \n",
       "...                                                           ...                                                     \n",
       "Uzbekistan                                                   93.8                                                     \n",
       "Vanuatu                                                       8.8                                                     \n",
       "Vietnam                                                     111.8                                                     \n",
       "Zambia                                                     3299.6                                                     \n",
       "Zimbabwe                                                    853.2                                                     \n",
       "\n",
       "                Deaths - Cause: Diarrheal diseases - Risk: No access to handwashing facility - Sex: Both - Age: Under 5 (Number)  \\\n",
       "Country Name                                                                                                                       \n",
       "Afghanistan                                                1139.0                                                                  \n",
       "Albania                                                       0.0                                                                  \n",
       "Algeria                                                      22.8                                                                  \n",
       "American Samoa                                                0.0                                                                  \n",
       "Andorra                                                       0.0                                                                  \n",
       "...                                                           ...                                                                  \n",
       "Uzbekistan                                                    9.8                                                                  \n",
       "Vanuatu                                                       2.0                                                                  \n",
       "Vietnam                                                      20.6                                                                  \n",
       "Zambia                                                     1364.4                                                                  \n",
       "Zimbabwe                                                    373.6                                                                  \n",
       "\n",
       "                Deaths - Cause: Diarrheal diseases - Risk: Suboptimal breastfeeding - Sex: Both - Age: Under 5 (Number)  \\\n",
       "Country Name                                                                                                              \n",
       "Afghanistan                                                1213.0                                                         \n",
       "Albania                                                       0.0                                                         \n",
       "Algeria                                                      85.0                                                         \n",
       "American Samoa                                                0.0                                                         \n",
       "Andorra                                                       0.0                                                         \n",
       "...                                                           ...                                                         \n",
       "Uzbekistan                                                   38.2                                                         \n",
       "Vanuatu                                                       2.0                                                         \n",
       "Vietnam                                                      36.4                                                         \n",
       "Zambia                                                      646.8                                                         \n",
       "Zimbabwe                                                    290.0                                                         \n",
       "\n",
       "                Deaths - Cause: Diarrheal diseases - Risk: Unsafe water source - Sex: Both - Age: Under 5 (Number)  \\\n",
       "Country Name                                                                                                         \n",
       "Afghanistan                                                4178.6                                                    \n",
       "Albania                                                       1.0                                                    \n",
       "Algeria                                                     154.0                                                    \n",
       "American Samoa                                                0.0                                                    \n",
       "Andorra                                                       0.0                                                    \n",
       "...                                                           ...                                                    \n",
       "Uzbekistan                                                   72.0                                                    \n",
       "Vanuatu                                                      10.2                                                    \n",
       "Vietnam                                                     111.2                                                    \n",
       "Zambia                                                     3613.0                                                    \n",
       "Zimbabwe                                                   1027.4                                                    \n",
       "\n",
       "                Deaths - Cause: Diarrheal diseases - Risk: Zinc deficiency - Sex: Both - Age: Under 5 (Number)  \\\n",
       "Country Name                                                                                                     \n",
       "Afghanistan                                                  62.4                                                \n",
       "Albania                                                       0.0                                                \n",
       "Algeria                                                       1.0                                                \n",
       "American Samoa                                                0.0                                                \n",
       "Andorra                                                       0.0                                                \n",
       "...                                                           ...                                                \n",
       "Uzbekistan                                                    0.0                                                \n",
       "Vanuatu                                                       0.0                                                \n",
       "Vietnam                                                       0.0                                                \n",
       "Zambia                                                       19.0                                                \n",
       "Zimbabwe                                                      4.6                                                \n",
       "\n",
       "                Deaths - Cause: Diarrheal diseases - Risk: Low birth weight - Sex: Both - Age: Under 5 (Number)  \\\n",
       "Country Name                                                                                                      \n",
       "Afghanistan                                                 434.6                                                 \n",
       "Albania                                                       0.0                                                 \n",
       "Algeria                                                      18.8                                                 \n",
       "American Samoa                                                0.0                                                 \n",
       "Andorra                                                       0.0                                                 \n",
       "...                                                           ...                                                 \n",
       "Uzbekistan                                                    9.6                                                 \n",
       "Vanuatu                                                       0.8                                                 \n",
       "Vietnam                                                       8.6                                                 \n",
       "Zambia                                                      213.0                                                 \n",
       "Zimbabwe                                                     56.8                                                 \n",
       "\n",
       "                Deaths - Cause: Diarrheal diseases - Risk: Short gestation - Sex: Both - Age: Under 5 (Number)  \\\n",
       "Country Name                                                                                                     \n",
       "Afghanistan                                                 306.8                                                \n",
       "Albania                                                       0.0                                                \n",
       "Algeria                                                      15.6                                                \n",
       "American Samoa                                                0.0                                                \n",
       "Andorra                                                       0.0                                                \n",
       "...                                                           ...                                                \n",
       "Uzbekistan                                                    7.2                                                \n",
       "Vanuatu                                                       0.0                                                \n",
       "Vietnam                                                       6.2                                                \n",
       "Zambia                                                      178.6                                                \n",
       "Zimbabwe                                                     51.0                                                \n",
       "\n",
       "                Deaths - Cause: Diarrheal diseases - Risk: Unsafe sanitation - Sex: Both - Age: Under 5 (Number)  \\\n",
       "Country Name                                                                                                       \n",
       "Afghanistan                                                2916.4                                                  \n",
       "Albania                                                       0.0                                                  \n",
       "Algeria                                                      51.6                                                  \n",
       "American Samoa                                                0.0                                                  \n",
       "Andorra                                                       0.0                                                  \n",
       "...                                                           ...                                                  \n",
       "Uzbekistan                                                   74.2                                                  \n",
       "Vanuatu                                                       7.4                                                  \n",
       "Vietnam                                                      56.4                                                  \n",
       "Zambia                                                     2560.6                                                  \n",
       "Zimbabwe                                                    675.2                                                  \n",
       "\n",
       "                Deaths - Cause: Diarrheal diseases - Risk: Vitamin A deficiency - Sex: Both - Age: Under 5 (Number)  \\\n",
       "Country Name                                                                                                          \n",
       "Afghanistan                                                 270.8                                                     \n",
       "Albania                                                       0.0                                                     \n",
       "Algeria                                                       1.8                                                     \n",
       "American Samoa                                                0.0                                                     \n",
       "Andorra                                                       0.0                                                     \n",
       "...                                                           ...                                                     \n",
       "Uzbekistan                                                    1.0                                                     \n",
       "Vanuatu                                                       1.0                                                     \n",
       "Vietnam                                                       1.4                                                     \n",
       "Zambia                                                      130.8                                                     \n",
       "Zimbabwe                                                     52.4                                                     \n",
       "\n",
       "                Total Deaths  GDP per capita (US$)  \n",
       "Country Name                                        \n",
       "Afghanistan          14201.0            512.909526  \n",
       "Albania                  2.0           4658.351372  \n",
       "Algeria                558.6           4073.145408  \n",
       "American Samoa           0.0          11667.736908  \n",
       "Andorra                  0.0          38980.412650  \n",
       "...                      ...                   ...  \n",
       "Uzbekistan             305.8           2151.298211  \n",
       "Vanuatu                 32.2           2966.458035  \n",
       "Vietnam                352.6           2991.464445  \n",
       "Zambia               12025.8           1395.132689  \n",
       "Zimbabwe              3384.2           1343.246123  \n",
       "\n",
       "[173 rows x 12 columns]"
      ]
     },
     "execution_count": 35,
     "metadata": {},
     "output_type": "execute_result"
    }
   ],
   "source": [
    "mean_all"
   ]
  },
  {
   "cell_type": "code",
   "execution_count": 36,
   "id": "fc827f1c",
   "metadata": {},
   "outputs": [],
   "source": [
    "mean_gdp = mean_all[\"GDP per capita (US$)\"]"
   ]
  },
  {
   "cell_type": "code",
   "execution_count": 37,
   "id": "707c110b",
   "metadata": {},
   "outputs": [
    {
     "data": {
      "text/plain": [
       "Country Name\n",
       "Afghanistan         512.909526\n",
       "Albania            4658.351372\n",
       "Algeria            4073.145408\n",
       "American Samoa    11667.736908\n",
       "Andorra           38980.412650\n",
       "                      ...     \n",
       "Uzbekistan         2151.298211\n",
       "Vanuatu            2966.458035\n",
       "Vietnam            2991.464445\n",
       "Zambia             1395.132689\n",
       "Zimbabwe           1343.246123\n",
       "Name: GDP per capita (US$), Length: 173, dtype: float64"
      ]
     },
     "execution_count": 37,
     "metadata": {},
     "output_type": "execute_result"
    }
   ],
   "source": [
    "mean_gdp"
   ]
  },
  {
   "cell_type": "code",
   "execution_count": 38,
   "id": "5d713e94",
   "metadata": {},
   "outputs": [
    {
     "data": {
      "text/html": [
       "<div>\n",
       "<style scoped>\n",
       "    .dataframe tbody tr th:only-of-type {\n",
       "        vertical-align: middle;\n",
       "    }\n",
       "\n",
       "    .dataframe tbody tr th {\n",
       "        vertical-align: top;\n",
       "    }\n",
       "\n",
       "    .dataframe thead th {\n",
       "        text-align: right;\n",
       "    }\n",
       "</style>\n",
       "<table border=\"1\" class=\"dataframe\">\n",
       "  <thead>\n",
       "    <tr style=\"text-align: right;\">\n",
       "      <th></th>\n",
       "      <th>Year</th>\n",
       "      <th>Deaths - Cause: Diarrheal diseases - Risk: Child growth failure - Sex: Both - Age: Under 5 (Number)</th>\n",
       "      <th>Deaths - Cause: Diarrheal diseases - Risk: No access to handwashing facility - Sex: Both - Age: Under 5 (Number)</th>\n",
       "      <th>Deaths - Cause: Diarrheal diseases - Risk: Suboptimal breastfeeding - Sex: Both - Age: Under 5 (Number)</th>\n",
       "      <th>Deaths - Cause: Diarrheal diseases - Risk: Unsafe water source - Sex: Both - Age: Under 5 (Number)</th>\n",
       "      <th>Deaths - Cause: Diarrheal diseases - Risk: Zinc deficiency - Sex: Both - Age: Under 5 (Number)</th>\n",
       "      <th>Deaths - Cause: Diarrheal diseases - Risk: Low birth weight - Sex: Both - Age: Under 5 (Number)</th>\n",
       "      <th>Deaths - Cause: Diarrheal diseases - Risk: Short gestation - Sex: Both - Age: Under 5 (Number)</th>\n",
       "      <th>Deaths - Cause: Diarrheal diseases - Risk: Unsafe sanitation - Sex: Both - Age: Under 5 (Number)</th>\n",
       "      <th>Deaths - Cause: Diarrheal diseases - Risk: Vitamin A deficiency - Sex: Both - Age: Under 5 (Number)</th>\n",
       "      <th>Total Deaths</th>\n",
       "      <th>GDP per capita (US$)</th>\n",
       "    </tr>\n",
       "    <tr>\n",
       "      <th>Country Name</th>\n",
       "      <th></th>\n",
       "      <th></th>\n",
       "      <th></th>\n",
       "      <th></th>\n",
       "      <th></th>\n",
       "      <th></th>\n",
       "      <th></th>\n",
       "      <th></th>\n",
       "      <th></th>\n",
       "      <th></th>\n",
       "      <th></th>\n",
       "      <th></th>\n",
       "    </tr>\n",
       "  </thead>\n",
       "  <tbody>\n",
       "    <tr>\n",
       "      <th>Afghanistan</th>\n",
       "      <td>10085</td>\n",
       "      <td>18397</td>\n",
       "      <td>5695</td>\n",
       "      <td>6065</td>\n",
       "      <td>20893</td>\n",
       "      <td>312</td>\n",
       "      <td>2173</td>\n",
       "      <td>1534</td>\n",
       "      <td>14582</td>\n",
       "      <td>1354</td>\n",
       "      <td>71005</td>\n",
       "      <td>2564.547630</td>\n",
       "    </tr>\n",
       "    <tr>\n",
       "      <th>Albania</th>\n",
       "      <td>10085</td>\n",
       "      <td>5</td>\n",
       "      <td>0</td>\n",
       "      <td>0</td>\n",
       "      <td>5</td>\n",
       "      <td>0</td>\n",
       "      <td>0</td>\n",
       "      <td>0</td>\n",
       "      <td>0</td>\n",
       "      <td>0</td>\n",
       "      <td>10</td>\n",
       "      <td>23291.756860</td>\n",
       "    </tr>\n",
       "    <tr>\n",
       "      <th>Algeria</th>\n",
       "      <td>10085</td>\n",
       "      <td>1040</td>\n",
       "      <td>114</td>\n",
       "      <td>425</td>\n",
       "      <td>770</td>\n",
       "      <td>5</td>\n",
       "      <td>94</td>\n",
       "      <td>78</td>\n",
       "      <td>258</td>\n",
       "      <td>9</td>\n",
       "      <td>2793</td>\n",
       "      <td>20365.727040</td>\n",
       "    </tr>\n",
       "    <tr>\n",
       "      <th>American Samoa</th>\n",
       "      <td>10085</td>\n",
       "      <td>0</td>\n",
       "      <td>0</td>\n",
       "      <td>0</td>\n",
       "      <td>0</td>\n",
       "      <td>0</td>\n",
       "      <td>0</td>\n",
       "      <td>0</td>\n",
       "      <td>0</td>\n",
       "      <td>0</td>\n",
       "      <td>0</td>\n",
       "      <td>58338.684540</td>\n",
       "    </tr>\n",
       "    <tr>\n",
       "      <th>Andorra</th>\n",
       "      <td>10085</td>\n",
       "      <td>0</td>\n",
       "      <td>0</td>\n",
       "      <td>0</td>\n",
       "      <td>0</td>\n",
       "      <td>0</td>\n",
       "      <td>0</td>\n",
       "      <td>0</td>\n",
       "      <td>0</td>\n",
       "      <td>0</td>\n",
       "      <td>0</td>\n",
       "      <td>194902.063250</td>\n",
       "    </tr>\n",
       "    <tr>\n",
       "      <th>...</th>\n",
       "      <td>...</td>\n",
       "      <td>...</td>\n",
       "      <td>...</td>\n",
       "      <td>...</td>\n",
       "      <td>...</td>\n",
       "      <td>...</td>\n",
       "      <td>...</td>\n",
       "      <td>...</td>\n",
       "      <td>...</td>\n",
       "      <td>...</td>\n",
       "      <td>...</td>\n",
       "      <td>...</td>\n",
       "    </tr>\n",
       "    <tr>\n",
       "      <th>Uzbekistan</th>\n",
       "      <td>10085</td>\n",
       "      <td>469</td>\n",
       "      <td>49</td>\n",
       "      <td>191</td>\n",
       "      <td>360</td>\n",
       "      <td>0</td>\n",
       "      <td>48</td>\n",
       "      <td>36</td>\n",
       "      <td>371</td>\n",
       "      <td>5</td>\n",
       "      <td>1529</td>\n",
       "      <td>10756.491055</td>\n",
       "    </tr>\n",
       "    <tr>\n",
       "      <th>Vanuatu</th>\n",
       "      <td>10085</td>\n",
       "      <td>44</td>\n",
       "      <td>10</td>\n",
       "      <td>10</td>\n",
       "      <td>51</td>\n",
       "      <td>0</td>\n",
       "      <td>4</td>\n",
       "      <td>0</td>\n",
       "      <td>37</td>\n",
       "      <td>5</td>\n",
       "      <td>161</td>\n",
       "      <td>14832.290174</td>\n",
       "    </tr>\n",
       "    <tr>\n",
       "      <th>Vietnam</th>\n",
       "      <td>10085</td>\n",
       "      <td>559</td>\n",
       "      <td>103</td>\n",
       "      <td>182</td>\n",
       "      <td>556</td>\n",
       "      <td>0</td>\n",
       "      <td>43</td>\n",
       "      <td>31</td>\n",
       "      <td>282</td>\n",
       "      <td>7</td>\n",
       "      <td>1763</td>\n",
       "      <td>14957.322225</td>\n",
       "    </tr>\n",
       "    <tr>\n",
       "      <th>Zambia</th>\n",
       "      <td>10085</td>\n",
       "      <td>16498</td>\n",
       "      <td>6822</td>\n",
       "      <td>3234</td>\n",
       "      <td>18065</td>\n",
       "      <td>95</td>\n",
       "      <td>1065</td>\n",
       "      <td>893</td>\n",
       "      <td>12803</td>\n",
       "      <td>654</td>\n",
       "      <td>60129</td>\n",
       "      <td>6975.663446</td>\n",
       "    </tr>\n",
       "    <tr>\n",
       "      <th>Zimbabwe</th>\n",
       "      <td>10085</td>\n",
       "      <td>4266</td>\n",
       "      <td>1868</td>\n",
       "      <td>1450</td>\n",
       "      <td>5137</td>\n",
       "      <td>23</td>\n",
       "      <td>284</td>\n",
       "      <td>255</td>\n",
       "      <td>3376</td>\n",
       "      <td>262</td>\n",
       "      <td>16921</td>\n",
       "      <td>6716.230613</td>\n",
       "    </tr>\n",
       "  </tbody>\n",
       "</table>\n",
       "<p>173 rows × 12 columns</p>\n",
       "</div>"
      ],
      "text/plain": [
       "                 Year  \\\n",
       "Country Name            \n",
       "Afghanistan     10085   \n",
       "Albania         10085   \n",
       "Algeria         10085   \n",
       "American Samoa  10085   \n",
       "Andorra         10085   \n",
       "...               ...   \n",
       "Uzbekistan      10085   \n",
       "Vanuatu         10085   \n",
       "Vietnam         10085   \n",
       "Zambia          10085   \n",
       "Zimbabwe        10085   \n",
       "\n",
       "                Deaths - Cause: Diarrheal diseases - Risk: Child growth failure - Sex: Both - Age: Under 5 (Number)  \\\n",
       "Country Name                                                                                                          \n",
       "Afghanistan                                                 18397                                                     \n",
       "Albania                                                         5                                                     \n",
       "Algeria                                                      1040                                                     \n",
       "American Samoa                                                  0                                                     \n",
       "Andorra                                                         0                                                     \n",
       "...                                                           ...                                                     \n",
       "Uzbekistan                                                    469                                                     \n",
       "Vanuatu                                                        44                                                     \n",
       "Vietnam                                                       559                                                     \n",
       "Zambia                                                      16498                                                     \n",
       "Zimbabwe                                                     4266                                                     \n",
       "\n",
       "                Deaths - Cause: Diarrheal diseases - Risk: No access to handwashing facility - Sex: Both - Age: Under 5 (Number)  \\\n",
       "Country Name                                                                                                                       \n",
       "Afghanistan                                                  5695                                                                  \n",
       "Albania                                                         0                                                                  \n",
       "Algeria                                                       114                                                                  \n",
       "American Samoa                                                  0                                                                  \n",
       "Andorra                                                         0                                                                  \n",
       "...                                                           ...                                                                  \n",
       "Uzbekistan                                                     49                                                                  \n",
       "Vanuatu                                                        10                                                                  \n",
       "Vietnam                                                       103                                                                  \n",
       "Zambia                                                       6822                                                                  \n",
       "Zimbabwe                                                     1868                                                                  \n",
       "\n",
       "                Deaths - Cause: Diarrheal diseases - Risk: Suboptimal breastfeeding - Sex: Both - Age: Under 5 (Number)  \\\n",
       "Country Name                                                                                                              \n",
       "Afghanistan                                                  6065                                                         \n",
       "Albania                                                         0                                                         \n",
       "Algeria                                                       425                                                         \n",
       "American Samoa                                                  0                                                         \n",
       "Andorra                                                         0                                                         \n",
       "...                                                           ...                                                         \n",
       "Uzbekistan                                                    191                                                         \n",
       "Vanuatu                                                        10                                                         \n",
       "Vietnam                                                       182                                                         \n",
       "Zambia                                                       3234                                                         \n",
       "Zimbabwe                                                     1450                                                         \n",
       "\n",
       "                Deaths - Cause: Diarrheal diseases - Risk: Unsafe water source - Sex: Both - Age: Under 5 (Number)  \\\n",
       "Country Name                                                                                                         \n",
       "Afghanistan                                                 20893                                                    \n",
       "Albania                                                         5                                                    \n",
       "Algeria                                                       770                                                    \n",
       "American Samoa                                                  0                                                    \n",
       "Andorra                                                         0                                                    \n",
       "...                                                           ...                                                    \n",
       "Uzbekistan                                                    360                                                    \n",
       "Vanuatu                                                        51                                                    \n",
       "Vietnam                                                       556                                                    \n",
       "Zambia                                                      18065                                                    \n",
       "Zimbabwe                                                     5137                                                    \n",
       "\n",
       "                Deaths - Cause: Diarrheal diseases - Risk: Zinc deficiency - Sex: Both - Age: Under 5 (Number)  \\\n",
       "Country Name                                                                                                     \n",
       "Afghanistan                                                   312                                                \n",
       "Albania                                                         0                                                \n",
       "Algeria                                                         5                                                \n",
       "American Samoa                                                  0                                                \n",
       "Andorra                                                         0                                                \n",
       "...                                                           ...                                                \n",
       "Uzbekistan                                                      0                                                \n",
       "Vanuatu                                                         0                                                \n",
       "Vietnam                                                         0                                                \n",
       "Zambia                                                         95                                                \n",
       "Zimbabwe                                                       23                                                \n",
       "\n",
       "                Deaths - Cause: Diarrheal diseases - Risk: Low birth weight - Sex: Both - Age: Under 5 (Number)  \\\n",
       "Country Name                                                                                                      \n",
       "Afghanistan                                                  2173                                                 \n",
       "Albania                                                         0                                                 \n",
       "Algeria                                                        94                                                 \n",
       "American Samoa                                                  0                                                 \n",
       "Andorra                                                         0                                                 \n",
       "...                                                           ...                                                 \n",
       "Uzbekistan                                                     48                                                 \n",
       "Vanuatu                                                         4                                                 \n",
       "Vietnam                                                        43                                                 \n",
       "Zambia                                                       1065                                                 \n",
       "Zimbabwe                                                      284                                                 \n",
       "\n",
       "                Deaths - Cause: Diarrheal diseases - Risk: Short gestation - Sex: Both - Age: Under 5 (Number)  \\\n",
       "Country Name                                                                                                     \n",
       "Afghanistan                                                  1534                                                \n",
       "Albania                                                         0                                                \n",
       "Algeria                                                        78                                                \n",
       "American Samoa                                                  0                                                \n",
       "Andorra                                                         0                                                \n",
       "...                                                           ...                                                \n",
       "Uzbekistan                                                     36                                                \n",
       "Vanuatu                                                         0                                                \n",
       "Vietnam                                                        31                                                \n",
       "Zambia                                                        893                                                \n",
       "Zimbabwe                                                      255                                                \n",
       "\n",
       "                Deaths - Cause: Diarrheal diseases - Risk: Unsafe sanitation - Sex: Both - Age: Under 5 (Number)  \\\n",
       "Country Name                                                                                                       \n",
       "Afghanistan                                                 14582                                                  \n",
       "Albania                                                         0                                                  \n",
       "Algeria                                                       258                                                  \n",
       "American Samoa                                                  0                                                  \n",
       "Andorra                                                         0                                                  \n",
       "...                                                           ...                                                  \n",
       "Uzbekistan                                                    371                                                  \n",
       "Vanuatu                                                        37                                                  \n",
       "Vietnam                                                       282                                                  \n",
       "Zambia                                                      12803                                                  \n",
       "Zimbabwe                                                     3376                                                  \n",
       "\n",
       "                Deaths - Cause: Diarrheal diseases - Risk: Vitamin A deficiency - Sex: Both - Age: Under 5 (Number)  \\\n",
       "Country Name                                                                                                          \n",
       "Afghanistan                                                  1354                                                     \n",
       "Albania                                                         0                                                     \n",
       "Algeria                                                         9                                                     \n",
       "American Samoa                                                  0                                                     \n",
       "Andorra                                                         0                                                     \n",
       "...                                                           ...                                                     \n",
       "Uzbekistan                                                      5                                                     \n",
       "Vanuatu                                                         5                                                     \n",
       "Vietnam                                                         7                                                     \n",
       "Zambia                                                        654                                                     \n",
       "Zimbabwe                                                      262                                                     \n",
       "\n",
       "                Total Deaths  GDP per capita (US$)  \n",
       "Country Name                                        \n",
       "Afghanistan            71005           2564.547630  \n",
       "Albania                   10          23291.756860  \n",
       "Algeria                 2793          20365.727040  \n",
       "American Samoa             0          58338.684540  \n",
       "Andorra                    0         194902.063250  \n",
       "...                      ...                   ...  \n",
       "Uzbekistan              1529          10756.491055  \n",
       "Vanuatu                  161          14832.290174  \n",
       "Vietnam                 1763          14957.322225  \n",
       "Zambia                 60129           6975.663446  \n",
       "Zimbabwe               16921           6716.230613  \n",
       "\n",
       "[173 rows x 12 columns]"
      ]
     },
     "execution_count": 38,
     "metadata": {},
     "output_type": "execute_result"
    }
   ],
   "source": [
    "group_all"
   ]
  },
  {
   "cell_type": "code",
   "execution_count": 39,
   "id": "d4c27478",
   "metadata": {},
   "outputs": [
    {
     "data": {
      "text/plain": [
       "Country Name\n",
       "Afghanistan       18397\n",
       "Albania               5\n",
       "Algeria            1040\n",
       "American Samoa        0\n",
       "Andorra               0\n",
       "                  ...  \n",
       "Uzbekistan          469\n",
       "Vanuatu              44\n",
       "Vietnam             559\n",
       "Zambia            16498\n",
       "Zimbabwe           4266\n",
       "Name: Deaths - Cause: Diarrheal diseases - Risk: Child growth failure - Sex: Both - Age: Under 5 (Number), Length: 173, dtype: int64"
      ]
     },
     "execution_count": 39,
     "metadata": {},
     "output_type": "execute_result"
    }
   ],
   "source": [
    "Child_growth_fail = group_all[\"Deaths - Cause: Diarrheal diseases - Risk: Child growth failure - Sex: Both - Age: Under 5 (Number)\"]\n",
    "Child_growth_fail"
   ]
  },
  {
   "cell_type": "code",
   "execution_count": 40,
   "id": "08027c49",
   "metadata": {},
   "outputs": [
    {
     "data": {
      "text/plain": [
       "{'Mean': 12196.878612716762,\n",
       " 'Median': 68.0,\n",
       " 'Variance': 2990522974.915901,\n",
       " 'Std Dev': 54685.67431161383}"
      ]
     },
     "execution_count": 40,
     "metadata": {},
     "output_type": "execute_result"
    }
   ],
   "source": [
    "Child_growth_fail_mean = np.mean(Child_growth_fail)\n",
    "Child_growth_fail_median = np.median(Child_growth_fail)\n",
    "Child_growth_fail_var = np.var(Child_growth_fail,ddof = 0)\n",
    "Child_growth_fail_std = np.std(Child_growth_fail,ddof = 0)\n",
    "Child_growth_fail_df = ({\n",
    "    \"Mean\": Child_growth_fail_mean, \n",
    "    \"Median\": Child_growth_fail_median, \n",
    "    \"Variance\": Child_growth_fail_var, \n",
    "    \"Std Dev\": Child_growth_fail_std\n",
    "})\n",
    "Child_growth_fail_df"
   ]
  },
  {
   "cell_type": "code",
   "execution_count": 41,
   "id": "1ca728cd",
   "metadata": {},
   "outputs": [
    {
     "data": {
      "text/plain": [
       "<Figure size 432x288 with 0 Axes>"
      ]
     },
     "metadata": {},
     "output_type": "display_data"
    },
    {
     "data": {
      "image/png": "[encoded data removed]",
      "text/plain": [
       "<Figure size 432x288 with 1 Axes>"
      ]
     },
     "metadata": {
      "needs_background": "light"
     },
     "output_type": "display_data"
    }
   ],
   "source": [
    "plt.figure()\n",
    "fig1, ax1 = plt.subplots()\n",
    "ax1.set_title('Child Growth Failure 2015-2019')\n",
    "ax1.set_ylabel(\"Number of Deaths (000,000's)\")\n",
    "ax1.boxplot(Child_growth_fail)\n",
    "#plt.savefig(\"../Visuals/Boxplots/Child_growth_fail_bplot.png\")\n",
    "plt.show()\n"
   ]
  },
  {
   "cell_type": "code",
   "execution_count": 42,
   "id": "ca5dc367",
   "metadata": {},
   "outputs": [
    {
     "data": {
      "text/plain": [
       "Text(0.5, 1.0, 'Child Growth Failure 2015-2019')"
      ]
     },
     "execution_count": 42,
     "metadata": {},
     "output_type": "execute_result"
    },
    {
     "data": {
      "image/png": "[encoded data removed]",
      "text/plain": [
       "<Figure size 432x288 with 1 Axes>"
      ]
     },
     "metadata": {
      "needs_background": "light"
     },
     "output_type": "display_data"
    }
   ],
   "source": [
    "plt.figure()\n",
    "\n",
    "plt.hist(Child_growth_fail)\n",
    "plt.xlabel(\"Total Number of Deaths (000,000's)\")\n",
    "plt.ylabel(\"Frequency\")\n",
    "plt.title(\"Child Growth Failure 2015-2019\")\n",
    "#plt.savefig(\"../Visuals/Histograms/totaldeaths.png\")"
   ]
  },
  {
   "cell_type": "code",
   "execution_count": 50,
   "id": "ede1b948",
   "metadata": {
    "scrolled": true
   },
   "outputs": [
    {
     "name": "stdout",
     "output_type": "stream",
     "text": [
      "{-0.13}\n",
      "The r-squared is: 0.01776688298798483\n"
     ]
    },
    {
     "data": {
      "image/png": "[encoded data removed]",
      "text/plain": [
       "<Figure size 432x288 with 1 Axes>"
      ]
     },
     "metadata": {
      "needs_background": "light"
     },
     "output_type": "display_data"
    }
   ],
   "source": [
    "plt.figure()\n",
    "plt.scatter(mean_gdp,Child_growth_fail, marker=\"o\", color=\"brown\")\n",
    "plt.title(\"GDP per Capita vs Child growth failure 2015 - 2019\")\n",
    "plt.xlabel(\"Average GDP per Capita ($USD)\")\n",
    "plt.ylabel(\"Child growth failure\")\n",
    "plt.tight_layout()\n",
    "\n",
    "x_values = mean_gdp\n",
    "y_values = Child_growth_fail\n",
    "(slope, intercept, rvalue, pvalue, stderr) = linregress(x_values, y_values)\n",
    "regress_values = x_values * slope + intercept\n",
    "line_eq = \"y = \" + str(round(slope,2)) + \"x + \" + str(round(intercept,2))\n",
    "plt.scatter(x_values,y_values)\n",
    "plt.plot(x_values, regress_values,\"r-\")\n",
    "plt.annotate(line_eq,(25000,200000),fontsize=15,color=\"red\")\n",
    "correlation =st.pearsonr(x_values, y_values)\n",
    "print({round(correlation[0], 2)})\n",
    "\n",
    "print(f\"The r-squared is: {rvalue**2}\")\n",
    "\n",
    "\n",
    "\n",
    "\n",
    "#plt.savefig(\"../Visuals/child_growthvGDPreg.png\")\n"
   ]
  },
  {
   "cell_type": "code",
   "execution_count": 51,
   "id": "3eb48824",
   "metadata": {},
   "outputs": [
    {
     "data": {
      "text/plain": [
       "Country Name\n",
       "Afghanistan       5695\n",
       "Albania              0\n",
       "Algeria            114\n",
       "American Samoa       0\n",
       "Andorra              0\n",
       "                  ... \n",
       "Uzbekistan          49\n",
       "Vanuatu             10\n",
       "Vietnam            103\n",
       "Zambia            6822\n",
       "Zimbabwe          1868\n",
       "Name: Deaths - Cause: Diarrheal diseases - Risk: No access to handwashing facility - Sex: Both - Age: Under 5 (Number), Length: 173, dtype: int64"
      ]
     },
     "execution_count": 51,
     "metadata": {},
     "output_type": "execute_result"
    }
   ],
   "source": [
    "No_handwash = group_all[\"Deaths - Cause: Diarrheal diseases - Risk: No access to handwashing facility - Sex: Both - Age: Under 5 (Number)\"]\n",
    "No_handwash"
   ]
  },
  {
   "cell_type": "code",
   "execution_count": 52,
   "id": "4fc88a3f",
   "metadata": {},
   "outputs": [
    {
     "data": {
      "text/plain": [
       "{'Mean': 4256.040462427745,\n",
       " 'Median': 7.0,\n",
       " 'Variance': 381647916.3047212,\n",
       " 'Std Dev': 19535.811124822056}"
      ]
     },
     "execution_count": 52,
     "metadata": {},
     "output_type": "execute_result"
    }
   ],
   "source": [
    "No_handwash_mean = np.mean(No_handwash)\n",
    "No_handwash_median = np.median(No_handwash)\n",
    "No_handwash_var = np.var(No_handwash,ddof = 0)\n",
    "No_handwash_std = np.std(No_handwash,ddof = 0)\n",
    "No_handwash_df = ({\n",
    "    \"Mean\": No_handwash_mean, \n",
    "    \"Median\": No_handwash_median, \n",
    "    \"Variance\": No_handwash_var, \n",
    "    \"Std Dev\": No_handwash_std\n",
    "})\n",
    "No_handwash_df"
   ]
  },
  {
   "cell_type": "code",
   "execution_count": 53,
   "id": "d44231e3",
   "metadata": {},
   "outputs": [
    {
     "data": {
      "text/plain": [
       "<Figure size 432x288 with 0 Axes>"
      ]
     },
     "metadata": {},
     "output_type": "display_data"
    },
    {
     "data": {
      "image/png": "[encoded data removed]",
      "text/plain": [
       "<Figure size 432x288 with 1 Axes>"
      ]
     },
     "metadata": {
      "needs_background": "light"
     },
     "output_type": "display_data"
    }
   ],
   "source": [
    "plt.figure()\n",
    "fig1, ax1 = plt.subplots()\n",
    "ax1.set_title('No Handwashing Facility 2015 - 2019')\n",
    "ax1.set_ylabel(\"Number of Deaths (000,000's)\")\n",
    "ax1.boxplot(No_handwash)\n",
    "#plt.savefig(\"../Visuals/Boxplots/nohandwash_bplot.png\")\n",
    "plt.show()\n"
   ]
  },
  {
   "cell_type": "code",
   "execution_count": 54,
   "id": "62eb03d3",
   "metadata": {},
   "outputs": [
    {
     "data": {
      "text/plain": [
       "Text(0.5, 1.0, 'No Handwashing Facility 2015 - 2019')"
      ]
     },
     "execution_count": 54,
     "metadata": {},
     "output_type": "execute_result"
    },
    {
     "data": {
      "image/png": "[encoded data removed]",
      "text/plain": [
       "<Figure size 432x288 with 1 Axes>"
      ]
     },
     "metadata": {
      "needs_background": "light"
     },
     "output_type": "display_data"
    }
   ],
   "source": [
    "plt.figure()\n",
    "\n",
    "plt.hist(total_deaths)\n",
    "plt.xlabel(\"Total Number of Deaths (000,000's)\")\n",
    "plt.ylabel(\"Frequency\")\n",
    "plt.title(\"No Handwashing Facility 2015 - 2019\")\n",
    "\n",
    "#plt.savefig(\"../Visuals/Histograms/totaldeaths.png\")"
   ]
  },
  {
   "cell_type": "code",
   "execution_count": 55,
   "id": "5c97d573",
   "metadata": {},
   "outputs": [
    {
     "name": "stdout",
     "output_type": "stream",
     "text": [
      "{-0.13}\n",
      "The r-squared is: 0.01725282749519765\n"
     ]
    },
    {
     "data": {
      "image/png": "[encoded data removed]",
      "text/plain": [
       "<Figure size 432x288 with 1 Axes>"
      ]
     },
     "metadata": {
      "needs_background": "light"
     },
     "output_type": "display_data"
    }
   ],
   "source": [
    "plt.figure()\n",
    "plt.scatter(mean_gdp,No_handwash, marker=\"o\", color=\"black\")\n",
    "plt.title(\"GDP per Capita vs No Handwashing Facility 2015 - 2019\")\n",
    "plt.xlabel(\"Average GDP per Capita ($USD)\")\n",
    "plt.ylabel(\"No Handwashing Facility\")\n",
    "plt.tight_layout()\n",
    "\n",
    "x_values = mean_gdp\n",
    "y_values = No_handwash\n",
    "(slope, intercept, rvalue, pvalue, stderr) = linregress(x_values, y_values)\n",
    "regress_values = x_values * slope + intercept\n",
    "line_eq = \"y = \" + str(round(slope,2)) + \"x + \" + str(round(intercept,2))\n",
    "plt.scatter(x_values,y_values)\n",
    "plt.plot(x_values, regress_values,\"r-\")\n",
    "plt.annotate(line_eq,(25000,200000),fontsize=15,color=\"red\")\n",
    "correlation =st.pearsonr(x_values, y_values)\n",
    "print({round(correlation[0], 2)})\n",
    "\n",
    "print(f\"The r-squared is: {rvalue**2}\")\n",
    "\n",
    "\n",
    "\n",
    "\n",
    "#plt.savefig(\"../Visuals/No_handwashvGDPreg.png\")\n",
    "#plt.savefig(\"../Visuals/handwashvGDP.png\")"
   ]
  },
  {
   "cell_type": "code",
   "execution_count": 56,
   "id": "5dba47d9",
   "metadata": {},
   "outputs": [],
   "source": [
    "sub_bfeed = group_all[\"Deaths - Cause: Diarrheal diseases - Risk: Suboptimal breastfeeding - Sex: Both - Age: Under 5 (Number)\"]"
   ]
  },
  {
   "cell_type": "code",
   "execution_count": 57,
   "id": "ac6b0b90",
   "metadata": {},
   "outputs": [
    {
     "data": {
      "text/plain": [
       "{'Mean': 2906.341040462428,\n",
       " 'Median': 24.0,\n",
       " 'Variance': 168663372.62935612,\n",
       " 'Std Dev': 12987.046339693876}"
      ]
     },
     "execution_count": 57,
     "metadata": {},
     "output_type": "execute_result"
    }
   ],
   "source": [
    "sub_bfeed_mean = np.mean(sub_bfeed)\n",
    "sub_bfeed_median = np.median(sub_bfeed)\n",
    "sub_bfeed_var = np.var(sub_bfeed,ddof = 0)\n",
    "sub_bfeed_std = np.std(sub_bfeed,ddof = 0)\n",
    "sub_bfeed_df = ({\n",
    "    \"Mean\": sub_bfeed_mean, \n",
    "    \"Median\": sub_bfeed_median, \n",
    "    \"Variance\": sub_bfeed_var, \n",
    "    \"Std Dev\": sub_bfeed_std\n",
    "})\n",
    "sub_bfeed_df"
   ]
  },
  {
   "cell_type": "code",
   "execution_count": 58,
   "id": "f2ee3e80",
   "metadata": {},
   "outputs": [
    {
     "data": {
      "text/plain": [
       "<Figure size 432x288 with 0 Axes>"
      ]
     },
     "metadata": {},
     "output_type": "display_data"
    },
    {
     "data": {
      "image/png": "[encoded data removed]",
      "text/plain": [
       "<Figure size 432x288 with 1 Axes>"
      ]
     },
     "metadata": {
      "needs_background": "light"
     },
     "output_type": "display_data"
    }
   ],
   "source": [
    "plt.figure()\n",
    "fig1, ax1 = plt.subplots()\n",
    "ax1.set_title('Subpar breastfeeding 2015 - 2019\"')\n",
    "ax1.set_ylabel(\"Number of Deaths (000,000's)\")\n",
    "ax1.boxplot(sub_bfeed)\n",
    "#plt.savefig(\"../Visuals/Boxplots/sub_bfeed_bplot.png\")\n",
    "plt.show()\n"
   ]
  },
  {
   "cell_type": "code",
   "execution_count": 59,
   "id": "771738fd",
   "metadata": {},
   "outputs": [
    {
     "data": {
      "text/plain": [
       "Text(0.5, 1.0, 'Subpar breastfeeding 2015 - 2019')"
      ]
     },
     "execution_count": 59,
     "metadata": {},
     "output_type": "execute_result"
    },
    {
     "data": {
      "image/png": "[encoded data removed]",
      "text/plain": [
       "<Figure size 432x288 with 1 Axes>"
      ]
     },
     "metadata": {
      "needs_background": "light"
     },
     "output_type": "display_data"
    }
   ],
   "source": [
    "plt.figure()\n",
    "\n",
    "plt.hist(sub_bfeed)\n",
    "plt.xlabel(\"Total Number of Deaths (000,000's)\")\n",
    "plt.ylabel(\"Frequency\")\n",
    "plt.title(\"Subpar breastfeeding 2015 - 2019\")\n",
    "#plt.savefig(\"../Visuals/Histograms/sub_bfeed.png\")"
   ]
  },
  {
   "cell_type": "code",
   "execution_count": 60,
   "id": "42fd9f7f",
   "metadata": {},
   "outputs": [
    {
     "name": "stdout",
     "output_type": "stream",
     "text": [
      "{-0.13}\n",
      "The r-squared is: 0.0174577405761479\n"
     ]
    },
    {
     "data": {
      "image/png": "[encoded data removed]",
      "text/plain": [
       "<Figure size 432x288 with 1 Axes>"
      ]
     },
     "metadata": {
      "needs_background": "light"
     },
     "output_type": "display_data"
    }
   ],
   "source": [
    "plt.figure()\n",
    "plt.scatter(mean_gdp,sub_bfeed, marker=\"o\", color=\"green\")\n",
    "plt.title(\"GDP per Capita vs Subpar breastfeeding 2015 - 2019\")\n",
    "plt.xlabel(\"Average GDP per Capita ($USD)\")\n",
    "plt.ylabel(\"Subpar breastfeeding\")\n",
    "plt.tight_layout()\n",
    "\n",
    "x_values = mean_gdp\n",
    "y_values = sub_bfeed\n",
    "(slope, intercept, rvalue, pvalue, stderr) = linregress(x_values, y_values)\n",
    "regress_values = x_values * slope + intercept\n",
    "line_eq = \"y = \" + str(round(slope,2)) + \"x + \" + str(round(intercept,2))\n",
    "plt.scatter(x_values,y_values)\n",
    "plt.plot(x_values, regress_values,\"r-\")\n",
    "plt.annotate(line_eq,(25000,100000),fontsize=15,color=\"red\")\n",
    "correlation =st.pearsonr(x_values, y_values)\n",
    "print({round(correlation[0], 2)})\n",
    "\n",
    "print(f\"The r-squared is: {rvalue**2}\")\n",
    "\n",
    "\n",
    "\n",
    "\n",
    "#plt.savefig(\"../Visuals/sub_bfeedvGDPreg.png\")\n",
    "#plt.savefig(\"../Visuals/breastfeedingvGDP.png\")"
   ]
  },
  {
   "cell_type": "code",
   "execution_count": 62,
   "id": "6ac784e9",
   "metadata": {},
   "outputs": [],
   "source": [
    "unsafe_water = group_all[\"Deaths - Cause: Diarrheal diseases - Risk: Unsafe water source - Sex: Both - Age: Under 5 (Number)\"]"
   ]
  },
  {
   "cell_type": "code",
   "execution_count": 63,
   "id": "1fdd2b93",
   "metadata": {},
   "outputs": [
    {
     "data": {
      "text/plain": [
       "{'Mean': 12711.13294797688,\n",
       " 'Median': 51.0,\n",
       " 'Variance': 3082497714.5314574,\n",
       " 'Std Dev': 55520.245987670634}"
      ]
     },
     "execution_count": 63,
     "metadata": {},
     "output_type": "execute_result"
    }
   ],
   "source": [
    "unsafe_water_mean = np.mean(unsafe_water)\n",
    "unsafe_water_median = np.median(unsafe_water)\n",
    "unsafe_water_var = np.var(unsafe_water,ddof = 0)\n",
    "unsafe_water_std = np.std(unsafe_water,ddof = 0)\n",
    "unsafe_water_df = ({\n",
    "    \"Mean\": unsafe_water_mean, \n",
    "    \"Median\": unsafe_water_median, \n",
    "    \"Variance\": unsafe_water_var, \n",
    "    \"Std Dev\": unsafe_water_std\n",
    "})\n",
    "unsafe_water_df"
   ]
  },
  {
   "cell_type": "code",
   "execution_count": 64,
   "id": "d67091ed",
   "metadata": {},
   "outputs": [
    {
     "data": {
      "text/plain": [
       "<Figure size 432x288 with 0 Axes>"
      ]
     },
     "metadata": {},
     "output_type": "display_data"
    },
    {
     "data": {
      "image/png": "[encoded data removed]",
      "text/plain": [
       "<Figure size 432x288 with 1 Axes>"
      ]
     },
     "metadata": {
      "needs_background": "light"
     },
     "output_type": "display_data"
    }
   ],
   "source": [
    "plt.figure()\n",
    "fig1, ax1 = plt.subplots()\n",
    "ax1.set_title('Unsafe water sources 2015 - 2019')\n",
    "ax1.set_ylabel(\"Number of Deaths (000,000's)\")\n",
    "ax1.boxplot(unsafe_water)\n",
    "#plt.savefig(\"../Visuals/Boxplots/unsafe_water_bplot.png\")\n",
    "plt.show()\n"
   ]
  },
  {
   "cell_type": "code",
   "execution_count": 65,
   "id": "e112b76a",
   "metadata": {},
   "outputs": [
    {
     "data": {
      "text/plain": [
       "Text(0.5, 1.0, 'Unsafe water sources (2015 - 2019)')"
      ]
     },
     "execution_count": 65,
     "metadata": {},
     "output_type": "execute_result"
    },
    {
     "data": {
      "image/png": "[encoded data removed]",
      "text/plain": [
       "<Figure size 432x288 with 1 Axes>"
      ]
     },
     "metadata": {
      "needs_background": "light"
     },
     "output_type": "display_data"
    }
   ],
   "source": [
    "plt.figure()\n",
    "\n",
    "plt.hist(unsafe_water)\n",
    "plt.xlabel(\"Total Number of Deaths (000,000's)\")\n",
    "plt.ylabel(\"Frequency\")\n",
    "plt.title(\"Unsafe water sources (2015 - 2019)\")\n",
    "#plt.savefig(\"../Visuals/Histograms/unsafe_water.png\")"
   ]
  },
  {
   "cell_type": "code",
   "execution_count": 66,
   "id": "601d380c",
   "metadata": {},
   "outputs": [
    {
     "name": "stdout",
     "output_type": "stream",
     "text": [
      "{-0.14}\n",
      "The r-squared is: 0.018815097775284655\n"
     ]
    },
    {
     "data": {
      "image/png": "[encoded data removed]",
      "text/plain": [
       "<Figure size 432x288 with 1 Axes>"
      ]
     },
     "metadata": {
      "needs_background": "light"
     },
     "output_type": "display_data"
    }
   ],
   "source": [
    "plt.figure()\n",
    "plt.scatter(mean_gdp,unsafe_water, marker=\"o\", color=\"yellow\")\n",
    "plt.title(\"GDP per Capita vs Unsafe water sources 2015 - 2019\")\n",
    "plt.xlabel(\"Average GDP per Capita ($USD)\")\n",
    "plt.ylabel(\"Unsafe water sources\")\n",
    "plt.tight_layout()\n",
    "\n",
    "x_values = mean_gdp\n",
    "y_values = unsafe_water\n",
    "(slope, intercept, rvalue, pvalue, stderr) = linregress(x_values, y_values)\n",
    "regress_values = x_values * slope + intercept\n",
    "line_eq = \"y = \" + str(round(slope,2)) + \"x + \" + str(round(intercept,2))\n",
    "plt.scatter(x_values,y_values)\n",
    "plt.plot(x_values, regress_values,\"r-\")\n",
    "plt.annotate(line_eq,(25000,200000),fontsize=15,color=\"red\")\n",
    "correlation =st.pearsonr(x_values, y_values)\n",
    "print({round(correlation[0], 2)})\n",
    "\n",
    "print(f\"The r-squared is: {rvalue**2}\")\n",
    "\n",
    "\n",
    "\n",
    "\n",
    "#plt.savefig(\"../Visuals/unsafe_watervGDPreg.png\")\n",
    "#plt.savefig(\"../Visuals/unsafe_watervGDP.png\")"
   ]
  },
  {
   "cell_type": "code",
   "execution_count": 67,
   "id": "d0870dec",
   "metadata": {},
   "outputs": [],
   "source": [
    "zinc_def = group_all[\"Deaths - Cause: Diarrheal diseases - Risk: Zinc deficiency - Sex: Both - Age: Under 5 (Number)\"]"
   ]
  },
  {
   "cell_type": "code",
   "execution_count": 68,
   "id": "839f9d76",
   "metadata": {},
   "outputs": [
    {
     "data": {
      "text/plain": [
       "{'Mean': 81.09248554913295,\n",
       " 'Median': 0.0,\n",
       " 'Variance': 119609.69086838851,\n",
       " 'Std Dev': 345.846339966738}"
      ]
     },
     "execution_count": 68,
     "metadata": {},
     "output_type": "execute_result"
    }
   ],
   "source": [
    "zinc_def_mean = np.mean(zinc_def)\n",
    "zinc_def_median = np.median(zinc_def)\n",
    "zinc_def_var = np.var(zinc_def,ddof = 0)\n",
    "zinc_def_std = np.std(zinc_def,ddof = 0)\n",
    "zinc_def_df = ({\n",
    "    \"Mean\": zinc_def_mean, \n",
    "    \"Median\": zinc_def_median, \n",
    "    \"Variance\": zinc_def_var, \n",
    "    \"Std Dev\": zinc_def_std\n",
    "})\n",
    "zinc_def_df"
   ]
  },
  {
   "cell_type": "code",
   "execution_count": 69,
   "id": "aea27819",
   "metadata": {},
   "outputs": [
    {
     "data": {
      "text/plain": [
       "<Figure size 432x288 with 0 Axes>"
      ]
     },
     "metadata": {},
     "output_type": "display_data"
    },
    {
     "data": {
      "image/png": "[encoded data removed]",
      "text/plain": [
       "<Figure size 432x288 with 1 Axes>"
      ]
     },
     "metadata": {
      "needs_background": "light"
     },
     "output_type": "display_data"
    }
   ],
   "source": [
    "plt.figure()\n",
    "fig1, ax1 = plt.subplots()\n",
    "ax1.set_title('Total Deaths from Diarrhea 2015-2019')\n",
    "ax1.set_ylabel(\"Number of Deaths (000,000's)\")\n",
    "ax1.boxplot(zinc_def)\n",
    "#plt.savefig(\"../Visuals/Boxplots/zinc_def_bplot.png\")\n",
    "plt.show()\n"
   ]
  },
  {
   "cell_type": "code",
   "execution_count": 70,
   "id": "b508c237",
   "metadata": {},
   "outputs": [
    {
     "data": {
      "text/plain": [
       "Text(0.5, 1.0, 'Zinc deficiency (2015 - 2019)')"
      ]
     },
     "execution_count": 70,
     "metadata": {},
     "output_type": "execute_result"
    },
    {
     "data": {
      "image/png": "[encoded data removed]",
      "text/plain": [
       "<Figure size 432x288 with 1 Axes>"
      ]
     },
     "metadata": {
      "needs_background": "light"
     },
     "output_type": "display_data"
    }
   ],
   "source": [
    "plt.figure()\n",
    "\n",
    "plt.hist(zinc_def)\n",
    "plt.xlabel(\"Total Number of Deaths (000,000's)\")\n",
    "plt.ylabel(\"Frequency\")\n",
    "plt.title(\"Zinc deficiency (2015 - 2019)\")\n",
    "#plt.savefig(\"../Visuals/Histograms/zinc_def.png\")"
   ]
  },
  {
   "cell_type": "code",
   "execution_count": 71,
   "id": "7839b103",
   "metadata": {},
   "outputs": [
    {
     "name": "stdout",
     "output_type": "stream",
     "text": [
      "{-0.14}\n",
      "The r-squared is: 0.02007147154503375\n"
     ]
    },
    {
     "data": {
      "image/png": "[encoded data removed]",
      "text/plain": [
       "<Figure size 432x288 with 1 Axes>"
      ]
     },
     "metadata": {
      "needs_background": "light"
     },
     "output_type": "display_data"
    }
   ],
   "source": [
    "plt.figure()\n",
    "plt.scatter(mean_gdp,zinc_def, marker=\"o\", color=\"orange\")\n",
    "plt.title(\"GDP per Capita vs Zinc deficiency 2015 - 2019\")\n",
    "plt.xlabel(\"Average GDP per Capita ($USD)\")\n",
    "plt.ylabel(\"Zinc deficiency\")\n",
    "plt.tight_layout()\n",
    "\n",
    "x_values = mean_gdp\n",
    "y_values = zinc_def\n",
    "(slope, intercept, rvalue, pvalue, stderr) = linregress(x_values, y_values)\n",
    "regress_values = x_values * slope + intercept\n",
    "line_eq = \"y = \" + str(round(slope,2)) + \"x + \" + str(round(intercept,2))\n",
    "plt.scatter(x_values,y_values)\n",
    "plt.plot(x_values, regress_values,\"r-\")\n",
    "plt.annotate(line_eq,(25000,2000),fontsize=15,color=\"red\")\n",
    "correlation =st.pearsonr(x_values, y_values)\n",
    "print({round(correlation[0], 2)})\n",
    "\n",
    "print(f\"The r-squared is: {rvalue**2}\")\n",
    "\n",
    "\n",
    "\n",
    "\n",
    "#plt.savefig(\"../Visuals/zinc_defvGDPreg.png\")\n",
    "#plt.savefig(\"../Visuals/zincvGDP.png\")"
   ]
  },
  {
   "cell_type": "code",
   "execution_count": 72,
   "id": "cf0ff252",
   "metadata": {},
   "outputs": [],
   "source": [
    "low_birth = group_all[\"Deaths - Cause: Diarrheal diseases - Risk: Low birth weight - Sex: Both - Age: Under 5 (Number)\"]"
   ]
  },
  {
   "cell_type": "code",
   "execution_count": 73,
   "id": "b9ea073f",
   "metadata": {},
   "outputs": [
    {
     "data": {
      "text/plain": [
       "{'Mean': 939.6011560693642,\n",
       " 'Median': 8.0,\n",
       " 'Variance': 19561562.806241434,\n",
       " 'Std Dev': 4422.845555323115}"
      ]
     },
     "execution_count": 73,
     "metadata": {},
     "output_type": "execute_result"
    }
   ],
   "source": [
    "low_birth_mean = np.mean(low_birth)\n",
    "low_birth_median = np.median(low_birth)\n",
    "low_birth_var = np.var(low_birth,ddof = 0)\n",
    "low_birth_std = np.std(low_birth,ddof = 0)\n",
    "low_birth_df = ({\n",
    "    \"Mean\": low_birth_mean, \n",
    "    \"Median\": low_birth_median, \n",
    "    \"Variance\": low_birth_var, \n",
    "    \"Std Dev\": low_birth_std\n",
    "})\n",
    "low_birth_df"
   ]
  },
  {
   "cell_type": "code",
   "execution_count": 74,
   "id": "8c8158f4",
   "metadata": {},
   "outputs": [
    {
     "name": "stdout",
     "output_type": "stream",
     "text": [
      "{-0.13}\n",
      "The r-squared is: 0.01614218663953683\n"
     ]
    },
    {
     "data": {
      "image/png": "[encoded data removed]",
      "text/plain": [
       "<Figure size 432x288 with 1 Axes>"
      ]
     },
     "metadata": {
      "needs_background": "light"
     },
     "output_type": "display_data"
    }
   ],
   "source": [
    "plt.figure()\n",
    "plt.scatter(mean_gdp,low_birth, marker=\"o\", color=\"teal\")\n",
    "plt.title(\"GDP per Capita vs Low birth weight 2015 - 2019\")\n",
    "plt.xlabel(\"Average GDP per Capita ($USD)\")\n",
    "plt.ylabel(\"Low birth weight\")\n",
    "plt.tight_layout()\n",
    "\n",
    "x_values = mean_gdp\n",
    "y_values = low_birth\n",
    "(slope, intercept, rvalue, pvalue, stderr) = linregress(x_values, y_values)\n",
    "regress_values = x_values * slope + intercept\n",
    "line_eq = \"y = \" + str(round(slope,2)) + \"x + \" + str(round(intercept,2))\n",
    "plt.scatter(x_values,y_values)\n",
    "plt.plot(x_values, regress_values,\"r-\")\n",
    "plt.annotate(line_eq,(25000,30000),fontsize=15,color=\"red\")\n",
    "correlation =st.pearsonr(x_values, y_values)\n",
    "print({round(correlation[0], 2)})\n",
    "\n",
    "print(f\"The r-squared is: {rvalue**2}\")\n",
    "\n",
    "\n",
    "\n",
    "\n",
    "#plt.savefig(\"../Visuals/low_birthvGDPreg.png\")\n",
    "#plt.savefig(\"../Visuals/birthvGDP.png\")"
   ]
  },
  {
   "cell_type": "code",
   "execution_count": 75,
   "id": "ad5064ea",
   "metadata": {},
   "outputs": [],
   "source": [
    "shrt_gest = group_all[\"Deaths - Cause: Diarrheal diseases - Risk: Short gestation - Sex: Both - Age: Under 5 (Number)\"]"
   ]
  },
  {
   "cell_type": "code",
   "execution_count": 76,
   "id": "ce45d968",
   "metadata": {},
   "outputs": [
    {
     "data": {
      "text/plain": [
       "{'Mean': 664.3410404624277,\n",
       " 'Median': 5.0,\n",
       " 'Variance': 8140782.178489091,\n",
       " 'Std Dev': 2853.205596953905}"
      ]
     },
     "execution_count": 76,
     "metadata": {},
     "output_type": "execute_result"
    }
   ],
   "source": [
    "shrt_gest_mean = np.mean(shrt_gest)\n",
    "shrt_gest_median = np.median(shrt_gest)\n",
    "shrt_gest_var = np.var(shrt_gest,ddof = 0)\n",
    "shrt_gest_std = np.std(shrt_gest,ddof = 0)\n",
    "shrt_gest_df = ({\n",
    "    \"Mean\": shrt_gest_mean, \n",
    "    \"Median\": shrt_gest_median, \n",
    "    \"Variance\": shrt_gest_var, \n",
    "    \"Std Dev\": shrt_gest_std\n",
    "})\n",
    "shrt_gest_df"
   ]
  },
  {
   "cell_type": "code",
   "execution_count": 77,
   "id": "63baacad",
   "metadata": {},
   "outputs": [
    {
     "data": {
      "text/plain": [
       "<Figure size 432x288 with 0 Axes>"
      ]
     },
     "metadata": {},
     "output_type": "display_data"
    },
    {
     "data": {
      "image/png": "[encoded data removed]",
      "text/plain": [
       "<Figure size 432x288 with 1 Axes>"
      ]
     },
     "metadata": {
      "needs_background": "light"
     },
     "output_type": "display_data"
    }
   ],
   "source": [
    "plt.figure()\n",
    "fig1, ax1 = plt.subplots()\n",
    "ax1.set_title('Short Gestration (2015 - 2019)')\n",
    "ax1.set_ylabel(\"Number of Deaths (000,000's)\")\n",
    "ax1.boxplot(shrt_gest)\n",
    "#plt.savefig(\"../Visuals/Boxplots/shrt_gest_bplot.png\")\n",
    "plt.show()\n"
   ]
  },
  {
   "cell_type": "code",
   "execution_count": 78,
   "id": "e90ba007",
   "metadata": {},
   "outputs": [
    {
     "data": {
      "text/plain": [
       "Text(0.5, 1.0, 'Short Gestration 2015 - 2019')"
      ]
     },
     "execution_count": 78,
     "metadata": {},
     "output_type": "execute_result"
    },
    {
     "data": {
      "image/png": "[encoded data removed]",
      "text/plain": [
       "<Figure size 432x288 with 1 Axes>"
      ]
     },
     "metadata": {
      "needs_background": "light"
     },
     "output_type": "display_data"
    }
   ],
   "source": [
    "plt.figure()\n",
    "\n",
    "plt.hist(shrt_gest)\n",
    "plt.xlabel(\"Total Number of Deaths (000,000's)\")\n",
    "plt.ylabel(\"Frequency\")\n",
    "plt.title(\"Short Gestration 2015 - 2019\")\n",
    "#plt.savefig(\"../Visuals/Histograms/shrt_gest.png\")"
   ]
  },
  {
   "cell_type": "code",
   "execution_count": 79,
   "id": "bcaf9301",
   "metadata": {},
   "outputs": [
    {
     "name": "stdout",
     "output_type": "stream",
     "text": [
      "{-0.14}\n",
      "The r-squared is: 0.0194642704858905\n"
     ]
    },
    {
     "data": {
      "image/png": "[encoded data removed]",
      "text/plain": [
       "<Figure size 432x288 with 1 Axes>"
      ]
     },
     "metadata": {
      "needs_background": "light"
     },
     "output_type": "display_data"
    }
   ],
   "source": [
    "plt.figure()\n",
    "plt.scatter(mean_gdp,shrt_gest, marker=\"o\", color=\"pink\")\n",
    "plt.title(\"GDP per Capita vs Short Gestration 2015 - 2019\")\n",
    "plt.xlabel(\"Average GDP per Capita ($USD)\")\n",
    "plt.ylabel(\"Short Gestration\")\n",
    "plt.tight_layout()\n",
    "\n",
    "x_values = mean_gdp\n",
    "y_values = shrt_gest\n",
    "(slope, intercept, rvalue, pvalue, stderr) = linregress(x_values, y_values)\n",
    "regress_values = x_values * slope + intercept\n",
    "line_eq = \"y = \" + str(round(slope,2)) + \"x + \" + str(round(intercept,2))\n",
    "plt.scatter(x_values,y_values)\n",
    "plt.plot(x_values, regress_values,\"r-\")\n",
    "plt.annotate(line_eq,(25000,15000),fontsize=15,color=\"red\")\n",
    "correlation =st.pearsonr(x_values, y_values)\n",
    "print({round(correlation[0], 2)})\n",
    "\n",
    "print(f\"The r-squared is: {rvalue**2}\")\n",
    "\n",
    "\n",
    "\n",
    "\n",
    "#plt.savefig(\"../Visuals/shrt_gestvGDPreg.png\")\n",
    "#plt.savefig(\"../Visuals/gestratevGDP.png\")"
   ]
  },
  {
   "cell_type": "code",
   "execution_count": 80,
   "id": "03ad1fbd",
   "metadata": {},
   "outputs": [],
   "source": [
    "unsafe_sanit = group_all[\"Deaths - Cause: Diarrheal diseases - Risk: Unsafe sanitation - Sex: Both - Age: Under 5 (Number)\"]"
   ]
  },
  {
   "cell_type": "code",
   "execution_count": 81,
   "id": "80c458b2",
   "metadata": {},
   "outputs": [
    {
     "data": {
      "text/plain": [
       "{'Mean': 8590.630057803468,\n",
       " 'Median': 20.0,\n",
       " 'Variance': 1380301650.2908883,\n",
       " 'Std Dev': 37152.41109660164}"
      ]
     },
     "execution_count": 81,
     "metadata": {},
     "output_type": "execute_result"
    }
   ],
   "source": [
    "unsafe_sanit_mean = np.mean(unsafe_sanit)\n",
    "unsafe_sanit_median = np.median(unsafe_sanit)\n",
    "unsafe_sanit_var = np.var(unsafe_sanit,ddof = 0)\n",
    "unsafe_sanit_std = np.std(unsafe_sanit,ddof = 0)\n",
    "unsafe_sanit_df = ({\n",
    "    \"Mean\": unsafe_sanit_mean, \n",
    "    \"Median\": unsafe_sanit_median, \n",
    "    \"Variance\": unsafe_sanit_var, \n",
    "    \"Std Dev\": unsafe_sanit_std\n",
    "})\n",
    "unsafe_sanit_df"
   ]
  },
  {
   "cell_type": "code",
   "execution_count": 82,
   "id": "fcd29827",
   "metadata": {},
   "outputs": [
    {
     "data": {
      "text/plain": [
       "<Figure size 432x288 with 0 Axes>"
      ]
     },
     "metadata": {},
     "output_type": "display_data"
    },
    {
     "data": {
      "image/png": "[encoded data removed]",
      "text/plain": [
       "<Figure size 432x288 with 1 Axes>"
      ]
     },
     "metadata": {
      "needs_background": "light"
     },
     "output_type": "display_data"
    }
   ],
   "source": [
    "plt.figure()\n",
    "fig1, ax1 = plt.subplots()\n",
    "ax1.set_title('Unsafe sanitation  2015 - 2019')\n",
    "ax1.set_ylabel(\"Number of Deaths (000,000's)\")\n",
    "ax1.boxplot(unsafe_sanit)\n",
    "#plt.savefig(\"../Visuals/Boxplots/unsafe_sanit_bplot.png\")\n",
    "plt.show()\n"
   ]
  },
  {
   "cell_type": "code",
   "execution_count": 83,
   "id": "7e04eb4a",
   "metadata": {},
   "outputs": [
    {
     "data": {
      "text/plain": [
       "Text(0.5, 1.0, 'Unsafe sanitation  (2015 - 2019)')"
      ]
     },
     "execution_count": 83,
     "metadata": {},
     "output_type": "execute_result"
    },
    {
     "data": {
      "image/png": "[encoded data removed]",
      "text/plain": [
       "<Figure size 432x288 with 1 Axes>"
      ]
     },
     "metadata": {
      "needs_background": "light"
     },
     "output_type": "display_data"
    }
   ],
   "source": [
    "plt.figure()\n",
    "\n",
    "plt.hist(total_deaths)\n",
    "plt.xlabel(\"Total Number of Deaths (000,000's)\")\n",
    "plt.ylabel(\"Frequency\")\n",
    "plt.title(\"Unsafe sanitation  (2015 - 2019)\")\n",
    "#plt.savefig(\"../Visuals/Histograms/unsafe_sanit.png\")"
   ]
  },
  {
   "cell_type": "code",
   "execution_count": 93,
   "id": "72c765bc",
   "metadata": {},
   "outputs": [
    {
     "name": "stdout",
     "output_type": "stream",
     "text": [
      "{-0.14}\n",
      "The r-squared is: 0.019411684788252174\n"
     ]
    },
    {
     "data": {
      "image/png": "[encoded data removed]",
      "text/plain": [
       "<Figure size 432x288 with 1 Axes>"
      ]
     },
     "metadata": {
      "needs_background": "light"
     },
     "output_type": "display_data"
    }
   ],
   "source": [
    "plt.figure()\n",
    "plt.scatter(mean_gdp,unsafe_sanit, marker=\"o\", color=\"purple\")\n",
    "plt.title(\"GDP per Capita vs Unsafe sanitation\")\n",
    "plt.xlabel(\"Average GDP per Capita ($USD)\")\n",
    "plt.ylabel(\"Unsafe sanitation\")\n",
    "plt.tight_layout()\n",
    "\n",
    "x_values = mean_gdp\n",
    "y_values = unsafe_sanit\n",
    "(slope, intercept, rvalue, pvalue, stderr) = linregress(x_values, y_values)\n",
    "regress_values = x_values * slope + intercept\n",
    "line_eq = \"y = \" + str(round(slope,2)) + \"x + \" + str(round(intercept,2))\n",
    "plt.scatter(x_values,y_values)\n",
    "plt.plot(x_values, regress_values,\"r-\")\n",
    "plt.annotate(line_eq,(25000,200000),fontsize=15,color=\"red\")\n",
    "correlation =st.pearsonr(x_values, y_values)\n",
    "print({round(correlation[0], 2)})\n",
    "\n",
    "print(f\"The r-squared is: {rvalue**2}\")\n",
    "\n",
    "\n",
    "\n",
    "\n",
    "#plt.savefig(\"../Visuals/unsafe_sanitvGDPreg.png\")\n",
    "plt.savefig(\"../Visuals/unsafesanvGDP.png\")"
   ]
  },
  {
   "cell_type": "code",
   "execution_count": 85,
   "id": "85ffe95c",
   "metadata": {},
   "outputs": [],
   "source": [
    "Vit_A = group_all[\"Deaths - Cause: Diarrheal diseases - Risk: Vitamin A deficiency - Sex: Both - Age: Under 5 (Number)\"]"
   ]
  },
  {
   "cell_type": "code",
   "execution_count": 86,
   "id": "d038d974",
   "metadata": {},
   "outputs": [
    {
     "data": {
      "text/plain": [
       "{'Mean': 473.33526011560696,\n",
       " 'Median': 0.0,\n",
       " 'Variance': 2517411.390490828,\n",
       " 'Std Dev': 1586.6352417902572}"
      ]
     },
     "execution_count": 86,
     "metadata": {},
     "output_type": "execute_result"
    }
   ],
   "source": [
    "Vit_A_mean = np.mean(Vit_A)\n",
    "Vit_A_median = np.median(Vit_A)\n",
    "Vit_A_var = np.var(Vit_A,ddof = 0)\n",
    "Vit_A_std = np.std(Vit_A,ddof = 0)\n",
    "Vit_A_df = ({\n",
    "    \"Mean\": Vit_A_mean, \n",
    "    \"Median\": Vit_A_median, \n",
    "    \"Variance\": Vit_A_var, \n",
    "    \"Std Dev\": Vit_A_std\n",
    "})\n",
    "Vit_A_df"
   ]
  },
  {
   "cell_type": "code",
   "execution_count": 87,
   "id": "cdd46667",
   "metadata": {},
   "outputs": [
    {
     "data": {
      "text/plain": [
       "<Figure size 432x288 with 0 Axes>"
      ]
     },
     "metadata": {},
     "output_type": "display_data"
    },
    {
     "data": {
      "image/png": "[encoded data removed]",
      "text/plain": [
       "<Figure size 432x288 with 1 Axes>"
      ]
     },
     "metadata": {
      "needs_background": "light"
     },
     "output_type": "display_data"
    }
   ],
   "source": [
    "plt.figure()\n",
    "fig1, ax1 = plt.subplots()\n",
    "ax1.set_title('Vitamin A deficient 2015 - 2019')\n",
    "ax1.set_ylabel(\"Number of Deaths (000,000's)\")\n",
    "ax1.boxplot(Vit_A)\n",
    "#plt.savefig(\"../Visuals/Boxplots/Vit_Abplot.png\")\n",
    "plt.show()\n"
   ]
  },
  {
   "cell_type": "code",
   "execution_count": 88,
   "id": "7695ee6a",
   "metadata": {},
   "outputs": [
    {
     "data": {
      "text/plain": [
       "Text(0.5, 1.0, 'Vitamin A deficient 2015 - 2019')"
      ]
     },
     "execution_count": 88,
     "metadata": {},
     "output_type": "execute_result"
    },
    {
     "data": {
      "image/png": "[encoded data removed]",
      "text/plain": [
       "<Figure size 432x288 with 1 Axes>"
      ]
     },
     "metadata": {
      "needs_background": "light"
     },
     "output_type": "display_data"
    }
   ],
   "source": [
    "plt.figure()\n",
    "\n",
    "plt.hist(Vit_A)\n",
    "plt.xlabel(\"Total Number of Deaths (000,000's)\")\n",
    "plt.ylabel(\"Frequency\")\n",
    "plt.title(\"Vitamin A deficient 2015 - 2019\")\n",
    "#plt.savefig(\"../Visuals/Histograms/Vit_A.png\")"
   ]
  },
  {
   "cell_type": "code",
   "execution_count": 89,
   "id": "f4cbd306",
   "metadata": {},
   "outputs": [
    {
     "name": "stdout",
     "output_type": "stream",
     "text": [
      "{-0.18}\n",
      "The r-squared is: 0.03364027508547973\n"
     ]
    },
    {
     "data": {
      "image/png": "[encoded data removed]",
      "text/plain": [
       "<Figure size 432x288 with 1 Axes>"
      ]
     },
     "metadata": {
      "needs_background": "light"
     },
     "output_type": "display_data"
    }
   ],
   "source": [
    "plt.figure()\n",
    "plt.scatter(mean_gdp,Vit_A, marker=\"o\", color=\"silver\")\n",
    "plt.title(\"GDP per Capita vs Vitamin A deficient 2015 - 2019\")\n",
    "plt.xlabel(\"Average GDP per Capita ($USD)\")\n",
    "plt.ylabel(\"Vitamin A deficient\")\n",
    "plt.tight_layout()\n",
    "\n",
    "x_values = mean_gdp\n",
    "y_values = Vit_A\n",
    "(slope, intercept, rvalue, pvalue, stderr) = linregress(x_values, y_values)\n",
    "regress_values = x_values * slope + intercept\n",
    "line_eq = \"y = \" + str(round(slope,2)) + \"x + \" + str(round(intercept,2))\n",
    "plt.scatter(x_values,y_values)\n",
    "plt.plot(x_values, regress_values,\"r-\")\n",
    "plt.annotate(line_eq,(25000,6000),fontsize=15,color=\"red\")\n",
    "correlation =st.pearsonr(x_values, y_values)\n",
    "print({round(correlation[0], 2)})\n",
    "\n",
    "print(f\"The r-squared is: {rvalue**2}\")\n",
    "\n",
    "\n",
    "\n",
    "\n",
    "#plt.savefig(\"../Visuals/Vit_AvGDPreg.png\")\n",
    "#plt.savefig(\"../Visuals/vitavGDP.png\")"
   ]
  },
  {
   "cell_type": "code",
   "execution_count": null,
   "id": "2fbd3365",
   "metadata": {},
   "outputs": [],
   "source": []
  },
  {
   "cell_type": "code",
   "execution_count": null,
   "id": "169eda75",
   "metadata": {},
   "outputs": [],
   "source": []
  },
  {
   "cell_type": "code",
   "execution_count": 90,
   "id": "f93936d4",
   "metadata": {},
   "outputs": [],
   "source": [
    "Factors = [Child_growth_fail, No_handwash, sub_bfeed, unsafe_water, zinc_def, low_birth, shrt_gest, unsafe_sanit, Vit_A]\n",
    "Mean_s = []\n",
    "Median = []\n",
    "Std_Dev = []\n",
    "Variance = []\n",
    "Min = []\n",
    "Max = []\n",
    "\n"
   ]
  },
  {
   "cell_type": "code",
   "execution_count": 91,
   "id": "3db1532a",
   "metadata": {},
   "outputs": [],
   "source": [
    "summary_df = pd.DataFrame({\"Child growth failure\": Child_growth_fail_df, \n",
    "                          \"No Handwash Facility\": No_handwash_df, \n",
    "                          \"Suboptimal breastfeeding\":sub_bfeed_df, \n",
    "                          \"Unsafe water source\": unsafe_water_df, \n",
    "                          \"Zinc Deficiency\": zinc_def_df, \n",
    "                          \"Low birth weight\": low_birth_df, \n",
    "                          \"Short Gestration\": shrt_gest_df, \n",
    "                          \"Unsafe Sanitation\": unsafe_sanit_df, \n",
    "                          \"Vitamin A deficiency\": Vit_A_df, \n",
    "                          \"Total\": ss_Total_df})"
   ]
  },
  {
   "cell_type": "code",
   "execution_count": 92,
   "id": "ef533537",
   "metadata": {},
   "outputs": [
    {
     "data": {
      "text/html": [
       "<div>\n",
       "<style scoped>\n",
       "    .dataframe tbody tr th:only-of-type {\n",
       "        vertical-align: middle;\n",
       "    }\n",
       "\n",
       "    .dataframe tbody tr th {\n",
       "        vertical-align: top;\n",
       "    }\n",
       "\n",
       "    .dataframe thead th {\n",
       "        text-align: right;\n",
       "    }\n",
       "</style>\n",
       "<table border=\"1\" class=\"dataframe\">\n",
       "  <thead>\n",
       "    <tr style=\"text-align: right;\">\n",
       "      <th></th>\n",
       "      <th>Child growth failure</th>\n",
       "      <th>No Handwash Facility</th>\n",
       "      <th>Suboptimal breastfeeding</th>\n",
       "      <th>Unsafe water source</th>\n",
       "      <th>Zinc Deficiency</th>\n",
       "      <th>Low birth weight</th>\n",
       "      <th>Short Gestration</th>\n",
       "      <th>Unsafe Sanitation</th>\n",
       "      <th>Vitamin A deficiency</th>\n",
       "      <th>Total</th>\n",
       "    </tr>\n",
       "  </thead>\n",
       "  <tbody>\n",
       "    <tr>\n",
       "      <th>Mean</th>\n",
       "      <td>1.219688e+04</td>\n",
       "      <td>4.256040e+03</td>\n",
       "      <td>2.906341e+03</td>\n",
       "      <td>1.271113e+04</td>\n",
       "      <td>81.092486</td>\n",
       "      <td>9.396012e+02</td>\n",
       "      <td>6.643410e+02</td>\n",
       "      <td>8.590630e+03</td>\n",
       "      <td>4.733353e+02</td>\n",
       "      <td>4.281939e+04</td>\n",
       "    </tr>\n",
       "    <tr>\n",
       "      <th>Median</th>\n",
       "      <td>6.800000e+01</td>\n",
       "      <td>7.000000e+00</td>\n",
       "      <td>2.400000e+01</td>\n",
       "      <td>5.100000e+01</td>\n",
       "      <td>0.000000</td>\n",
       "      <td>8.000000e+00</td>\n",
       "      <td>5.000000e+00</td>\n",
       "      <td>2.000000e+01</td>\n",
       "      <td>0.000000e+00</td>\n",
       "      <td>1.850000e+02</td>\n",
       "    </tr>\n",
       "    <tr>\n",
       "      <th>Variance</th>\n",
       "      <td>2.990523e+09</td>\n",
       "      <td>3.816479e+08</td>\n",
       "      <td>1.686634e+08</td>\n",
       "      <td>3.082498e+09</td>\n",
       "      <td>119609.690868</td>\n",
       "      <td>1.956156e+07</td>\n",
       "      <td>8.140782e+06</td>\n",
       "      <td>1.380302e+09</td>\n",
       "      <td>2.517411e+06</td>\n",
       "      <td>3.498132e+10</td>\n",
       "    </tr>\n",
       "    <tr>\n",
       "      <th>Std Dev</th>\n",
       "      <td>5.468567e+04</td>\n",
       "      <td>1.953581e+04</td>\n",
       "      <td>1.298705e+04</td>\n",
       "      <td>5.552025e+04</td>\n",
       "      <td>345.846340</td>\n",
       "      <td>4.422846e+03</td>\n",
       "      <td>2.853206e+03</td>\n",
       "      <td>3.715241e+04</td>\n",
       "      <td>1.586635e+03</td>\n",
       "      <td>1.870329e+05</td>\n",
       "    </tr>\n",
       "  </tbody>\n",
       "</table>\n",
       "</div>"
      ],
      "text/plain": [
       "          Child growth failure  No Handwash Facility  \\\n",
       "Mean              1.219688e+04          4.256040e+03   \n",
       "Median            6.800000e+01          7.000000e+00   \n",
       "Variance          2.990523e+09          3.816479e+08   \n",
       "Std Dev           5.468567e+04          1.953581e+04   \n",
       "\n",
       "          Suboptimal breastfeeding  Unsafe water source  Zinc Deficiency  \\\n",
       "Mean                  2.906341e+03         1.271113e+04        81.092486   \n",
       "Median                2.400000e+01         5.100000e+01         0.000000   \n",
       "Variance              1.686634e+08         3.082498e+09    119609.690868   \n",
       "Std Dev               1.298705e+04         5.552025e+04       345.846340   \n",
       "\n",
       "          Low birth weight  Short Gestration  Unsafe Sanitation  \\\n",
       "Mean          9.396012e+02      6.643410e+02       8.590630e+03   \n",
       "Median        8.000000e+00      5.000000e+00       2.000000e+01   \n",
       "Variance      1.956156e+07      8.140782e+06       1.380302e+09   \n",
       "Std Dev       4.422846e+03      2.853206e+03       3.715241e+04   \n",
       "\n",
       "          Vitamin A deficiency         Total  \n",
       "Mean              4.733353e+02  4.281939e+04  \n",
       "Median            0.000000e+00  1.850000e+02  \n",
       "Variance          2.517411e+06  3.498132e+10  \n",
       "Std Dev           1.586635e+03  1.870329e+05  "
      ]
     },
     "execution_count": 92,
     "metadata": {},
     "output_type": "execute_result"
    }
   ],
   "source": [
    "summary_df"
   ]
  },
  {
   "cell_type": "code",
   "execution_count": 94,
   "id": "2db2bda7",
   "metadata": {},
   "outputs": [],
   "source": [
    "ssdf = summary_df.astype(float)"
   ]
  },
  {
   "cell_type": "code",
   "execution_count": 95,
   "id": "7d1749cb",
   "metadata": {},
   "outputs": [
    {
     "data": {
      "text/html": [
       "<div>\n",
       "<style scoped>\n",
       "    .dataframe tbody tr th:only-of-type {\n",
       "        vertical-align: middle;\n",
       "    }\n",
       "\n",
       "    .dataframe tbody tr th {\n",
       "        vertical-align: top;\n",
       "    }\n",
       "\n",
       "    .dataframe thead th {\n",
       "        text-align: right;\n",
       "    }\n",
       "</style>\n",
       "<table border=\"1\" class=\"dataframe\">\n",
       "  <thead>\n",
       "    <tr style=\"text-align: right;\">\n",
       "      <th></th>\n",
       "      <th>Child growth failure</th>\n",
       "      <th>No Handwash Facility</th>\n",
       "      <th>Suboptimal breastfeeding</th>\n",
       "      <th>Unsafe water source</th>\n",
       "      <th>Zinc Deficiency</th>\n",
       "      <th>Low birth weight</th>\n",
       "      <th>Short Gestration</th>\n",
       "      <th>Unsafe Sanitation</th>\n",
       "      <th>Vitamin A deficiency</th>\n",
       "      <th>Total</th>\n",
       "    </tr>\n",
       "  </thead>\n",
       "  <tbody>\n",
       "    <tr>\n",
       "      <th>Mean</th>\n",
       "      <td>1.219688e+04</td>\n",
       "      <td>4.256040e+03</td>\n",
       "      <td>2.906341e+03</td>\n",
       "      <td>1.271113e+04</td>\n",
       "      <td>81.092486</td>\n",
       "      <td>9.396012e+02</td>\n",
       "      <td>6.643410e+02</td>\n",
       "      <td>8.590630e+03</td>\n",
       "      <td>4.733353e+02</td>\n",
       "      <td>4.281939e+04</td>\n",
       "    </tr>\n",
       "    <tr>\n",
       "      <th>Median</th>\n",
       "      <td>6.800000e+01</td>\n",
       "      <td>7.000000e+00</td>\n",
       "      <td>2.400000e+01</td>\n",
       "      <td>5.100000e+01</td>\n",
       "      <td>0.000000</td>\n",
       "      <td>8.000000e+00</td>\n",
       "      <td>5.000000e+00</td>\n",
       "      <td>2.000000e+01</td>\n",
       "      <td>0.000000e+00</td>\n",
       "      <td>1.850000e+02</td>\n",
       "    </tr>\n",
       "    <tr>\n",
       "      <th>Variance</th>\n",
       "      <td>2.990523e+09</td>\n",
       "      <td>3.816479e+08</td>\n",
       "      <td>1.686634e+08</td>\n",
       "      <td>3.082498e+09</td>\n",
       "      <td>119609.690868</td>\n",
       "      <td>1.956156e+07</td>\n",
       "      <td>8.140782e+06</td>\n",
       "      <td>1.380302e+09</td>\n",
       "      <td>2.517411e+06</td>\n",
       "      <td>3.498132e+10</td>\n",
       "    </tr>\n",
       "    <tr>\n",
       "      <th>Std Dev</th>\n",
       "      <td>5.468567e+04</td>\n",
       "      <td>1.953581e+04</td>\n",
       "      <td>1.298705e+04</td>\n",
       "      <td>5.552025e+04</td>\n",
       "      <td>345.846340</td>\n",
       "      <td>4.422846e+03</td>\n",
       "      <td>2.853206e+03</td>\n",
       "      <td>3.715241e+04</td>\n",
       "      <td>1.586635e+03</td>\n",
       "      <td>1.870329e+05</td>\n",
       "    </tr>\n",
       "  </tbody>\n",
       "</table>\n",
       "</div>"
      ],
      "text/plain": [
       "          Child growth failure  No Handwash Facility  \\\n",
       "Mean              1.219688e+04          4.256040e+03   \n",
       "Median            6.800000e+01          7.000000e+00   \n",
       "Variance          2.990523e+09          3.816479e+08   \n",
       "Std Dev           5.468567e+04          1.953581e+04   \n",
       "\n",
       "          Suboptimal breastfeeding  Unsafe water source  Zinc Deficiency  \\\n",
       "Mean                  2.906341e+03         1.271113e+04        81.092486   \n",
       "Median                2.400000e+01         5.100000e+01         0.000000   \n",
       "Variance              1.686634e+08         3.082498e+09    119609.690868   \n",
       "Std Dev               1.298705e+04         5.552025e+04       345.846340   \n",
       "\n",
       "          Low birth weight  Short Gestration  Unsafe Sanitation  \\\n",
       "Mean          9.396012e+02      6.643410e+02       8.590630e+03   \n",
       "Median        8.000000e+00      5.000000e+00       2.000000e+01   \n",
       "Variance      1.956156e+07      8.140782e+06       1.380302e+09   \n",
       "Std Dev       4.422846e+03      2.853206e+03       3.715241e+04   \n",
       "\n",
       "          Vitamin A deficiency         Total  \n",
       "Mean              4.733353e+02  4.281939e+04  \n",
       "Median            0.000000e+00  1.850000e+02  \n",
       "Variance          2.517411e+06  3.498132e+10  \n",
       "Std Dev           1.586635e+03  1.870329e+05  "
      ]
     },
     "execution_count": 95,
     "metadata": {},
     "output_type": "execute_result"
    }
   ],
   "source": [
    "ssdf\n"
   ]
  },
  {
   "cell_type": "code",
   "execution_count": 96,
   "id": "6318fe5e",
   "metadata": {},
   "outputs": [],
   "source": [
    "\n",
    "ssdf.to_csv(\"../sources/summary_table.csv\", index=True, header = True)"
   ]
  },
  {
   "cell_type": "code",
   "execution_count": null,
   "id": "ffef935c",
   "metadata": {},
   "outputs": [],
   "source": [
    "\n"
   ]
  },
  {
   "cell_type": "code",
   "execution_count": 114,
   "id": "9b2f5dd5",
   "metadata": {},
   "outputs": [
    {
     "data": {
      "text/html": [
       "<div>\n",
       "<style scoped>\n",
       "    .dataframe tbody tr th:only-of-type {\n",
       "        vertical-align: middle;\n",
       "    }\n",
       "\n",
       "    .dataframe tbody tr th {\n",
       "        vertical-align: top;\n",
       "    }\n",
       "\n",
       "    .dataframe thead th {\n",
       "        text-align: right;\n",
       "    }\n",
       "</style>\n",
       "<table border=\"1\" class=\"dataframe\">\n",
       "  <thead>\n",
       "    <tr style=\"text-align: right;\">\n",
       "      <th></th>\n",
       "      <th>Year</th>\n",
       "      <th>Deaths - Cause: Diarrheal diseases - Risk: Child growth failure - Sex: Both - Age: Under 5 (Number)</th>\n",
       "      <th>Deaths - Cause: Diarrheal diseases - Risk: No access to handwashing facility - Sex: Both - Age: Under 5 (Number)</th>\n",
       "      <th>Deaths - Cause: Diarrheal diseases - Risk: Suboptimal breastfeeding - Sex: Both - Age: Under 5 (Number)</th>\n",
       "      <th>Deaths - Cause: Diarrheal diseases - Risk: Unsafe water source - Sex: Both - Age: Under 5 (Number)</th>\n",
       "      <th>Deaths - Cause: Diarrheal diseases - Risk: Zinc deficiency - Sex: Both - Age: Under 5 (Number)</th>\n",
       "      <th>Deaths - Cause: Diarrheal diseases - Risk: Low birth weight - Sex: Both - Age: Under 5 (Number)</th>\n",
       "      <th>Deaths - Cause: Diarrheal diseases - Risk: Short gestation - Sex: Both - Age: Under 5 (Number)</th>\n",
       "      <th>Deaths - Cause: Diarrheal diseases - Risk: Unsafe sanitation - Sex: Both - Age: Under 5 (Number)</th>\n",
       "      <th>Deaths - Cause: Diarrheal diseases - Risk: Vitamin A deficiency - Sex: Both - Age: Under 5 (Number)</th>\n",
       "      <th>Total Deaths</th>\n",
       "      <th>GDP per capita (US$)</th>\n",
       "    </tr>\n",
       "    <tr>\n",
       "      <th>Country Name</th>\n",
       "      <th></th>\n",
       "      <th></th>\n",
       "      <th></th>\n",
       "      <th></th>\n",
       "      <th></th>\n",
       "      <th></th>\n",
       "      <th></th>\n",
       "      <th></th>\n",
       "      <th></th>\n",
       "      <th></th>\n",
       "      <th></th>\n",
       "      <th></th>\n",
       "    </tr>\n",
       "  </thead>\n",
       "  <tbody>\n",
       "    <tr>\n",
       "      <th>Monaco</th>\n",
       "      <td>10085</td>\n",
       "      <td>0</td>\n",
       "      <td>0</td>\n",
       "      <td>0</td>\n",
       "      <td>0</td>\n",
       "      <td>0</td>\n",
       "      <td>0</td>\n",
       "      <td>0</td>\n",
       "      <td>0</td>\n",
       "      <td>0</td>\n",
       "      <td>0</td>\n",
       "      <td>879000.97690</td>\n",
       "    </tr>\n",
       "    <tr>\n",
       "      <th>Luxembourg</th>\n",
       "      <td>10085</td>\n",
       "      <td>0</td>\n",
       "      <td>0</td>\n",
       "      <td>0</td>\n",
       "      <td>0</td>\n",
       "      <td>0</td>\n",
       "      <td>0</td>\n",
       "      <td>0</td>\n",
       "      <td>0</td>\n",
       "      <td>0</td>\n",
       "      <td>0</td>\n",
       "      <td>553027.97360</td>\n",
       "    </tr>\n",
       "    <tr>\n",
       "      <th>Bermuda</th>\n",
       "      <td>10085</td>\n",
       "      <td>0</td>\n",
       "      <td>0</td>\n",
       "      <td>0</td>\n",
       "      <td>0</td>\n",
       "      <td>0</td>\n",
       "      <td>0</td>\n",
       "      <td>0</td>\n",
       "      <td>0</td>\n",
       "      <td>0</td>\n",
       "      <td>0</td>\n",
       "      <td>549915.98860</td>\n",
       "    </tr>\n",
       "    <tr>\n",
       "      <th>Switzerland</th>\n",
       "      <td>10085</td>\n",
       "      <td>5</td>\n",
       "      <td>0</td>\n",
       "      <td>5</td>\n",
       "      <td>0</td>\n",
       "      <td>0</td>\n",
       "      <td>6</td>\n",
       "      <td>5</td>\n",
       "      <td>0</td>\n",
       "      <td>0</td>\n",
       "      <td>21</td>\n",
       "      <td>422924.43531</td>\n",
       "    </tr>\n",
       "    <tr>\n",
       "      <th>Norway</th>\n",
       "      <td>10085</td>\n",
       "      <td>0</td>\n",
       "      <td>0</td>\n",
       "      <td>0</td>\n",
       "      <td>0</td>\n",
       "      <td>0</td>\n",
       "      <td>0</td>\n",
       "      <td>0</td>\n",
       "      <td>0</td>\n",
       "      <td>0</td>\n",
       "      <td>0</td>\n",
       "      <td>378300.39267</td>\n",
       "    </tr>\n",
       "  </tbody>\n",
       "</table>\n",
       "</div>"
      ],
      "text/plain": [
       "               Year  \\\n",
       "Country Name          \n",
       "Monaco        10085   \n",
       "Luxembourg    10085   \n",
       "Bermuda       10085   \n",
       "Switzerland   10085   \n",
       "Norway        10085   \n",
       "\n",
       "              Deaths - Cause: Diarrheal diseases - Risk: Child growth failure - Sex: Both - Age: Under 5 (Number)  \\\n",
       "Country Name                                                                                                        \n",
       "Monaco                                                        0                                                     \n",
       "Luxembourg                                                    0                                                     \n",
       "Bermuda                                                       0                                                     \n",
       "Switzerland                                                   5                                                     \n",
       "Norway                                                        0                                                     \n",
       "\n",
       "              Deaths - Cause: Diarrheal diseases - Risk: No access to handwashing facility - Sex: Both - Age: Under 5 (Number)  \\\n",
       "Country Name                                                                                                                     \n",
       "Monaco                                                        0                                                                  \n",
       "Luxembourg                                                    0                                                                  \n",
       "Bermuda                                                       0                                                                  \n",
       "Switzerland                                                   0                                                                  \n",
       "Norway                                                        0                                                                  \n",
       "\n",
       "              Deaths - Cause: Diarrheal diseases - Risk: Suboptimal breastfeeding - Sex: Both - Age: Under 5 (Number)  \\\n",
       "Country Name                                                                                                            \n",
       "Monaco                                                        0                                                         \n",
       "Luxembourg                                                    0                                                         \n",
       "Bermuda                                                       0                                                         \n",
       "Switzerland                                                   5                                                         \n",
       "Norway                                                        0                                                         \n",
       "\n",
       "              Deaths - Cause: Diarrheal diseases - Risk: Unsafe water source - Sex: Both - Age: Under 5 (Number)  \\\n",
       "Country Name                                                                                                       \n",
       "Monaco                                                        0                                                    \n",
       "Luxembourg                                                    0                                                    \n",
       "Bermuda                                                       0                                                    \n",
       "Switzerland                                                   0                                                    \n",
       "Norway                                                        0                                                    \n",
       "\n",
       "              Deaths - Cause: Diarrheal diseases - Risk: Zinc deficiency - Sex: Both - Age: Under 5 (Number)  \\\n",
       "Country Name                                                                                                   \n",
       "Monaco                                                        0                                                \n",
       "Luxembourg                                                    0                                                \n",
       "Bermuda                                                       0                                                \n",
       "Switzerland                                                   0                                                \n",
       "Norway                                                        0                                                \n",
       "\n",
       "              Deaths - Cause: Diarrheal diseases - Risk: Low birth weight - Sex: Both - Age: Under 5 (Number)  \\\n",
       "Country Name                                                                                                    \n",
       "Monaco                                                        0                                                 \n",
       "Luxembourg                                                    0                                                 \n",
       "Bermuda                                                       0                                                 \n",
       "Switzerland                                                   6                                                 \n",
       "Norway                                                        0                                                 \n",
       "\n",
       "              Deaths - Cause: Diarrheal diseases - Risk: Short gestation - Sex: Both - Age: Under 5 (Number)  \\\n",
       "Country Name                                                                                                   \n",
       "Monaco                                                        0                                                \n",
       "Luxembourg                                                    0                                                \n",
       "Bermuda                                                       0                                                \n",
       "Switzerland                                                   5                                                \n",
       "Norway                                                        0                                                \n",
       "\n",
       "              Deaths - Cause: Diarrheal diseases - Risk: Unsafe sanitation - Sex: Both - Age: Under 5 (Number)  \\\n",
       "Country Name                                                                                                     \n",
       "Monaco                                                        0                                                  \n",
       "Luxembourg                                                    0                                                  \n",
       "Bermuda                                                       0                                                  \n",
       "Switzerland                                                   0                                                  \n",
       "Norway                                                        0                                                  \n",
       "\n",
       "              Deaths - Cause: Diarrheal diseases - Risk: Vitamin A deficiency - Sex: Both - Age: Under 5 (Number)  \\\n",
       "Country Name                                                                                                        \n",
       "Monaco                                                        0                                                     \n",
       "Luxembourg                                                    0                                                     \n",
       "Bermuda                                                       0                                                     \n",
       "Switzerland                                                   0                                                     \n",
       "Norway                                                        0                                                     \n",
       "\n",
       "              Total Deaths  GDP per capita (US$)  \n",
       "Country Name                                      \n",
       "Monaco                   0          879000.97690  \n",
       "Luxembourg               0          553027.97360  \n",
       "Bermuda                  0          549915.98860  \n",
       "Switzerland             21          422924.43531  \n",
       "Norway                   0          378300.39267  "
      ]
     },
     "execution_count": 114,
     "metadata": {},
     "output_type": "execute_result"
    }
   ],
   "source": [
    "top_gdp = group_all.copy()\n",
    "top_gdp_s = top_gdp.sort_values([\"GDP per capita (US$)\"], ascending=False)\n",
    "top = top_gdp_s.head(5)\n",
    "top"
   ]
  },
  {
   "cell_type": "code",
   "execution_count": 129,
   "id": "5ab016a1",
   "metadata": {},
   "outputs": [
    {
     "name": "stdout",
     "output_type": "stream",
     "text": [
      "The r-squared is: 0.14543689884475952\n"
     ]
    },
    {
     "data": {
      "image/png": "[encoded data removed]",
      "text/plain": [
       "<Figure size 432x288 with 1 Axes>"
      ]
     },
     "metadata": {
      "needs_background": "light"
     },
     "output_type": "display_data"
    }
   ],
   "source": [
    "plt.figure()\n",
    "plt.scatter(top[\"GDP per capita (US$)\"],top[\"Total Deaths\"], marker=\"o\", color=\"silver\")\n",
    "plt.title(\"GDP per Capita vs Total Diarrhea deaths Top 5\")\n",
    "plt.xlabel(\"Average GDP per Capita ($USD)\")\n",
    "plt.ylabel(\"Total Deaths\")\n",
    "plt.tight_layout()\n",
    "\n",
    "x_values = top[\"GDP per capita (US$)\"]\n",
    "y_values = top[\"Total Deaths\"]\n",
    "(slope, intercept, rvalue, pvalue, stderr) = linregress(x_values, y_values)\n",
    "regress_values = x_values * slope + intercept\n",
    "line_eq = \"y = \" + str(round(slope,2)) + \"x + \" + str(round(intercept,2))\n",
    "plt.scatter(x_values,y_values)\n",
    "plt.plot(x_values, regress_values,\"r-\")\n",
    "plt.annotate(line_eq,(400000,11),fontsize=15,color=\"red\")\n",
    "print(f\"The r-squared is: {rvalue**2}\")\n",
    "plt.savefig(\"../Visuals/Scatters/highvGDP.png\")"
   ]
  },
  {
   "cell_type": "code",
   "execution_count": null,
   "id": "4c1d24aa",
   "metadata": {},
   "outputs": [],
   "source": []
  },
  {
   "cell_type": "code",
   "execution_count": null,
   "id": "f80f4b41",
   "metadata": {},
   "outputs": [],
   "source": []
  },
  {
   "cell_type": "code",
   "execution_count": 115,
   "id": "0562f414",
   "metadata": {},
   "outputs": [
    {
     "data": {
      "text/html": [
       "<div>\n",
       "<style scoped>\n",
       "    .dataframe tbody tr th:only-of-type {\n",
       "        vertical-align: middle;\n",
       "    }\n",
       "\n",
       "    .dataframe tbody tr th {\n",
       "        vertical-align: top;\n",
       "    }\n",
       "\n",
       "    .dataframe thead th {\n",
       "        text-align: right;\n",
       "    }\n",
       "</style>\n",
       "<table border=\"1\" class=\"dataframe\">\n",
       "  <thead>\n",
       "    <tr style=\"text-align: right;\">\n",
       "      <th></th>\n",
       "      <th>Year</th>\n",
       "      <th>Deaths - Cause: Diarrheal diseases - Risk: Child growth failure - Sex: Both - Age: Under 5 (Number)</th>\n",
       "      <th>Deaths - Cause: Diarrheal diseases - Risk: No access to handwashing facility - Sex: Both - Age: Under 5 (Number)</th>\n",
       "      <th>Deaths - Cause: Diarrheal diseases - Risk: Suboptimal breastfeeding - Sex: Both - Age: Under 5 (Number)</th>\n",
       "      <th>Deaths - Cause: Diarrheal diseases - Risk: Unsafe water source - Sex: Both - Age: Under 5 (Number)</th>\n",
       "      <th>Deaths - Cause: Diarrheal diseases - Risk: Zinc deficiency - Sex: Both - Age: Under 5 (Number)</th>\n",
       "      <th>Deaths - Cause: Diarrheal diseases - Risk: Low birth weight - Sex: Both - Age: Under 5 (Number)</th>\n",
       "      <th>Deaths - Cause: Diarrheal diseases - Risk: Short gestation - Sex: Both - Age: Under 5 (Number)</th>\n",
       "      <th>Deaths - Cause: Diarrheal diseases - Risk: Unsafe sanitation - Sex: Both - Age: Under 5 (Number)</th>\n",
       "      <th>Deaths - Cause: Diarrheal diseases - Risk: Vitamin A deficiency - Sex: Both - Age: Under 5 (Number)</th>\n",
       "      <th>Total Deaths</th>\n",
       "      <th>GDP per capita (US$)</th>\n",
       "    </tr>\n",
       "    <tr>\n",
       "      <th>Country Name</th>\n",
       "      <th></th>\n",
       "      <th></th>\n",
       "      <th></th>\n",
       "      <th></th>\n",
       "      <th></th>\n",
       "      <th></th>\n",
       "      <th></th>\n",
       "      <th></th>\n",
       "      <th></th>\n",
       "      <th></th>\n",
       "      <th></th>\n",
       "      <th></th>\n",
       "    </tr>\n",
       "  </thead>\n",
       "  <tbody>\n",
       "    <tr>\n",
       "      <th>South Sudan</th>\n",
       "      <td>2015</td>\n",
       "      <td>3725</td>\n",
       "      <td>1462</td>\n",
       "      <td>761</td>\n",
       "      <td>3846</td>\n",
       "      <td>6</td>\n",
       "      <td>235</td>\n",
       "      <td>170</td>\n",
       "      <td>2925</td>\n",
       "      <td>166</td>\n",
       "      <td>13296</td>\n",
       "      <td>1119.651437</td>\n",
       "    </tr>\n",
       "    <tr>\n",
       "      <th>Burundi</th>\n",
       "      <td>10085</td>\n",
       "      <td>23185</td>\n",
       "      <td>9613</td>\n",
       "      <td>2533</td>\n",
       "      <td>25183</td>\n",
       "      <td>579</td>\n",
       "      <td>1730</td>\n",
       "      <td>1303</td>\n",
       "      <td>18743</td>\n",
       "      <td>1082</td>\n",
       "      <td>83951</td>\n",
       "      <td>1269.574407</td>\n",
       "    </tr>\n",
       "    <tr>\n",
       "      <th>Somalia</th>\n",
       "      <td>10085</td>\n",
       "      <td>38177</td>\n",
       "      <td>15088</td>\n",
       "      <td>11979</td>\n",
       "      <td>39752</td>\n",
       "      <td>349</td>\n",
       "      <td>2150</td>\n",
       "      <td>2265</td>\n",
       "      <td>29777</td>\n",
       "      <td>3785</td>\n",
       "      <td>143322</td>\n",
       "      <td>1969.949483</td>\n",
       "    </tr>\n",
       "    <tr>\n",
       "      <th>Central African Republic</th>\n",
       "      <td>10085</td>\n",
       "      <td>22112</td>\n",
       "      <td>8814</td>\n",
       "      <td>5862</td>\n",
       "      <td>24585</td>\n",
       "      <td>292</td>\n",
       "      <td>1623</td>\n",
       "      <td>1184</td>\n",
       "      <td>18429</td>\n",
       "      <td>1814</td>\n",
       "      <td>84715</td>\n",
       "      <td>2174.586588</td>\n",
       "    </tr>\n",
       "    <tr>\n",
       "      <th>Malawi</th>\n",
       "      <td>10085</td>\n",
       "      <td>10856</td>\n",
       "      <td>5031</td>\n",
       "      <td>2108</td>\n",
       "      <td>13140</td>\n",
       "      <td>48</td>\n",
       "      <td>810</td>\n",
       "      <td>653</td>\n",
       "      <td>9743</td>\n",
       "      <td>620</td>\n",
       "      <td>43009</td>\n",
       "      <td>2338.952812</td>\n",
       "    </tr>\n",
       "  </tbody>\n",
       "</table>\n",
       "</div>"
      ],
      "text/plain": [
       "                           Year  \\\n",
       "Country Name                      \n",
       "South Sudan                2015   \n",
       "Burundi                   10085   \n",
       "Somalia                   10085   \n",
       "Central African Republic  10085   \n",
       "Malawi                    10085   \n",
       "\n",
       "                          Deaths - Cause: Diarrheal diseases - Risk: Child growth failure - Sex: Both - Age: Under 5 (Number)  \\\n",
       "Country Name                                                                                                                    \n",
       "South Sudan                                                            3725                                                     \n",
       "Burundi                                                               23185                                                     \n",
       "Somalia                                                               38177                                                     \n",
       "Central African Republic                                              22112                                                     \n",
       "Malawi                                                                10856                                                     \n",
       "\n",
       "                          Deaths - Cause: Diarrheal diseases - Risk: No access to handwashing facility - Sex: Both - Age: Under 5 (Number)  \\\n",
       "Country Name                                                                                                                                 \n",
       "South Sudan                                                            1462                                                                  \n",
       "Burundi                                                                9613                                                                  \n",
       "Somalia                                                               15088                                                                  \n",
       "Central African Republic                                               8814                                                                  \n",
       "Malawi                                                                 5031                                                                  \n",
       "\n",
       "                          Deaths - Cause: Diarrheal diseases - Risk: Suboptimal breastfeeding - Sex: Both - Age: Under 5 (Number)  \\\n",
       "Country Name                                                                                                                        \n",
       "South Sudan                                                             761                                                         \n",
       "Burundi                                                                2533                                                         \n",
       "Somalia                                                               11979                                                         \n",
       "Central African Republic                                               5862                                                         \n",
       "Malawi                                                                 2108                                                         \n",
       "\n",
       "                          Deaths - Cause: Diarrheal diseases - Risk: Unsafe water source - Sex: Both - Age: Under 5 (Number)  \\\n",
       "Country Name                                                                                                                   \n",
       "South Sudan                                                            3846                                                    \n",
       "Burundi                                                               25183                                                    \n",
       "Somalia                                                               39752                                                    \n",
       "Central African Republic                                              24585                                                    \n",
       "Malawi                                                                13140                                                    \n",
       "\n",
       "                          Deaths - Cause: Diarrheal diseases - Risk: Zinc deficiency - Sex: Both - Age: Under 5 (Number)  \\\n",
       "Country Name                                                                                                               \n",
       "South Sudan                                                               6                                                \n",
       "Burundi                                                                 579                                                \n",
       "Somalia                                                                 349                                                \n",
       "Central African Republic                                                292                                                \n",
       "Malawi                                                                   48                                                \n",
       "\n",
       "                          Deaths - Cause: Diarrheal diseases - Risk: Low birth weight - Sex: Both - Age: Under 5 (Number)  \\\n",
       "Country Name                                                                                                                \n",
       "South Sudan                                                             235                                                 \n",
       "Burundi                                                                1730                                                 \n",
       "Somalia                                                                2150                                                 \n",
       "Central African Republic                                               1623                                                 \n",
       "Malawi                                                                  810                                                 \n",
       "\n",
       "                          Deaths - Cause: Diarrheal diseases - Risk: Short gestation - Sex: Both - Age: Under 5 (Number)  \\\n",
       "Country Name                                                                                                               \n",
       "South Sudan                                                             170                                                \n",
       "Burundi                                                                1303                                                \n",
       "Somalia                                                                2265                                                \n",
       "Central African Republic                                               1184                                                \n",
       "Malawi                                                                  653                                                \n",
       "\n",
       "                          Deaths - Cause: Diarrheal diseases - Risk: Unsafe sanitation - Sex: Both - Age: Under 5 (Number)  \\\n",
       "Country Name                                                                                                                 \n",
       "South Sudan                                                            2925                                                  \n",
       "Burundi                                                               18743                                                  \n",
       "Somalia                                                               29777                                                  \n",
       "Central African Republic                                              18429                                                  \n",
       "Malawi                                                                 9743                                                  \n",
       "\n",
       "                          Deaths - Cause: Diarrheal diseases - Risk: Vitamin A deficiency - Sex: Both - Age: Under 5 (Number)  \\\n",
       "Country Name                                                                                                                    \n",
       "South Sudan                                                             166                                                     \n",
       "Burundi                                                                1082                                                     \n",
       "Somalia                                                                3785                                                     \n",
       "Central African Republic                                               1814                                                     \n",
       "Malawi                                                                  620                                                     \n",
       "\n",
       "                          Total Deaths  GDP per capita (US$)  \n",
       "Country Name                                                  \n",
       "South Sudan                      13296           1119.651437  \n",
       "Burundi                          83951           1269.574407  \n",
       "Somalia                         143322           1969.949483  \n",
       "Central African Republic         84715           2174.586588  \n",
       "Malawi                           43009           2338.952812  "
      ]
     },
     "execution_count": 115,
     "metadata": {},
     "output_type": "execute_result"
    }
   ],
   "source": [
    "low_gdp = group_all.copy()\n",
    "low_gdp_s = low_gdp.sort_values([\"GDP per capita (US$)\"])\n",
    "low = low_gdp_s.head(5)\n",
    "low"
   ]
  },
  {
   "cell_type": "code",
   "execution_count": 128,
   "id": "4d567061",
   "metadata": {},
   "outputs": [
    {
     "name": "stdout",
     "output_type": "stream",
     "text": [
      "The r-squared is: 0.10599800758248197\n"
     ]
    },
    {
     "data": {
      "image/png": "[encoded data removed]",
      "text/plain": [
       "<Figure size 432x288 with 1 Axes>"
      ]
     },
     "metadata": {
      "needs_background": "light"
     },
     "output_type": "display_data"
    }
   ],
   "source": [
    "plt.figure()\n",
    "plt.scatter(low[\"GDP per capita (US$)\"],low[\"Total Deaths\"], marker=\"o\", color=\"silver\")\n",
    "plt.title(\"GDP per Capita vs Total Diarrhea deaths Bottom 5\")\n",
    "plt.xlabel(\"Average GDP per Capita ($USD)\")\n",
    "plt.ylabel(\"Total Deaths\")\n",
    "plt.tight_layout()\n",
    "\n",
    "x_values = low[\"GDP per capita (US$)\"]\n",
    "y_values = low[\"Total Deaths\"]\n",
    "(slope, intercept, rvalue, pvalue, stderr) = linregress(x_values, y_values)\n",
    "regress_values = x_values * slope + intercept\n",
    "line_eq = \"y = \" + str(round(slope,2)) + \"x + \" + str(round(intercept,2))\n",
    "plt.scatter(x_values,y_values)\n",
    "plt.plot(x_values, regress_values,\"r-\")\n",
    "plt.annotate(line_eq,(1200, 40000),fontsize=15,color=\"red\")\n",
    "print(f\"The r-squared is: {rvalue**2}\")\n",
    "\n",
    "plt.savefig(\"../Visuals/Scatters/lowvGDP.png\")"
   ]
  },
  {
   "cell_type": "code",
   "execution_count": null,
   "id": "fe7d2c6d",
   "metadata": {},
   "outputs": [],
   "source": []
  },
  {
   "cell_type": "code",
   "execution_count": null,
   "id": "c12068dc",
   "metadata": {},
   "outputs": [],
   "source": []
  },
  {
   "cell_type": "code",
   "execution_count": null,
   "id": "fb3767b1",
   "metadata": {},
   "outputs": [],
   "source": []
  },
  {
   "cell_type": "code",
   "execution_count": null,
   "id": "4acfe481",
   "metadata": {},
   "outputs": [],
   "source": []
  },
  {
   "cell_type": "code",
   "execution_count": null,
   "id": "8e0b3fad",
   "metadata": {},
   "outputs": [],
   "source": []
  },
  {
   "cell_type": "code",
   "execution_count": null,
   "id": "1c33ee89",
   "metadata": {},
   "outputs": [],
   "source": []
  },
  {
   "cell_type": "code",
   "execution_count": null,
   "id": "5186c278",
   "metadata": {},
   "outputs": [],
   "source": []
  },
  {
   "cell_type": "code",
   "execution_count": null,
   "id": "8ad75a28",
   "metadata": {},
   "outputs": [],
   "source": []
  },
  {
   "cell_type": "code",
   "execution_count": null,
   "id": "5bb786b3",
   "metadata": {},
   "outputs": [],
   "source": []
  }
 ],
 "metadata": {
  "kernelspec": {
   "display_name": "Python [conda env:PythonData] *",
   "language": "python",
   "name": "conda-env-PythonData-py"
  },
  "language_info": {
   "codemirror_mode": {
    "name": "ipython",
    "version": 3
   },
   "file_extension": ".py",
   "mimetype": "text/x-python",
   "name": "python",
   "nbconvert_exporter": "python",
   "pygments_lexer": "ipython3",
   "version": "3.7.7"
  }
 },
 "nbformat": 4,
 "nbformat_minor": 5
}
