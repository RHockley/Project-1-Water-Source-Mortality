{
 "cells": [
  {
   "cell_type": "code",
   "execution_count": 4,
   "id": "030a57e4",
   "metadata": {},
   "outputs": [],
   "source": [
    "\n",
    "import pandas as pd"
   ]
  },
  {
   "cell_type": "code",
   "execution_count": 5,
   "id": "1804f19f",
   "metadata": {},
   "outputs": [
    {
     "data": {
      "text/html": [
       "<div>\n",
       "<style scoped>\n",
       "    .dataframe tbody tr th:only-of-type {\n",
       "        vertical-align: middle;\n",
       "    }\n",
       "\n",
       "    .dataframe tbody tr th {\n",
       "        vertical-align: top;\n",
       "    }\n",
       "\n",
       "    .dataframe thead th {\n",
       "        text-align: right;\n",
       "    }\n",
       "</style>\n",
       "<table border=\"1\" class=\"dataframe\">\n",
       "  <thead>\n",
       "    <tr style=\"text-align: right;\">\n",
       "      <th></th>\n",
       "      <th>Country Name</th>\n",
       "      <th>Country Code</th>\n",
       "      <th>2015</th>\n",
       "      <th>2016</th>\n",
       "      <th>2017</th>\n",
       "      <th>2018</th>\n",
       "      <th>2019</th>\n",
       "    </tr>\n",
       "  </thead>\n",
       "  <tbody>\n",
       "    <tr>\n",
       "      <th>0</th>\n",
       "      <td>Aruba</td>\n",
       "      <td>ABW</td>\n",
       "      <td>2.963128e+09</td>\n",
       "      <td>2.983799e+09</td>\n",
       "      <td>3.092179e+09</td>\n",
       "      <td>3.202235e+09</td>\n",
       "      <td>3.310056e+09</td>\n",
       "    </tr>\n",
       "    <tr>\n",
       "      <th>1</th>\n",
       "      <td>Africa Eastern and Southern</td>\n",
       "      <td>AFE</td>\n",
       "      <td>9.242530e+11</td>\n",
       "      <td>8.823550e+11</td>\n",
       "      <td>1.020650e+12</td>\n",
       "      <td>9.910220e+11</td>\n",
       "      <td>9.975340e+11</td>\n",
       "    </tr>\n",
       "    <tr>\n",
       "      <th>2</th>\n",
       "      <td>Afghanistan</td>\n",
       "      <td>AFG</td>\n",
       "      <td>1.913421e+10</td>\n",
       "      <td>1.811656e+10</td>\n",
       "      <td>1.875347e+10</td>\n",
       "      <td>1.805323e+10</td>\n",
       "      <td>1.879945e+10</td>\n",
       "    </tr>\n",
       "    <tr>\n",
       "      <th>3</th>\n",
       "      <td>Africa Western and Central</td>\n",
       "      <td>AFW</td>\n",
       "      <td>7.607340e+11</td>\n",
       "      <td>6.905460e+11</td>\n",
       "      <td>6.837490e+11</td>\n",
       "      <td>7.416900e+11</td>\n",
       "      <td>7.945430e+11</td>\n",
       "    </tr>\n",
       "    <tr>\n",
       "      <th>4</th>\n",
       "      <td>Angola</td>\n",
       "      <td>AGO</td>\n",
       "      <td>8.721929e+10</td>\n",
       "      <td>4.984049e+10</td>\n",
       "      <td>6.897276e+10</td>\n",
       "      <td>7.779294e+10</td>\n",
       "      <td>6.930910e+10</td>\n",
       "    </tr>\n",
       "  </tbody>\n",
       "</table>\n",
       "</div>"
      ],
      "text/plain": [
       "                  Country Name Country Code          2015          2016  \\\n",
       "0                        Aruba          ABW  2.963128e+09  2.983799e+09   \n",
       "1  Africa Eastern and Southern          AFE  9.242530e+11  8.823550e+11   \n",
       "2                  Afghanistan          AFG  1.913421e+10  1.811656e+10   \n",
       "3   Africa Western and Central          AFW  7.607340e+11  6.905460e+11   \n",
       "4                       Angola          AGO  8.721929e+10  4.984049e+10   \n",
       "\n",
       "           2017          2018          2019  \n",
       "0  3.092179e+09  3.202235e+09  3.310056e+09  \n",
       "1  1.020650e+12  9.910220e+11  9.975340e+11  \n",
       "2  1.875347e+10  1.805323e+10  1.879945e+10  \n",
       "3  6.837490e+11  7.416900e+11  7.945430e+11  \n",
       "4  6.897276e+10  7.779294e+10  6.930910e+10  "
      ]
     },
     "execution_count": 5,
     "metadata": {},
     "output_type": "execute_result"
    }
   ],
   "source": [
    "gdp = \"../sources/gdp_df.csv\"\n",
    "\n",
    "gdp_df = pd.read_csv(gdp)\n",
    "\n",
    "gdp_df.columns\n",
    "gdp_df.head()"
   ]
  },
  {
   "cell_type": "code",
   "execution_count": 8,
   "id": "3dccbd0b",
   "metadata": {},
   "outputs": [
    {
     "ename": "TypeError",
     "evalue": "'method' object is not subscriptable",
     "output_type": "error",
     "traceback": [
      "\u001b[1;31m---------------------------------------------------------------------------\u001b[0m",
      "\u001b[1;31mTypeError\u001b[0m                                 Traceback (most recent call last)",
      "\u001b[1;32m~\\AppData\\Local\\Temp\\ipykernel_1520\\2111879910.py\u001b[0m in \u001b[0;36m<module>\u001b[1;34m\u001b[0m\n\u001b[1;32m----> 1\u001b[1;33m \u001b[0mtrim_df\u001b[0m \u001b[1;33m=\u001b[0m \u001b[0mgdp_df\u001b[0m\u001b[1;33m.\u001b[0m\u001b[0mloc\u001b[0m\u001b[1;33m[\u001b[0m\u001b[0mgdp_df\u001b[0m\u001b[1;33m[\u001b[0m\u001b[1;34m\"Country Name\"\u001b[0m\u001b[1;33m]\u001b[0m\u001b[1;33m.\u001b[0m\u001b[0misin\u001b[0m\u001b[1;33m[\u001b[0m\u001b[1;33m(\u001b[0m\u001b[1;34m\"United States of America\"\u001b[0m\u001b[1;33m,\u001b[0m \u001b[1;34m\"China\"\u001b[0m\u001b[1;33m,\u001b[0m \u001b[1;34m\"Japan\"\u001b[0m\u001b[1;33m,\u001b[0m \u001b[1;34m\"Germany\"\u001b[0m\u001b[1;33m,\u001b[0m \u001b[1;34m\"Tuvalu\"\u001b[0m\u001b[1;33m,\u001b[0m \u001b[1;34m\"Nauru\"\u001b[0m\u001b[1;33m,\u001b[0m \u001b[1;34m\"Kiribati\"\u001b[0m\u001b[1;33m,\u001b[0m \u001b[1;34m\"Marshall Islands\"\u001b[0m\u001b[1;33m,\u001b[0m \u001b[1;34m\"Palau\"\u001b[0m\u001b[1;33m)\u001b[0m\u001b[1;33m]\u001b[0m\u001b[1;33m]\u001b[0m\u001b[1;33m\u001b[0m\u001b[1;33m\u001b[0m\u001b[0m\n\u001b[0m",
      "\u001b[1;31mTypeError\u001b[0m: 'method' object is not subscriptable"
     ]
    }
   ],
   "source": [
    "trim_df = gdp_df.loc[gdp_df[\"Country Name\"].isin[(\"United States of America\", \"China\", \"Japan\", \"Germany\", \"Tuvalu\", \"Nauru\", \"Kiribati\", \"Marshall Islands\", \"Palau\")]]\n"
   ]
  },
  {
   "cell_type": "code",
   "execution_count": 1,
   "id": "73ae4cd5",
   "metadata": {},
   "outputs": [
    {
     "ename": "SyntaxError",
     "evalue": "unexpected EOF while parsing (1024453472.py, line 1)",
     "output_type": "error",
     "traceback": [
      "\u001b[1;36m  File \u001b[1;32m\"C:\\Users\\danny\\AppData\\Local\\Temp\\ipykernel_1520\\1024453472.py\"\u001b[1;36m, line \u001b[1;32m1\u001b[0m\n\u001b[1;33m    data_file_df.loc[data_file_df[\"data_file_df\"].isin[(\"United States of America\", \"China\", \"Japan\", \"Germany\", \"Tuvalu\", \"Nauru\", \"Kiribati\", \"Marshall Islands\", \"Palau\")]\u001b[0m\n\u001b[1;37m                                                                                                                                                                             ^\u001b[0m\n\u001b[1;31mSyntaxError\u001b[0m\u001b[1;31m:\u001b[0m unexpected EOF while parsing\n"
     ]
    }
   ],
   "source": [
    "data_file_df.loc[data_file_df[\"data_file_df\"].isin[(\"United States of America\", \"China\", \"Japan\", \"Germany\", \"Tuvalu\", \"Nauru\", \"Kiribati\", \"Marshall Islands\", \"Palau\")]\n"
   ]
  },
  {
   "cell_type": "code",
   "execution_count": null,
   "id": "21c493b1",
   "metadata": {},
   "outputs": [],
   "source": []
  }
 ],
 "metadata": {
  "kernelspec": {
   "display_name": "Python [conda env:PythonData] *",
   "language": "python",
   "name": "conda-env-PythonData-py"
  },
  "language_info": {
   "codemirror_mode": {
    "name": "ipython",
    "version": 3
   },
   "file_extension": ".py",
   "mimetype": "text/x-python",
   "name": "python",
   "nbconvert_exporter": "python",
   "pygments_lexer": "ipython3",
   "version": "3.7.7"
  }
 },
 "nbformat": 4,
 "nbformat_minor": 5
}
