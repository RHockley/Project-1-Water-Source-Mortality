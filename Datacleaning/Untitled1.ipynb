{
 "cells": [
  {
   "cell_type": "code",
   "execution_count": null,
   "id": "656ba5b8",
   "metadata": {},
   "outputs": [],
   "source": [
    "# Dependencies and Setup\n",
    "\n",
    "import matplotlib.pyplot as plt\n",
    "import pandas as pd\n",
    "import scipy.stats as st\n",
    "import numpy as np"
   ]
  },
  {
   "cell_type": "code",
   "execution_count": null,
   "id": "c5977fb7",
   "metadata": {},
   "outputs": [],
   "source": [
    "# Study data files\n",
    "\n",
    "dirrahea_deaths_least_developed_tidy_path = \"../sources/dirrahea_deaths_least_developed_tidy.csv\"\n",
    "dirrahea_deaths_most_developed_tidy_path = \"../sources/dirrahea_deaths_most_developed_tidy.csv\""
   ]
  },
  {
   "cell_type": "code",
   "execution_count": null,
   "id": "0a146662",
   "metadata": {},
   "outputs": [],
   "source": [
    "# Read the data and the study results\n",
    "\n",
    "dirrahea_deaths_least_developed_tidy = pd.read_csv(dirrahea_deaths_least_developed_tidy_path)\n",
    "dirrahea_deaths_most_developed_tidy = pd.read_csv(dirrahea_deaths_most_developed_tidy_path)"
   ]
  },
  {
   "cell_type": "code",
   "execution_count": null,
   "id": "af1bfe6e",
   "metadata": {},
   "outputs": [],
   "source": []
  },
  {
   "cell_type": "code",
   "execution_count": null,
   "id": "8a87dabc",
   "metadata": {},
   "outputs": [],
   "source": []
  },
  {
   "cell_type": "code",
   "execution_count": null,
   "id": "8b162769",
   "metadata": {},
   "outputs": [],
   "source": []
  },
  {
   "cell_type": "code",
   "execution_count": null,
   "id": "bdecfcf9",
   "metadata": {},
   "outputs": [],
   "source": []
  },
  {
   "cell_type": "code",
   "execution_count": null,
   "id": "0b6aa819",
   "metadata": {},
   "outputs": [],
   "source": [
    "# Dependencies and Setup\n",
    "\n",
    "import matplotlib.pyplot as plt\n",
    "import pandas as pd\n",
    "import scipy.stats as st\n",
    "import numpy as np\n",
    "\n",
    "\n",
    "# Study data files\n",
    "\n",
    "mouse_metadata_path = \"../data/Mouse_metadata.csv\"\n",
    "study_results_path = \"../data/Study_results.csv\"\n",
    "\n",
    "\n",
    "# Read the mouse data and the study results\n",
    "\n",
    "mouse_metadata = pd.read_csv(mouse_metadata_path)\n",
    "study_results = pd.read_csv(study_results_path)\n",
    "\n",
    "\n",
    "# Combine the data into a single dataset\n",
    "\n",
    "combined_dataset = pd.merge(mouse_metadata, study_results)\n",
    "\n",
    "\n",
    "# Display the data table for preview\n",
    "\n",
    "combined_dataset.head(20)"
   ]
  }
 ],
 "metadata": {
  "kernelspec": {
   "display_name": "Python [conda env:PythonData] *",
   "language": "python",
   "name": "conda-env-PythonData-py"
  },
  "language_info": {
   "codemirror_mode": {
    "name": "ipython",
    "version": 3
   },
   "file_extension": ".py",
   "mimetype": "text/x-python",
   "name": "python",
   "nbconvert_exporter": "python",
   "pygments_lexer": "ipython3",
   "version": "3.7.7"
  }
 },
 "nbformat": 4,
 "nbformat_minor": 5
}
