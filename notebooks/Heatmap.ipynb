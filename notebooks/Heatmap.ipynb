{
 "cells": [
  {
   "cell_type": "code",
   "execution_count": null,
   "id": "f5d8c8a0",
   "metadata": {},
   "outputs": [],
   "source": [
    "#notebook for creating\n",
    "#(1)a heatmap of the world with deaths caused by diarrhea\n",
    "#(2)adding location pins to heatmap of highest and lowest GDP countries"
   ]
  },
  {
   "cell_type": "code",
   "execution_count": 1,
   "id": "1399f852",
   "metadata": {},
   "outputs": [],
   "source": [
    "from config import gkey\n",
    "import gmaps\n",
    "import numpy as np\n",
    "import pandas as pd\n",
    "import requests\n",
    "import time\n",
    "from scipy.stats import linregress\n",
    "from matplotlib import pyplot as plt"
   ]
  },
  {
   "cell_type": "code",
   "execution_count": 2,
   "id": "9c2e5bb2",
   "metadata": {},
   "outputs": [],
   "source": [
    "#import csv with total diarrhea deaths for all countries\n",
    "df = pd.read_csv(\"../sources/resting_heart_rate.csv\")\n",
    "df.head()"
   ]
  },
  {
   "cell_type": "code",
   "execution_count": 3,
   "id": "c167c986",
   "metadata": {},
   "outputs": [],
   "source": [
    "#import locations of highest and lowest GDP countries\n",
    "#high: Monaco, Luxembourg, Bermuda, Switzerland, Norway \n",
    "#low: Madagascar, Mozambique, Malawi, Somalia, Burundi\n"
   ]
  },
  {
   "cell_type": "code",
   "execution_count": 4,
   "id": "66e031da",
   "metadata": {},
   "outputs": [],
   "source": [
    "#create heatmap\n",
    "#show fig"
   ]
  },
  {
   "cell_type": "code",
   "execution_count": 5,
   "id": "233c3b23",
   "metadata": {},
   "outputs": [],
   "source": [
    "#get location pins and add to heatmap\n",
    "#show fig"
   ]
  },
  {
   "cell_type": "code",
   "execution_count": null,
   "id": "89a14c99",
   "metadata": {},
   "outputs": [],
   "source": []
  }
 ],
 "metadata": {
  "kernelspec": {
   "display_name": "Python [conda env:PythonData] *",
   "language": "python",
   "name": "conda-env-PythonData-py"
  },
  "language_info": {
   "codemirror_mode": {
    "name": "ipython",
    "version": 3
   },
   "file_extension": ".py",
   "mimetype": "text/x-python",
   "name": "python",
   "nbconvert_exporter": "python",
   "pygments_lexer": "ipython3",
   "version": "3.7.13"
  }
 },
 "nbformat": 4,
 "nbformat_minor": 5
}
